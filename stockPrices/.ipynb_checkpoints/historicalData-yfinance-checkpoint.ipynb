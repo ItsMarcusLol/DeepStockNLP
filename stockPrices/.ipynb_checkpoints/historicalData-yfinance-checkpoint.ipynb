{
 "cells": [
  {
   "cell_type": "markdown",
   "metadata": {},
   "source": [
    "### Gets data using Google's ticker"
   ]
  },
  {
   "cell_type": "code",
   "execution_count": 3,
   "metadata": {},
   "outputs": [
    {
     "name": "stdout",
     "output_type": "stream",
     "text": [
      "               Open     High      Low    Close    Volume  Dividends  \\\n",
      "Date                                                                  \n",
      "2004-08-19    50.05    52.08    48.03    50.22  44659000          0   \n",
      "2004-08-20    50.56    54.59    50.30    54.21  22834300          0   \n",
      "2004-08-23    55.43    56.80    54.58    54.75  18256100          0   \n",
      "2004-08-24    55.68    55.86    51.84    52.49  15247300          0   \n",
      "2004-08-25    52.53    54.05    51.99    53.05   9188600          0   \n",
      "...             ...      ...      ...      ...       ...        ...   \n",
      "2020-12-11  1760.00  1777.31  1752.74  1774.80    931400          0   \n",
      "2020-12-14  1770.72  1789.80  1749.13  1752.26   1652500          0   \n",
      "2020-12-15  1759.86  1764.00  1741.67  1761.08   1068300          0   \n",
      "2020-12-16  1769.11  1769.11  1749.06  1757.19   1233100          0   \n",
      "2020-12-17  1763.93  1766.71  1737.19  1737.72   1037998          0   \n",
      "\n",
      "            Stock Splits  \n",
      "Date                      \n",
      "2004-08-19           0.0  \n",
      "2004-08-20           0.0  \n",
      "2004-08-23           0.0  \n",
      "2004-08-24           0.0  \n",
      "2004-08-25           0.0  \n",
      "...                  ...  \n",
      "2020-12-11           0.0  \n",
      "2020-12-14           0.0  \n",
      "2020-12-15           0.0  \n",
      "2020-12-16           0.0  \n",
      "2020-12-17           0.0  \n",
      "\n",
      "[4113 rows x 7 columns]\n"
     ]
    }
   ],
   "source": [
    "import yfinance as yf\n",
    "\n",
    "msft = yf.Ticker(\"GOOGL\")\n",
    "\n",
    "# get stock info\n",
    "msft.info\n",
    "\n",
    "# get historical market data\n",
    "hist = msft.history(period=\"max\")\n",
    "\n",
    "# show actions (dividends, splits)\n",
    "msft.actions\n",
    "\n",
    "# show dividends\n",
    "msft.dividends\n",
    "\n",
    "# show splits\n",
    "msft.splits\n",
    "\n",
    "# show financials\n",
    "msft.financials\n",
    "msft.quarterly_financials\n",
    "\n",
    "# show major holders\n",
    "msft.major_holders\n",
    "\n",
    "# show institutional holders\n",
    "msft.institutional_holders\n",
    "\n",
    "# show balance sheet\n",
    "msft.balance_sheet\n",
    "msft.quarterly_balance_sheet\n",
    "\n",
    "# show cashflow\n",
    "msft.cashflow\n",
    "msft.quarterly_cashflow\n",
    "\n",
    "# show earnings\n",
    "msft.earnings\n",
    "msft.quarterly_earnings\n",
    "\n",
    "# show sustainability\n",
    "msft.sustainability\n",
    "\n",
    "# show analysts recommendations\n",
    "msft.recommendations\n",
    "\n",
    "# show next event (earnings, etc)\n",
    "msft.calendar\n",
    "\n",
    "# show ISIN code - *experimental*\n",
    "# ISIN = International Securities Identification Number\n",
    "msft.isin\n",
    "\n",
    "# show options expirations\n",
    "msft.options\n",
    "\n",
    "# get option chain for specific expiration\n",
    "opt = msft.option_chain('2020-12-17')\n",
    "# data available via: opt.calls, opt.puts\n",
    "\n",
    "# prints the max history of google\n",
    "print(hist)"
   ]
  },
  {
   "cell_type": "markdown",
   "metadata": {},
   "source": [
    "### Gets the data for Apple and Google using their tickers"
   ]
  },
  {
   "cell_type": "code",
   "execution_count": 2,
   "metadata": {},
   "outputs": [
    {
     "name": "stdout",
     "output_type": "stream",
     "text": [
      "[*********************100%***********************]  1 of 1 completed\n"
     ]
    }
   ],
   "source": [
    "import yfinance as yf\n",
    "\n",
    "data = yf.download(\"GOOGL\", start=\"2017-12-01\", end=\"2021-02-22\")"
   ]
  },
  {
   "cell_type": "markdown",
   "metadata": {},
   "source": [
    "### Gets the data for Google's stock (close, open, high, low)"
   ]
  },
  {
   "cell_type": "code",
   "execution_count": 8,
   "metadata": {
    "scrolled": true
   },
   "outputs": [
    {
     "name": "stdout",
     "output_type": "stream",
     "text": [
      "                   Open         High          Low        Close    Adj Close  \\\n",
      "Date                                                                          \n",
      "2017-12-01  1030.410034  1037.239990  1016.900024  1025.069946  1025.069946   \n",
      "2017-12-04  1027.800049  1031.339966  1009.219971  1011.869995  1011.869995   \n",
      "2017-12-05  1010.989990  1036.680054  1002.320007  1019.599976  1019.599976   \n",
      "2017-12-06  1016.520020  1039.579956  1015.309998  1032.719971  1032.719971   \n",
      "2017-12-07  1036.069946  1048.920044  1035.359985  1044.569946  1044.569946   \n",
      "...                 ...          ...          ...          ...          ...   \n",
      "2021-02-12  2079.770020  2099.500000  2073.570068  2095.030029  2095.030029   \n",
      "2021-02-16  2091.750000  2145.139893  2091.750000  2110.699951  2110.699951   \n",
      "2021-02-17  2093.979980  2122.439941  2088.350098  2118.620117  2118.620117   \n",
      "2021-02-18  2105.000000  2121.989990  2093.330078  2105.810059  2105.810059   \n",
      "2021-02-19  2107.790039  2118.580078  2083.429932  2088.810059  2088.810059   \n",
      "\n",
      "             Volume  \n",
      "Date                 \n",
      "2017-12-01  1888100  \n",
      "2017-12-04  1938900  \n",
      "2017-12-05  1949900  \n",
      "2017-12-06  1435500  \n",
      "2017-12-07  1543300  \n",
      "...             ...  \n",
      "2021-02-12   948500  \n",
      "2021-02-16  1548900  \n",
      "2021-02-17  1014700  \n",
      "2021-02-18  1127300  \n",
      "2021-02-19  1866100  \n",
      "\n",
      "[809 rows x 6 columns]\n"
     ]
    }
   ],
   "source": [
    "# data['Close']['GOOGL']\n",
    "import pandas as pd\n",
    "print(data)\n",
    "frame = pd.DataFrame()\n",
    "df = pd.DataFrame(data, columns = [\"Date\", \"Open\", \"Close\"])\n",
    "df.to_csv('New_Raw_2018-2021_Prices.csv', index = False)"
   ]
  },
  {
   "cell_type": "code",
   "execution_count": 15,
   "metadata": {},
   "outputs": [
    {
     "data": {
      "text/plain": [
       "Date\n",
       "2005-01-03      98.798798\n",
       "2005-01-04     100.800804\n",
       "2005-01-05      96.821823\n",
       "2005-01-06      97.637634\n",
       "2005-01-07      95.415413\n",
       "                 ...     \n",
       "2019-12-24    1350.209961\n",
       "2019-12-26    1346.550049\n",
       "2019-12-27    1364.000000\n",
       "2019-12-30    1356.810059\n",
       "2019-12-31    1335.790039\n",
       "Name: GOOGL, Length: 3775, dtype: float64"
      ]
     },
     "execution_count": 15,
     "metadata": {},
     "output_type": "execute_result"
    }
   ],
   "source": [
    "data['Open']['GOOGL']"
   ]
  },
  {
   "cell_type": "code",
   "execution_count": 16,
   "metadata": {},
   "outputs": [
    {
     "data": {
      "text/plain": [
       "Date\n",
       "2005-01-03     101.921921\n",
       "2005-01-04     101.566566\n",
       "2005-01-05      98.548546\n",
       "2005-01-06      98.048050\n",
       "2005-01-07      97.222221\n",
       "                 ...     \n",
       "2019-12-24    1352.010010\n",
       "2019-12-26    1363.199951\n",
       "2019-12-27    1367.050049\n",
       "2019-12-30    1357.000000\n",
       "2019-12-31    1340.660034\n",
       "Name: GOOGL, Length: 3775, dtype: float64"
      ]
     },
     "execution_count": 16,
     "metadata": {},
     "output_type": "execute_result"
    }
   ],
   "source": [
    "data['High']['GOOGL']"
   ]
  },
  {
   "cell_type": "code",
   "execution_count": 17,
   "metadata": {},
   "outputs": [
    {
     "data": {
      "text/plain": [
       "Date\n",
       "2005-01-03      97.827827\n",
       "2005-01-04      96.836838\n",
       "2005-01-05      96.211212\n",
       "2005-01-06      93.953957\n",
       "2005-01-07      94.484482\n",
       "                 ...     \n",
       "2019-12-24    1344.170044\n",
       "2019-12-26    1345.510010\n",
       "2019-12-27    1353.000000\n",
       "2019-12-30    1337.839966\n",
       "2019-12-31    1332.130005\n",
       "Name: GOOGL, Length: 3775, dtype: float64"
      ]
     },
     "execution_count": 17,
     "metadata": {},
     "output_type": "execute_result"
    }
   ],
   "source": [
    "data['Low']['GOOGL']"
   ]
  },
  {
   "cell_type": "markdown",
   "metadata": {},
   "source": [
    "### Gets the data for Apple's stock (close, open, high, low)"
   ]
  },
  {
   "cell_type": "code",
   "execution_count": 9,
   "metadata": {},
   "outputs": [
    {
     "data": {
      "text/plain": [
       "Date\n",
       "2005-01-03     1.130179\n",
       "2005-01-04     1.141786\n",
       "2005-01-05     1.151786\n",
       "2005-01-06     1.152679\n",
       "2005-01-07     1.236607\n",
       "                ...    \n",
       "2019-12-24    71.067497\n",
       "2019-12-26    72.477501\n",
       "2019-12-27    72.449997\n",
       "2019-12-30    72.879997\n",
       "2019-12-31    73.412498\n",
       "Name: AAPL, Length: 3775, dtype: float64"
      ]
     },
     "execution_count": 9,
     "metadata": {},
     "output_type": "execute_result"
    }
   ],
   "source": [
    "data['Close']['AAPL']"
   ]
  },
  {
   "cell_type": "code",
   "execution_count": 10,
   "metadata": {},
   "outputs": [
    {
     "data": {
      "text/plain": [
       "Date\n",
       "2005-01-03     1.156786\n",
       "2005-01-04     1.139107\n",
       "2005-01-05     1.151071\n",
       "2005-01-06     1.154821\n",
       "2005-01-07     1.160714\n",
       "                ...    \n",
       "2019-12-24    71.172501\n",
       "2019-12-26    71.205002\n",
       "2019-12-27    72.779999\n",
       "2019-12-30    72.364998\n",
       "2019-12-31    72.482498\n",
       "Name: AAPL, Length: 3775, dtype: float64"
      ]
     },
     "execution_count": 10,
     "metadata": {},
     "output_type": "execute_result"
    }
   ],
   "source": [
    "data['Open']['AAPL']"
   ]
  },
  {
   "cell_type": "code",
   "execution_count": 11,
   "metadata": {},
   "outputs": [
    {
     "data": {
      "text/plain": [
       "Date\n",
       "2005-01-03     1.162679\n",
       "2005-01-04     1.169107\n",
       "2005-01-05     1.165179\n",
       "2005-01-06     1.159107\n",
       "2005-01-07     1.243393\n",
       "                ...    \n",
       "2019-12-24    71.222504\n",
       "2019-12-26    72.495003\n",
       "2019-12-27    73.492500\n",
       "2019-12-30    73.172501\n",
       "2019-12-31    73.419998\n",
       "Name: AAPL, Length: 3775, dtype: float64"
      ]
     },
     "execution_count": 11,
     "metadata": {},
     "output_type": "execute_result"
    }
   ],
   "source": [
    "data['High']['AAPL']"
   ]
  },
  {
   "cell_type": "code",
   "execution_count": 12,
   "metadata": {},
   "outputs": [
    {
     "data": {
      "text/plain": [
       "Date\n",
       "2005-01-03     1.117857\n",
       "2005-01-04     1.124464\n",
       "2005-01-05     1.143750\n",
       "2005-01-06     1.130893\n",
       "2005-01-07     1.156250\n",
       "                ...    \n",
       "2019-12-24    70.730003\n",
       "2019-12-26    71.175003\n",
       "2019-12-27    72.029999\n",
       "2019-12-30    71.305000\n",
       "2019-12-31    72.379997\n",
       "Name: AAPL, Length: 3775, dtype: float64"
      ]
     },
     "execution_count": 12,
     "metadata": {},
     "output_type": "execute_result"
    }
   ],
   "source": [
    "data['Low']['AAPL']"
   ]
  },
  {
   "cell_type": "markdown",
   "metadata": {},
   "source": [
    "### Gets the history of Google as far back as yfinance has"
   ]
  },
  {
   "cell_type": "code",
   "execution_count": 13,
   "metadata": {},
   "outputs": [
    {
     "name": "stdout",
     "output_type": "stream",
     "text": [
      "               Open     High      Low    Close    Volume  Dividends  \\\n",
      "Date                                                                  \n",
      "2004-08-19    50.05    52.08    48.03    50.22  44659000          0   \n",
      "2004-08-20    50.56    54.59    50.30    54.21  22834300          0   \n",
      "2004-08-23    55.43    56.80    54.58    54.75  18256100          0   \n",
      "2004-08-24    55.68    55.86    51.84    52.49  15247300          0   \n",
      "2004-08-25    52.53    54.05    51.99    53.05   9188600          0   \n",
      "...             ...      ...      ...      ...       ...        ...   \n",
      "2020-12-11  1760.00  1777.31  1752.74  1774.80    931400          0   \n",
      "2020-12-14  1770.72  1789.80  1749.13  1752.26   1652500          0   \n",
      "2020-12-15  1759.86  1764.00  1741.67  1761.08   1068300          0   \n",
      "2020-12-16  1769.11  1769.11  1749.06  1757.19   1233100          0   \n",
      "2020-12-17  1763.93  1766.71  1737.19  1737.50   1038597          0   \n",
      "\n",
      "            Stock Splits  \n",
      "Date                      \n",
      "2004-08-19           0.0  \n",
      "2004-08-20           0.0  \n",
      "2004-08-23           0.0  \n",
      "2004-08-24           0.0  \n",
      "2004-08-25           0.0  \n",
      "...                  ...  \n",
      "2020-12-11           0.0  \n",
      "2020-12-14           0.0  \n",
      "2020-12-15           0.0  \n",
      "2020-12-16           0.0  \n",
      "2020-12-17           0.0  \n",
      "\n",
      "[4113 rows x 7 columns]\n"
     ]
    }
   ],
   "source": [
    "hist = msft.history(period=\"max\")\n",
    "print(hist)"
   ]
  },
  {
   "cell_type": "markdown",
   "metadata": {},
   "source": [
    "### Gets the history of Google for one day"
   ]
  },
  {
   "cell_type": "code",
   "execution_count": 1,
   "metadata": {},
   "outputs": [
    {
     "ename": "NameError",
     "evalue": "name 'msft' is not defined",
     "output_type": "error",
     "traceback": [
      "\u001b[1;31m---------------------------------------------------------------------------\u001b[0m",
      "\u001b[1;31mNameError\u001b[0m                                 Traceback (most recent call last)",
      "\u001b[1;32m<ipython-input-1-9bf812545dbc>\u001b[0m in \u001b[0;36m<module>\u001b[1;34m\u001b[0m\n\u001b[1;32m----> 1\u001b[1;33m \u001b[0mhist\u001b[0m \u001b[1;33m=\u001b[0m \u001b[0mmsft\u001b[0m\u001b[1;33m.\u001b[0m\u001b[0mhistory\u001b[0m\u001b[1;33m(\u001b[0m\u001b[0mperiod\u001b[0m\u001b[1;33m=\u001b[0m\u001b[1;34m\"1d\"\u001b[0m\u001b[1;33m)\u001b[0m\u001b[1;33m\u001b[0m\u001b[1;33m\u001b[0m\u001b[0m\n\u001b[0m\u001b[0;32m      2\u001b[0m \u001b[0mprint\u001b[0m\u001b[1;33m(\u001b[0m\u001b[0mhist\u001b[0m\u001b[1;33m)\u001b[0m\u001b[1;33m\u001b[0m\u001b[1;33m\u001b[0m\u001b[0m\n",
      "\u001b[1;31mNameError\u001b[0m: name 'msft' is not defined"
     ]
    }
   ],
   "source": [
    "hist = msft.history(period=\"1d\")\n",
    "print(hist)"
   ]
  },
  {
   "cell_type": "code",
   "execution_count": null,
   "metadata": {},
   "outputs": [],
   "source": []
  }
 ],
 "metadata": {
  "kernelspec": {
   "display_name": "Python 3",
   "language": "python",
   "name": "python3"
  },
  "language_info": {
   "codemirror_mode": {
    "name": "ipython",
    "version": 3
   },
   "file_extension": ".py",
   "mimetype": "text/x-python",
   "name": "python",
   "nbconvert_exporter": "python",
   "pygments_lexer": "ipython3",
   "version": "3.8.3"
  }
 },
 "nbformat": 4,
 "nbformat_minor": 4
}
