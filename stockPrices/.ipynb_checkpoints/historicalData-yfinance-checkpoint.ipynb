{
 "cells": [
  {
   "cell_type": "markdown",
   "metadata": {},
   "source": [
    "### Gets data using GOOGL ticker"
   ]
  },
  {
   "cell_type": "code",
   "execution_count": 54,
   "metadata": {},
   "outputs": [
    {
     "name": "stdout",
     "output_type": "stream",
     "text": [
      "               Open     High      Low    Close   Volume  Dividends  \\\n",
      "Date                                                                 \n",
      "2020-10-19  1575.93  1583.89  1522.92  1529.95  1432879          0   \n",
      "\n",
      "            Stock Splits  \n",
      "Date                      \n",
      "2020-10-19             0  \n"
     ]
    }
   ],
   "source": [
    "import yfinance as yf\n",
    "\n",
    "msft = yf.Ticker(\"GOOGL\")\n",
    "\n",
    "# get stock info\n",
    "msft.info\n",
    "\n",
    "# get historical market data\n",
    "hist = msft.history(period=\"1d\")\n",
    "\n",
    "# show actions (dividends, splits)\n",
    "msft.actions\n",
    "\n",
    "# show dividends\n",
    "msft.dividends\n",
    "\n",
    "# show splits\n",
    "msft.splits\n",
    "\n",
    "# show financials\n",
    "msft.financials\n",
    "msft.quarterly_financials\n",
    "\n",
    "# show major holders\n",
    "msft.major_holders\n",
    "\n",
    "# show institutional holders\n",
    "msft.institutional_holders\n",
    "\n",
    "# show balance sheet\n",
    "msft.balance_sheet\n",
    "msft.quarterly_balance_sheet\n",
    "\n",
    "# show cashflow\n",
    "msft.cashflow\n",
    "msft.quarterly_cashflow\n",
    "\n",
    "# show earnings\n",
    "msft.earnings\n",
    "msft.quarterly_earnings\n",
    "\n",
    "# show sustainability\n",
    "msft.sustainability\n",
    "\n",
    "# show analysts recommendations\n",
    "msft.recommendations\n",
    "\n",
    "# show next event (earnings, etc)\n",
    "msft.calendar\n",
    "\n",
    "# show ISIN code - *experimental*\n",
    "# ISIN = International Securities Identification Number\n",
    "msft.isin\n",
    "\n",
    "# show options expirations\n",
    "msft.options\n",
    "\n",
    "# get option chain for specific expiration\n",
    "opt = msft.option_chain('2020-10-22')\n",
    "# data available via: opt.calls, opt.puts\n",
    "\n",
    "\n",
    "print(hist)"
   ]
  },
  {
   "cell_type": "markdown",
   "metadata": {},
   "source": [
    "### Gets the data for Apple and Google using their tickers"
   ]
  },
  {
   "cell_type": "code",
   "execution_count": 32,
   "metadata": {},
   "outputs": [
    {
     "name": "stdout",
     "output_type": "stream",
     "text": [
      "[*********************100%***********************]  3 of 3 completed\n"
     ]
    }
   ],
   "source": [
    "import yfinance as yf\n",
    "data = yf.download(\"AAPL GOOGL\", start=\"2005-01-01\", end=\"2020-01-01\")"
   ]
  },
  {
   "cell_type": "markdown",
   "metadata": {},
   "source": [
    "### Gets the data for Google's stock (high, low, open, close)"
   ]
  },
  {
   "cell_type": "code",
   "execution_count": 39,
   "metadata": {},
   "outputs": [],
   "source": [
    "googleClose = data['Close']['GOOGL']"
   ]
  },
  {
   "cell_type": "code",
   "execution_count": 40,
   "metadata": {},
   "outputs": [],
   "source": [
    "googleOpen = data['Open']['GOOGL']"
   ]
  },
  {
   "cell_type": "code",
   "execution_count": 41,
   "metadata": {},
   "outputs": [],
   "source": [
    "googleHigh = data['High']['GOOGL']"
   ]
  },
  {
   "cell_type": "code",
   "execution_count": 42,
   "metadata": {},
   "outputs": [],
   "source": [
    "googleLow = data['Low']['GOOGL']"
   ]
  },
  {
   "cell_type": "markdown",
   "metadata": {},
   "source": [
    "### Gets the data for Apple's stock (high, low, open, close)"
   ]
  },
  {
   "cell_type": "code",
   "execution_count": 18,
   "metadata": {},
   "outputs": [
    {
     "data": {
      "text/plain": [
       "Date\n",
       "2017-01-03    29.037500\n",
       "2017-01-04    29.004999\n",
       "2017-01-05    29.152500\n",
       "2017-01-06    29.477501\n",
       "2017-01-09    29.747499\n",
       "                ...    \n",
       "2020-04-23    68.757500\n",
       "2020-04-24    70.742500\n",
       "2020-04-27    70.792503\n",
       "2020-04-28    69.644997\n",
       "2020-04-29    71.932503\n",
       "Name: AAPL, Length: 836, dtype: float64"
      ]
     },
     "execution_count": 18,
     "metadata": {},
     "output_type": "execute_result"
    }
   ],
   "source": [
    "data['Close']['AAPL']"
   ]
  },
  {
   "cell_type": "code",
   "execution_count": 19,
   "metadata": {},
   "outputs": [
    {
     "data": {
      "text/plain": [
       "Date\n",
       "2017-01-03    28.950001\n",
       "2017-01-04    28.962500\n",
       "2017-01-05    28.980000\n",
       "2017-01-06    29.195000\n",
       "2017-01-09    29.487499\n",
       "                ...    \n",
       "2020-04-23    68.967499\n",
       "2020-04-24    69.300003\n",
       "2020-04-27    70.449997\n",
       "2020-04-28    71.269997\n",
       "2020-04-29    71.182503\n",
       "Name: AAPL, Length: 836, dtype: float64"
      ]
     },
     "execution_count": 19,
     "metadata": {},
     "output_type": "execute_result"
    }
   ],
   "source": [
    "data['Open']['AAPL']"
   ]
  },
  {
   "cell_type": "code",
   "execution_count": 20,
   "metadata": {},
   "outputs": [
    {
     "data": {
      "text/plain": [
       "Date\n",
       "2017-01-03    29.082500\n",
       "2017-01-04    29.127501\n",
       "2017-01-05    29.215000\n",
       "2017-01-06    29.540001\n",
       "2017-01-09    29.857500\n",
       "                ...    \n",
       "2020-04-23    70.437500\n",
       "2020-04-24    70.752502\n",
       "2020-04-27    71.135002\n",
       "2020-04-28    71.457497\n",
       "2020-04-29    72.417503\n",
       "Name: AAPL, Length: 836, dtype: float64"
      ]
     },
     "execution_count": 20,
     "metadata": {},
     "output_type": "execute_result"
    }
   ],
   "source": [
    "data['High']['AAPL']"
   ]
  },
  {
   "cell_type": "code",
   "execution_count": 21,
   "metadata": {},
   "outputs": [
    {
     "data": {
      "text/plain": [
       "Date\n",
       "2017-01-03    28.690001\n",
       "2017-01-04    28.937500\n",
       "2017-01-05    28.952499\n",
       "2017-01-06    29.117500\n",
       "2017-01-09    29.485001\n",
       "                ...    \n",
       "2020-04-23    68.717499\n",
       "2020-04-24    69.250000\n",
       "2020-04-27    69.987503\n",
       "2020-04-28    69.550003\n",
       "2020-04-29    70.972504\n",
       "Name: AAPL, Length: 836, dtype: float64"
      ]
     },
     "execution_count": 21,
     "metadata": {},
     "output_type": "execute_result"
    }
   ],
   "source": [
    "data['Low']['AAPL']"
   ]
  },
  {
   "cell_type": "code",
   "execution_count": 55,
   "metadata": {},
   "outputs": [
    {
     "name": "stdout",
     "output_type": "stream",
     "text": [
      "               Open     High      Low    Close    Volume  Dividends  \\\n",
      "Date                                                                  \n",
      "2004-08-19    50.05    52.08    48.03    50.22  44659000          0   \n",
      "2004-08-20    50.56    54.59    50.30    54.21  22834300          0   \n",
      "2004-08-23    55.43    56.80    54.58    54.75  18256100          0   \n",
      "2004-08-24    55.68    55.86    51.84    52.49  15247300          0   \n",
      "2004-08-25    52.53    54.05    51.99    53.05   9188600          0   \n",
      "...             ...      ...      ...      ...       ...        ...   \n",
      "2020-10-13  1577.01  1585.16  1558.63  1567.07   1953600          0   \n",
      "2020-10-14  1574.60  1583.85  1545.90  1563.44   1659200          0   \n",
      "2020-10-15  1544.50  1571.40  1541.13  1555.47   1560500          0   \n",
      "2020-10-16  1561.83  1577.71  1557.66  1567.70   1709700          0   \n",
      "2020-10-19  1575.93  1583.89  1522.92  1529.95   1432879          0   \n",
      "\n",
      "            Stock Splits  \n",
      "Date                      \n",
      "2004-08-19           0.0  \n",
      "2004-08-20           0.0  \n",
      "2004-08-23           0.0  \n",
      "2004-08-24           0.0  \n",
      "2004-08-25           0.0  \n",
      "...                  ...  \n",
      "2020-10-13           0.0  \n",
      "2020-10-14           0.0  \n",
      "2020-10-15           0.0  \n",
      "2020-10-16           0.0  \n",
      "2020-10-19           0.0  \n",
      "\n",
      "[4071 rows x 7 columns]\n"
     ]
    }
   ],
   "source": [
    "hist = msft.history(period=\"max\")\n",
    "print(hist)"
   ]
  },
  {
   "cell_type": "code",
   "execution_count": 59,
   "metadata": {},
   "outputs": [
    {
     "ename": "TypeError",
     "evalue": "argument of type '_io.TextIOWrapper' is not iterable",
     "output_type": "error",
     "traceback": [
      "\u001b[0;31m---------------------------------------------------------------------------\u001b[0m",
      "\u001b[0;31mTypeError\u001b[0m                                 Traceback (most recent call last)",
      "\u001b[0;32m<ipython-input-59-5968380e0796>\u001b[0m in \u001b[0;36m<module>\u001b[0;34m\u001b[0m\n\u001b[1;32m      1\u001b[0m \u001b[0;32mimport\u001b[0m \u001b[0mcsv\u001b[0m\u001b[0;34m\u001b[0m\u001b[0;34m\u001b[0m\u001b[0m\n\u001b[1;32m      2\u001b[0m \u001b[0;34m\u001b[0m\u001b[0m\n\u001b[0;32m----> 3\u001b[0;31m \u001b[0;32mwith\u001b[0m \u001b[0mopen\u001b[0m\u001b[0;34m(\u001b[0m\u001b[0;34m'googleHistory.csv'\u001b[0m\u001b[0;34m,\u001b[0m\u001b[0;34m'w+'\u001b[0m\u001b[0;34m)\u001b[0m \u001b[0;32min\u001b[0m \u001b[0mmy_csv\u001b[0m\u001b[0;34m:\u001b[0m\u001b[0;34m\u001b[0m\u001b[0;34m\u001b[0m\u001b[0m\n\u001b[0m\u001b[1;32m      4\u001b[0m     \u001b[0mcsvWrite\u001b[0m \u001b[0;34m=\u001b[0m \u001b[0mcsv\u001b[0m\u001b[0;34m.\u001b[0m\u001b[0mwriter\u001b[0m\u001b[0;34m(\u001b[0m\u001b[0mmy_csv\u001b[0m\u001b[0;34m,\u001b[0m\u001b[0mdelimeter\u001b[0m\u001b[0;34m=\u001b[0m\u001b[0;34m\",\"\u001b[0m\u001b[0;34m)\u001b[0m\u001b[0;34m\u001b[0m\u001b[0;34m\u001b[0m\u001b[0m\n\u001b[1;32m      5\u001b[0m     \u001b[0mcsvWrite\u001b[0m\u001b[0;34m.\u001b[0m\u001b[0mwriterows\u001b[0m\u001b[0;34m(\u001b[0m\u001b[0mhist\u001b[0m\u001b[0;34m)\u001b[0m\u001b[0;34m\u001b[0m\u001b[0;34m\u001b[0m\u001b[0m\n",
      "\u001b[0;31mTypeError\u001b[0m: argument of type '_io.TextIOWrapper' is not iterable"
     ]
    }
   ],
   "source": [
    "import csv\n",
    "\n",
    "with open('googleHistory.csv','w+') in my_csv:\n",
    "    csvWrite = csv.writer(my_csv,delimeter=\",\")\n",
    "    csvWrite.writerows(hist)"
   ]
  },
  {
   "cell_type": "code",
   "execution_count": null,
   "metadata": {},
   "outputs": [],
   "source": []
  }
 ],
 "metadata": {
  "kernelspec": {
   "display_name": "Python 3",
   "language": "python",
   "name": "python3"
  },
  "language_info": {
   "codemirror_mode": {
    "name": "ipython",
    "version": 3
   },
   "file_extension": ".py",
   "mimetype": "text/x-python",
   "name": "python",
   "nbconvert_exporter": "python",
   "pygments_lexer": "ipython3",
   "version": "3.7.6"
  }
 },
 "nbformat": 4,
 "nbformat_minor": 4
}
