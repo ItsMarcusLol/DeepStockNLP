{
 "cells": [
  {
   "cell_type": "markdown",
   "metadata": {},
   "source": [
    "### Gets data using Google's ticker"
   ]
  },
  {
   "cell_type": "code",
   "execution_count": 3,
   "metadata": {},
   "outputs": [
    {
     "name": "stdout",
     "output_type": "stream",
     "text": [
      "               Open     High      Low    Close    Volume  Dividends  \\\n",
      "Date                                                                  \n",
      "2004-08-19    50.05    52.08    48.03    50.22  44659000          0   \n",
      "2004-08-20    50.56    54.59    50.30    54.21  22834300          0   \n",
      "2004-08-23    55.43    56.80    54.58    54.75  18256100          0   \n",
      "2004-08-24    55.68    55.86    51.84    52.49  15247300          0   \n",
      "2004-08-25    52.53    54.05    51.99    53.05   9188600          0   \n",
      "...             ...      ...      ...      ...       ...        ...   \n",
      "2020-12-11  1760.00  1777.31  1752.74  1774.80    931400          0   \n",
      "2020-12-14  1770.72  1789.80  1749.13  1752.26   1652500          0   \n",
      "2020-12-15  1759.86  1764.00  1741.67  1761.08   1068300          0   \n",
      "2020-12-16  1769.11  1769.11  1749.06  1757.19   1233100          0   \n",
      "2020-12-17  1763.93  1766.71  1737.19  1737.72   1037998          0   \n",
      "\n",
      "            Stock Splits  \n",
      "Date                      \n",
      "2004-08-19           0.0  \n",
      "2004-08-20           0.0  \n",
      "2004-08-23           0.0  \n",
      "2004-08-24           0.0  \n",
      "2004-08-25           0.0  \n",
      "...                  ...  \n",
      "2020-12-11           0.0  \n",
      "2020-12-14           0.0  \n",
      "2020-12-15           0.0  \n",
      "2020-12-16           0.0  \n",
      "2020-12-17           0.0  \n",
      "\n",
      "[4113 rows x 7 columns]\n"
     ]
    }
   ],
   "source": [
    "import yfinance as yf\n",
    "\n",
    "msft = yf.Ticker(\"GOOGL\")\n",
    "\n",
    "# get stock info\n",
    "msft.info\n",
    "\n",
    "# get historical market data\n",
    "hist = msft.history(period=\"max\")\n",
    "\n",
    "# show actions (dividends, splits)\n",
    "msft.actions\n",
    "\n",
    "# show dividends\n",
    "msft.dividends\n",
    "\n",
    "# show splits\n",
    "msft.splits\n",
    "\n",
    "# show financials\n",
    "msft.financials\n",
    "msft.quarterly_financials\n",
    "\n",
    "# show major holders\n",
    "msft.major_holders\n",
    "\n",
    "# show institutional holders\n",
    "msft.institutional_holders\n",
    "\n",
    "# show balance sheet\n",
    "msft.balance_sheet\n",
    "msft.quarterly_balance_sheet\n",
    "\n",
    "# show cashflow\n",
    "msft.cashflow\n",
    "msft.quarterly_cashflow\n",
    "\n",
    "# show earnings\n",
    "msft.earnings\n",
    "msft.quarterly_earnings\n",
    "\n",
    "# show sustainability\n",
    "msft.sustainability\n",
    "\n",
    "# show analysts recommendations\n",
    "msft.recommendations\n",
    "\n",
    "# show next event (earnings, etc)\n",
    "msft.calendar\n",
    "\n",
    "# show ISIN code - *experimental*\n",
    "# ISIN = International Securities Identification Number\n",
    "msft.isin\n",
    "\n",
    "# show options expirations\n",
    "msft.options\n",
    "\n",
    "# get option chain for specific expiration\n",
    "opt = msft.option_chain('2020-12-17')\n",
    "# data available via: opt.calls, opt.puts\n",
    "\n",
    "# prints the max history of google\n",
    "print(hist)"
   ]
  },
  {
   "cell_type": "markdown",
   "metadata": {},
   "source": [
    "### Gets the data for Apple and Google using their tickers"
   ]
  },
  {
   "cell_type": "code",
   "execution_count": 4,
   "metadata": {},
   "outputs": [
    {
     "name": "stdout",
     "output_type": "stream",
     "text": [
      "[*********************100%***********************]  2 of 2 completed\n"
     ]
    }
   ],
   "source": [
    "import yfinance as yf\n",
    "data = yf.download(\"AAPL GOOGL\", start=\"2005-01-01\", end=\"2020-01-01\")"
   ]
  },
  {
   "cell_type": "markdown",
   "metadata": {},
   "source": [
    "### Gets the data for Google's stock (close, open, high, low)"
   ]
  },
  {
   "cell_type": "code",
   "execution_count": 14,
   "metadata": {},
   "outputs": [
    {
     "data": {
      "text/plain": [
       "Date\n",
       "2005-01-03     101.456459\n",
       "2005-01-04      97.347351\n",
       "2005-01-05      96.851852\n",
       "2005-01-06      94.369370\n",
       "2005-01-07      97.022018\n",
       "                 ...     \n",
       "2019-12-24    1344.430054\n",
       "2019-12-26    1362.469971\n",
       "2019-12-27    1354.640015\n",
       "2019-12-30    1339.709961\n",
       "2019-12-31    1339.390015\n",
       "Name: GOOGL, Length: 3775, dtype: float64"
      ]
     },
     "execution_count": 14,
     "metadata": {},
     "output_type": "execute_result"
    }
   ],
   "source": [
    "data['Close']['GOOGL']"
   ]
  },
  {
   "cell_type": "code",
   "execution_count": 15,
   "metadata": {},
   "outputs": [
    {
     "data": {
      "text/plain": [
       "Date\n",
       "2005-01-03      98.798798\n",
       "2005-01-04     100.800804\n",
       "2005-01-05      96.821823\n",
       "2005-01-06      97.637634\n",
       "2005-01-07      95.415413\n",
       "                 ...     \n",
       "2019-12-24    1350.209961\n",
       "2019-12-26    1346.550049\n",
       "2019-12-27    1364.000000\n",
       "2019-12-30    1356.810059\n",
       "2019-12-31    1335.790039\n",
       "Name: GOOGL, Length: 3775, dtype: float64"
      ]
     },
     "execution_count": 15,
     "metadata": {},
     "output_type": "execute_result"
    }
   ],
   "source": [
    "data['Open']['GOOGL']"
   ]
  },
  {
   "cell_type": "code",
   "execution_count": 16,
   "metadata": {},
   "outputs": [
    {
     "data": {
      "text/plain": [
       "Date\n",
       "2005-01-03     101.921921\n",
       "2005-01-04     101.566566\n",
       "2005-01-05      98.548546\n",
       "2005-01-06      98.048050\n",
       "2005-01-07      97.222221\n",
       "                 ...     \n",
       "2019-12-24    1352.010010\n",
       "2019-12-26    1363.199951\n",
       "2019-12-27    1367.050049\n",
       "2019-12-30    1357.000000\n",
       "2019-12-31    1340.660034\n",
       "Name: GOOGL, Length: 3775, dtype: float64"
      ]
     },
     "execution_count": 16,
     "metadata": {},
     "output_type": "execute_result"
    }
   ],
   "source": [
    "data['High']['GOOGL']"
   ]
  },
  {
   "cell_type": "code",
   "execution_count": 17,
   "metadata": {},
   "outputs": [
    {
     "data": {
      "text/plain": [
       "Date\n",
       "2005-01-03      97.827827\n",
       "2005-01-04      96.836838\n",
       "2005-01-05      96.211212\n",
       "2005-01-06      93.953957\n",
       "2005-01-07      94.484482\n",
       "                 ...     \n",
       "2019-12-24    1344.170044\n",
       "2019-12-26    1345.510010\n",
       "2019-12-27    1353.000000\n",
       "2019-12-30    1337.839966\n",
       "2019-12-31    1332.130005\n",
       "Name: GOOGL, Length: 3775, dtype: float64"
      ]
     },
     "execution_count": 17,
     "metadata": {},
     "output_type": "execute_result"
    }
   ],
   "source": [
    "data['Low']['GOOGL']"
   ]
  },
  {
   "cell_type": "markdown",
   "metadata": {},
   "source": [
    "### Gets the data for Apple's stock (close, open, high, low)"
   ]
  },
  {
   "cell_type": "code",
   "execution_count": 9,
   "metadata": {},
   "outputs": [
    {
     "data": {
      "text/plain": [
       "Date\n",
       "2005-01-03     1.130179\n",
       "2005-01-04     1.141786\n",
       "2005-01-05     1.151786\n",
       "2005-01-06     1.152679\n",
       "2005-01-07     1.236607\n",
       "                ...    \n",
       "2019-12-24    71.067497\n",
       "2019-12-26    72.477501\n",
       "2019-12-27    72.449997\n",
       "2019-12-30    72.879997\n",
       "2019-12-31    73.412498\n",
       "Name: AAPL, Length: 3775, dtype: float64"
      ]
     },
     "execution_count": 9,
     "metadata": {},
     "output_type": "execute_result"
    }
   ],
   "source": [
    "data['Close']['AAPL']"
   ]
  },
  {
   "cell_type": "code",
   "execution_count": 10,
   "metadata": {},
   "outputs": [
    {
     "data": {
      "text/plain": [
       "Date\n",
       "2005-01-03     1.156786\n",
       "2005-01-04     1.139107\n",
       "2005-01-05     1.151071\n",
       "2005-01-06     1.154821\n",
       "2005-01-07     1.160714\n",
       "                ...    \n",
       "2019-12-24    71.172501\n",
       "2019-12-26    71.205002\n",
       "2019-12-27    72.779999\n",
       "2019-12-30    72.364998\n",
       "2019-12-31    72.482498\n",
       "Name: AAPL, Length: 3775, dtype: float64"
      ]
     },
     "execution_count": 10,
     "metadata": {},
     "output_type": "execute_result"
    }
   ],
   "source": [
    "data['Open']['AAPL']"
   ]
  },
  {
   "cell_type": "code",
   "execution_count": 11,
   "metadata": {},
   "outputs": [
    {
     "data": {
      "text/plain": [
       "Date\n",
       "2005-01-03     1.162679\n",
       "2005-01-04     1.169107\n",
       "2005-01-05     1.165179\n",
       "2005-01-06     1.159107\n",
       "2005-01-07     1.243393\n",
       "                ...    \n",
       "2019-12-24    71.222504\n",
       "2019-12-26    72.495003\n",
       "2019-12-27    73.492500\n",
       "2019-12-30    73.172501\n",
       "2019-12-31    73.419998\n",
       "Name: AAPL, Length: 3775, dtype: float64"
      ]
     },
     "execution_count": 11,
     "metadata": {},
     "output_type": "execute_result"
    }
   ],
   "source": [
    "data['High']['AAPL']"
   ]
  },
  {
   "cell_type": "code",
   "execution_count": 12,
   "metadata": {},
   "outputs": [
    {
     "data": {
      "text/plain": [
       "Date\n",
       "2005-01-03     1.117857\n",
       "2005-01-04     1.124464\n",
       "2005-01-05     1.143750\n",
       "2005-01-06     1.130893\n",
       "2005-01-07     1.156250\n",
       "                ...    \n",
       "2019-12-24    70.730003\n",
       "2019-12-26    71.175003\n",
       "2019-12-27    72.029999\n",
       "2019-12-30    71.305000\n",
       "2019-12-31    72.379997\n",
       "Name: AAPL, Length: 3775, dtype: float64"
      ]
     },
     "execution_count": 12,
     "metadata": {},
     "output_type": "execute_result"
    }
   ],
   "source": [
    "data['Low']['AAPL']"
   ]
  },
  {
   "cell_type": "markdown",
   "metadata": {},
   "source": [
    "### Gets the history of Google as far back as yfinance has"
   ]
  },
  {
   "cell_type": "code",
   "execution_count": 13,
   "metadata": {},
   "outputs": [
    {
     "name": "stdout",
     "output_type": "stream",
     "text": [
      "               Open     High      Low    Close    Volume  Dividends  \\\n",
      "Date                                                                  \n",
      "2004-08-19    50.05    52.08    48.03    50.22  44659000          0   \n",
      "2004-08-20    50.56    54.59    50.30    54.21  22834300          0   \n",
      "2004-08-23    55.43    56.80    54.58    54.75  18256100          0   \n",
      "2004-08-24    55.68    55.86    51.84    52.49  15247300          0   \n",
      "2004-08-25    52.53    54.05    51.99    53.05   9188600          0   \n",
      "...             ...      ...      ...      ...       ...        ...   \n",
      "2020-12-11  1760.00  1777.31  1752.74  1774.80    931400          0   \n",
      "2020-12-14  1770.72  1789.80  1749.13  1752.26   1652500          0   \n",
      "2020-12-15  1759.86  1764.00  1741.67  1761.08   1068300          0   \n",
      "2020-12-16  1769.11  1769.11  1749.06  1757.19   1233100          0   \n",
      "2020-12-17  1763.93  1766.71  1737.19  1737.50   1038597          0   \n",
      "\n",
      "            Stock Splits  \n",
      "Date                      \n",
      "2004-08-19           0.0  \n",
      "2004-08-20           0.0  \n",
      "2004-08-23           0.0  \n",
      "2004-08-24           0.0  \n",
      "2004-08-25           0.0  \n",
      "...                  ...  \n",
      "2020-12-11           0.0  \n",
      "2020-12-14           0.0  \n",
      "2020-12-15           0.0  \n",
      "2020-12-16           0.0  \n",
      "2020-12-17           0.0  \n",
      "\n",
      "[4113 rows x 7 columns]\n"
     ]
    }
   ],
   "source": [
    "hist = msft.history(period=\"max\")\n",
    "print(hist)"
   ]
  },
  {
   "cell_type": "markdown",
   "metadata": {},
   "source": [
    "### Gets the history of Google for one day"
   ]
  },
  {
   "cell_type": "code",
   "execution_count": 18,
   "metadata": {},
   "outputs": [
    {
     "name": "stdout",
     "output_type": "stream",
     "text": [
      "               Open     High      Low    Close   Volume  Dividends  \\\n",
      "Date                                                                 \n",
      "2020-12-17  1763.93  1766.71  1737.19  1738.35  1051736          0   \n",
      "\n",
      "            Stock Splits  \n",
      "Date                      \n",
      "2020-12-17             0  \n"
     ]
    }
   ],
   "source": [
    "hist = msft.history(period=\"1d\")\n",
    "print(hist)"
   ]
  },
  {
   "cell_type": "code",
   "execution_count": null,
   "metadata": {},
   "outputs": [],
   "source": []
  }
 ],
 "metadata": {
  "kernelspec": {
   "display_name": "Python 3",
   "language": "python",
   "name": "python3"
  },
  "language_info": {
   "codemirror_mode": {
    "name": "ipython",
    "version": 3
   },
   "file_extension": ".py",
   "mimetype": "text/x-python",
   "name": "python",
   "nbconvert_exporter": "python",
   "pygments_lexer": "ipython3",
   "version": "3.7.6"
  }
 },
 "nbformat": 4,
 "nbformat_minor": 4
}
