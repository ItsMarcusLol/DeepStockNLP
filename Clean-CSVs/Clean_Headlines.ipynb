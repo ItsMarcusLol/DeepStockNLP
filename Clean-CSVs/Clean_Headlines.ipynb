{
 "cells": [
  {
   "cell_type": "code",
   "execution_count": 124,
   "metadata": {},
   "outputs": [],
   "source": [
    "#This takes the prices csv and headlines csv and combines them based on date. this will then\n",
    "#create a csv with the date, price, last 10 days on trends, and headlines "
   ]
  },
  {
   "cell_type": "code",
   "execution_count": 125,
   "metadata": {},
   "outputs": [],
   "source": [
    "import pandas as pd\n",
    "import numpy as np\n",
    "from datetime import datetime"
   ]
  },
  {
   "cell_type": "code",
   "execution_count": 126,
   "metadata": {},
   "outputs": [],
   "source": [
    "#put in the csv of prices and the csv of the news headines\n",
    "# this will then create a csv with the date, price, last 10 days on trends, and headlines \n",
    "prices = pd.read_csv(r'C:\\Users\\dcard\\Cap-Repo\\DeepStockNLP\\Data\\18-20-csv\\N-2018-2021-prices.csv')\n",
    "news = pd.read_csv(r'C:\\Users\\dcard\\Cap-Repo\\DeepStockNLP\\Data\\18-20-csv\\GOOGL-Merged_2018-2021-2-22-21-Clean.csv')\n",
    "ouput_csv_name = \"2020-2021-input-2-22-21.csv\"\n",
    "year = 2020"
   ]
  },
  {
   "cell_type": "code",
   "execution_count": null,
   "metadata": {},
   "outputs": [],
   "source": []
  },
  {
   "cell_type": "code",
   "execution_count": 127,
   "metadata": {},
   "outputs": [],
   "source": [
    "#compares the dates in the two csv's and collects all the headlines for that day. \n",
    "#Also finds the difference in open and close prices, and catagorizes if went up or down\n",
    "def compare_dates_dfs(prices, news):\n",
    "    news_w_price = []\n",
    "    head_w_price = []\n",
    "    p = 0\n",
    "    h1 = []\n",
    "    for i in range(len(prices['Date'])):\n",
    "        h = []\n",
    "        for j in range(len(news['Date'])):\n",
    "            if prices['Date'][i] == news['Date'][j]:\n",
    "                if not news['Headline'][j].lower() in h:\n",
    "                    h.append( (str(news['Headline'][j])).lower())\n",
    "#             o =(prices['Open'][i])\n",
    "#             c = (prices['Close'][i])\n",
    "#             p = float(c) - float(o)\n",
    "#             if p >= 0:\n",
    "#                 p = 1\n",
    "#             else:\n",
    "#                 p = 0\n",
    "        d = datetime.strptime(prices['Date'][i], '%Y-%m-%d').date()\n",
    "        if d.year >= year:\n",
    "            news_w_price.append((prices['Date'][i], prices['Label'][i], prices['1'][i],prices['2'][i],prices['3'][i],prices['4'][i],prices['5'][i],prices['6'][i],prices['7'][i], prices['8'][i], prices['9'][i], prices['10'][i]))\n",
    "            h1.append(((h)))\n",
    "    return news_w_price, h1\n",
    "\n",
    "           "
   ]
  },
  {
   "cell_type": "code",
   "execution_count": 128,
   "metadata": {},
   "outputs": [],
   "source": [
    "#creates a df for the last ten days of trends\n",
    "def trend_df():\n",
    "    trend_10 = []\n",
    "    for i in range(len(prices['Date'])):\n",
    "        trend = []\n",
    "        j= 0\n",
    "        for j in range(len(prices.columns)-3):\n",
    "            trend.append(prices[str(j)][i])\n",
    "        trend_10.append(trend)\n",
    "    # dataframe for the past 10 days of specific date\n",
    "    dfT = pd.DataFrame(trend_10)\n",
    "    dfT.columns = ( \"1\", \"2\", \"3\", \"4\", \"5\", \"6\", \"7\", \"8\", \"9\", \"10\")\n",
    "    return dfT\n"
   ]
  },
  {
   "cell_type": "code",
   "execution_count": 129,
   "metadata": {},
   "outputs": [],
   "source": [
    "# creates an array for the column names, based off of which date has the most headlines\n",
    "def make_headline_col(news_head):\n",
    "    biggest = 0\n",
    "    for h in news_head:\n",
    "        if len(h) > biggest:\n",
    "            biggest = len(h)\n",
    "    col = []\n",
    "    i = 1\n",
    "    for i in range(biggest + 1):\n",
    "        if i != 0:\n",
    "            col.append(\"top\" + str(i))\n",
    "    return col"
   ]
  },
  {
   "cell_type": "code",
   "execution_count": 130,
   "metadata": {},
   "outputs": [
    {
     "name": "stdout",
     "output_type": "stream",
     "text": [
      "           Date  Label          1          2          3          4          5  \\\n",
      "0    2020-01-02      1   3.599976 -17.100098  -9.359985  15.919922  -5.779907   \n",
      "1    2020-01-03      1  20.270020   3.599976 -17.100098  -9.359985  15.919922   \n",
      "2    2020-01-06      1  13.520020  20.270020   3.599976 -17.100098  -9.359985   \n",
      "3    2020-01-07      0  46.180054  13.520020  20.270020   3.599976 -17.100098   \n",
      "4    2020-01-08      1  -5.349976  46.180054  13.520020  20.270020   3.599976   \n",
      "..          ...    ...        ...        ...        ...        ...        ...   \n",
      "281  2021-02-12      1  -2.250000   3.340088   0.589844 -15.479980  29.270020   \n",
      "282  2021-02-16      1  15.260010  -2.250000   3.340088   0.589844 -15.479980   \n",
      "283  2021-02-17      1  18.949951  15.260010  -2.250000   3.340088   0.589844   \n",
      "284  2021-02-18      1  24.640137  18.949951  15.260010  -2.250000   3.340088   \n",
      "285  2021-02-19      0   0.810059  24.640137  18.949951  15.260010  -2.250000   \n",
      "\n",
      "             6          7          8          9         10  \n",
      "0    -8.099976 -11.880005   4.529907  -5.089966  -7.520020  \n",
      "1    -5.779907  -8.099976 -11.880005   4.529907  -5.089966  \n",
      "2    15.919922  -5.779907  -8.099976 -11.880005   4.529907  \n",
      "3    -9.359985  15.919922  -5.779907  -8.099976 -11.880005  \n",
      "4   -17.100098  -9.359985  15.919922  -5.779907  -8.099976  \n",
      "..         ...        ...        ...        ...        ...  \n",
      "281  -6.990234  -6.730225   5.989990  48.479980  -6.660034  \n",
      "282  29.270020  -6.990234  -6.730225   5.989990  48.479980  \n",
      "283 -15.479980  29.270020  -6.990234  -6.730225   5.989990  \n",
      "284   0.589844 -15.479980  29.270020  -6.990234  -6.730225  \n",
      "285   3.340088   0.589844 -15.479980  29.270020  -6.990234  \n",
      "\n",
      "[286 rows x 12 columns]\n"
     ]
    }
   ],
   "source": [
    "#combines the data frames into the final data frame and returns it\n",
    "\n",
    "news_w_price, h1 = compare_dates_dfs(prices, news)\n",
    "col = make_headline_col(h1)\n",
    "#     frame = pd.DataFrame()\n",
    "df1 = pd.DataFrame(h1)\n",
    "df1.columns = (col)\n",
    "    #makes the price dataframe with the label 0 if price decreased and 1 if increased\n",
    "df = pd.DataFrame(news_w_price, columns = ['Date', 'Label', '1','2','3','4','5','6','7','8','9','10'])\n",
    "print(df)\n",
    "#     df5 = df.join(dfT)\n",
    "    #joins the two dataframes\n",
    "#     df3 =df1.join(df5)\n",
    "#     df4 = df5.join(df1)\n",
    "df4 = df.join(df1)\n",
    "    \n",
    "\n",
    "\n"
   ]
  },
  {
   "cell_type": "code",
   "execution_count": 131,
   "metadata": {},
   "outputs": [
    {
     "name": "stdout",
     "output_type": "stream",
     "text": [
      "           Date  Label          1          2          3          4          5  \\\n",
      "0    2020-01-02      1   3.599976 -17.100098  -9.359985  15.919922  -5.779907   \n",
      "1    2020-01-03      1  20.270020   3.599976 -17.100098  -9.359985  15.919922   \n",
      "2    2020-01-06      1  13.520020  20.270020   3.599976 -17.100098  -9.359985   \n",
      "3    2020-01-07      0  46.180054  13.520020  20.270020   3.599976 -17.100098   \n",
      "4    2020-01-08      1  -5.349976  46.180054  13.520020  20.270020   3.599976   \n",
      "..          ...    ...        ...        ...        ...        ...        ...   \n",
      "281  2021-02-12      1  -2.250000   3.340088   0.589844 -15.479980  29.270020   \n",
      "282  2021-02-16      1  15.260010  -2.250000   3.340088   0.589844 -15.479980   \n",
      "283  2021-02-17      1  18.949951  15.260010  -2.250000   3.340088   0.589844   \n",
      "284  2021-02-18      1  24.640137  18.949951  15.260010  -2.250000   3.340088   \n",
      "285  2021-02-19      0   0.810059  24.640137  18.949951  15.260010  -2.250000   \n",
      "\n",
      "             6          7          8  ...  top26  top27 top28 top29 top30  \\\n",
      "0    -8.099976 -11.880005   4.529907  ...   None   None  None  None  None   \n",
      "1    -5.779907  -8.099976 -11.880005  ...   None   None  None  None  None   \n",
      "2    15.919922  -5.779907  -8.099976  ...   None   None  None  None  None   \n",
      "3    -9.359985  15.919922  -5.779907  ...   None   None  None  None  None   \n",
      "4   -17.100098  -9.359985  15.919922  ...   None   None  None  None  None   \n",
      "..         ...        ...        ...  ...    ...    ...   ...   ...   ...   \n",
      "281  -6.990234  -6.730225   5.989990  ...   None   None  None  None  None   \n",
      "282  29.270020  -6.990234  -6.730225  ...   None   None  None  None  None   \n",
      "283 -15.479980  29.270020  -6.990234  ...   None   None  None  None  None   \n",
      "284   0.589844 -15.479980  29.270020  ...   None   None  None  None  None   \n",
      "285   3.340088   0.589844 -15.479980  ...   None   None  None  None  None   \n",
      "\n",
      "    top31 top32 top33 top34 top35  \n",
      "0    None  None  None  None  None  \n",
      "1    None  None  None  None  None  \n",
      "2    None  None  None  None  None  \n",
      "3    None  None  None  None  None  \n",
      "4    None  None  None  None  None  \n",
      "..    ...   ...   ...   ...   ...  \n",
      "281  None  None  None  None  None  \n",
      "282  None  None  None  None  None  \n",
      "283  None  None  None  None  None  \n",
      "284  None  None  None  None  None  \n",
      "285  None  None  None  None  None  \n",
      "\n",
      "[286 rows x 47 columns]\n"
     ]
    }
   ],
   "source": [
    "print(df4)\n"
   ]
  },
  {
   "cell_type": "code",
   "execution_count": 132,
   "metadata": {},
   "outputs": [],
   "source": [
    "# def combine_df(prices, news):\n",
    "# #     dfT = trend_df()\n",
    "#     news_w_price, h1 = compare_dates_dfs(prices, news)\n",
    "#     col = make_headline_col(h1)\n",
    "# #     frame = pd.DataFrame()\n",
    "#     df1 = pd.DataFrame(h1)\n",
    "#     df1.columns = (col)\n",
    "#     #makes the price dataframe with the label 0 if price decreased and 1 if increased\n",
    "#     df = pd.DataFrame(news_w_price, columns = [\"Date\", \"Label\", \"1\",\"2\",\"3\",\"4\",\"5\",\"6\",\"7\",\"8\",\"9\",\"10\"])\n",
    "#     print(df)\n",
    "# #     df5 = df.join(dfT)\n",
    "#     #joins the two dataframes\n",
    "# #     df3 =df1.join(df5)\n",
    "# #     df4 = df5.join(df1)\n",
    "#     df4 = df1.join(df)\n",
    "#     return df4"
   ]
  },
  {
   "cell_type": "code",
   "execution_count": 133,
   "metadata": {},
   "outputs": [],
   "source": [
    "# #df4 is the combined final data frame\n",
    "# df4 =combine_df(prices, news)\n"
   ]
  },
  {
   "cell_type": "code",
   "execution_count": 134,
   "metadata": {},
   "outputs": [
    {
     "name": "stdout",
     "output_type": "stream",
     "text": [
      "           Date  Label          1          2          3          4          5  \\\n",
      "0    2020-01-02      1   3.599976 -17.100098  -9.359985  15.919922  -5.779907   \n",
      "1    2020-01-03      1  20.270020   3.599976 -17.100098  -9.359985  15.919922   \n",
      "2    2020-01-06      1  13.520020  20.270020   3.599976 -17.100098  -9.359985   \n",
      "3    2020-01-07      0  46.180054  13.520020  20.270020   3.599976 -17.100098   \n",
      "4    2020-01-08      1  -5.349976  46.180054  13.520020  20.270020   3.599976   \n",
      "..          ...    ...        ...        ...        ...        ...        ...   \n",
      "281  2021-02-12      1  -2.250000   3.340088   0.589844 -15.479980  29.270020   \n",
      "282  2021-02-16      1  15.260010  -2.250000   3.340088   0.589844 -15.479980   \n",
      "283  2021-02-17      1  18.949951  15.260010  -2.250000   3.340088   0.589844   \n",
      "284  2021-02-18      1  24.640137  18.949951  15.260010  -2.250000   3.340088   \n",
      "285  2021-02-19      0   0.810059  24.640137  18.949951  15.260010  -2.250000   \n",
      "\n",
      "             6          7          8  ...  top26  top27 top28 top29 top30  \\\n",
      "0    -8.099976 -11.880005   4.529907  ...   None   None  None  None  None   \n",
      "1    -5.779907  -8.099976 -11.880005  ...   None   None  None  None  None   \n",
      "2    15.919922  -5.779907  -8.099976  ...   None   None  None  None  None   \n",
      "3    -9.359985  15.919922  -5.779907  ...   None   None  None  None  None   \n",
      "4   -17.100098  -9.359985  15.919922  ...   None   None  None  None  None   \n",
      "..         ...        ...        ...  ...    ...    ...   ...   ...   ...   \n",
      "281  -6.990234  -6.730225   5.989990  ...   None   None  None  None  None   \n",
      "282  29.270020  -6.990234  -6.730225  ...   None   None  None  None  None   \n",
      "283 -15.479980  29.270020  -6.990234  ...   None   None  None  None  None   \n",
      "284   0.589844 -15.479980  29.270020  ...   None   None  None  None  None   \n",
      "285   3.340088   0.589844 -15.479980  ...   None   None  None  None  None   \n",
      "\n",
      "    top31 top32 top33 top34 top35  \n",
      "0    None  None  None  None  None  \n",
      "1    None  None  None  None  None  \n",
      "2    None  None  None  None  None  \n",
      "3    None  None  None  None  None  \n",
      "4    None  None  None  None  None  \n",
      "..    ...   ...   ...   ...   ...  \n",
      "281  None  None  None  None  None  \n",
      "282  None  None  None  None  None  \n",
      "283  None  None  None  None  None  \n",
      "284  None  None  None  None  None  \n",
      "285  None  None  None  None  None  \n",
      "\n",
      "[286 rows x 47 columns]\n"
     ]
    }
   ],
   "source": [
    "print(df4)"
   ]
  },
  {
   "cell_type": "code",
   "execution_count": 135,
   "metadata": {},
   "outputs": [],
   "source": [
    "# converts data frame to a csv and downloads it\n",
    "df4.to_csv(ouput_csv_name, index = False)"
   ]
  },
  {
   "cell_type": "code",
   "execution_count": null,
   "metadata": {
    "scrolled": true
   },
   "outputs": [],
   "source": []
  },
  {
   "cell_type": "code",
   "execution_count": null,
   "metadata": {},
   "outputs": [],
   "source": []
  }
 ],
 "metadata": {
  "kernelspec": {
   "display_name": "Python 3",
   "language": "python",
   "name": "python3"
  },
  "language_info": {
   "codemirror_mode": {
    "name": "ipython",
    "version": 3
   },
   "file_extension": ".py",
   "mimetype": "text/x-python",
   "name": "python",
   "nbconvert_exporter": "python",
   "pygments_lexer": "ipython3",
   "version": "3.8.3"
  }
 },
 "nbformat": 4,
 "nbformat_minor": 4
}
