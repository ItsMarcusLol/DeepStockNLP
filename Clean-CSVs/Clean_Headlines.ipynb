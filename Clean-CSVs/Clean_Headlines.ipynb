{
 "cells": [
  {
   "cell_type": "code",
   "execution_count": 72,
   "metadata": {},
   "outputs": [],
   "source": [
    "#This takes the prices csv and headlines csv and combines them based on date. this will then\n",
    "#create a csv with the date, price, last 10 days on trends, and headlines "
   ]
  },
  {
   "cell_type": "code",
   "execution_count": 73,
   "metadata": {},
   "outputs": [],
   "source": [
    "import pandas as pd\n",
    "import numpy as np\n",
    "from datetime import datetime"
   ]
  },
  {
   "cell_type": "code",
   "execution_count": 74,
   "metadata": {},
   "outputs": [],
   "source": [
    "#put in the csv of prices and the csv of the news headines\n",
    "# this will then create a csv with the date, price, last 10 days on trends, and headlines \n",
    "prices = pd.read_csv(r'C:\\Users\\dcard\\Cap-Repo\\DeepStockNLP\\Data\\J-F-csv\\J-F-prices.csv')\n",
    "news = pd.read_csv(r'C:\\Users\\dcard\\Cap-Repo\\DeepStockNLP\\Data\\J-F-csv\\J-F_NYT_Filtered.csv')\n",
    "ouput_csv_name = \"J-F-N-input.csv\""
   ]
  },
  {
   "cell_type": "code",
   "execution_count": 75,
   "metadata": {},
   "outputs": [],
   "source": [
    "#compares the dates in the two csv's and collects all the headlines for that day. \n",
    "#Also finds the difference in open and close prices, and catagorizes if went up or down\n",
    "def compare_dates_dfs(prices, news):\n",
    "    news_w_price = []\n",
    "    head_w_price = []\n",
    "    p = 0\n",
    "    h1 = []\n",
    "    for i in range(len(prices['Date'])):\n",
    "        h = []\n",
    "        for j in range(len(news['Date'])):\n",
    "            if prices['Date'][i] == news['Date'][j]:\n",
    "                h.append( (str(news['Headline'][j])).lower())\n",
    "            o =(prices['Open'][i])\n",
    "            c = (prices['Close'][i])\n",
    "            p = float(c) - float(o)\n",
    "            if p >= 0:\n",
    "                p = 1\n",
    "            else:\n",
    "                p = 0\n",
    "        news_w_price.append((prices['Date'][i], p))\n",
    "        h1.append(((h)))\n",
    "    return news_w_price, h1\n",
    "\n",
    "           "
   ]
  },
  {
   "cell_type": "code",
   "execution_count": 76,
   "metadata": {},
   "outputs": [],
   "source": [
    "#creates a df for the last ten days of trends\n",
    "def trend_df():\n",
    "    trend_10 = []\n",
    "    for i in range(len(prices['Date'])):\n",
    "        trend = []\n",
    "        j= 0\n",
    "        for j in range(len(prices.columns)-3):\n",
    "            trend.append(prices[str(j)][i])\n",
    "        trend_10.append(trend)\n",
    "    # dataframe for the past 10 days of specific date\n",
    "    dfT = pd.DataFrame(trend_10)\n",
    "    dfT.columns = ( \"1\", \"2\", \"3\", \"4\", \"5\", \"6\", \"7\", \"8\", \"9\", \"10\")\n",
    "    return dfT\n"
   ]
  },
  {
   "cell_type": "code",
   "execution_count": 77,
   "metadata": {},
   "outputs": [],
   "source": [
    "# creates an array for the column names, based off of which date has the most headlines\n",
    "def make_headline_col(news_head):\n",
    "    biggest = 0\n",
    "    for h in news_head:\n",
    "        if len(h) > biggest:\n",
    "            biggest = len(h)\n",
    "    col = []\n",
    "    i = 1\n",
    "    for i in range(biggest + 1):\n",
    "        if i != 0:\n",
    "            col.append(\"top\" + str(i))\n",
    "    return col"
   ]
  },
  {
   "cell_type": "code",
   "execution_count": 78,
   "metadata": {},
   "outputs": [],
   "source": [
    "#combines the data frames into the final data frame and returns it\n",
    "def combine_df(prices, news):\n",
    "    dfT = trend_df()\n",
    "    news_w_price, h1 = compare_dates_dfs(prices, news)\n",
    "    col = make_headline_col(h1)\n",
    "    frame = pd.DataFrame()\n",
    "    df1 = pd.DataFrame(h1)\n",
    "    df1.columns = (col)\n",
    "    #makes the price dataframe with the label 0 if price decreased and 1 if increased\n",
    "    df = pd.DataFrame(news_w_price, columns = [\"Date\", \"Label\"])\n",
    "    df5 = df.join(dfT)\n",
    "    #joins the two dataframes\n",
    "    df3 =df1.join(df5)\n",
    "    df4 = df5.join(df1)\n",
    "    return df4\n",
    "\n",
    "\n"
   ]
  },
  {
   "cell_type": "code",
   "execution_count": 79,
   "metadata": {},
   "outputs": [],
   "source": [
    "#df4 is the combined final data frame\n",
    "df4 =combine_df(prices, news)\n"
   ]
  },
  {
   "cell_type": "code",
   "execution_count": 80,
   "metadata": {},
   "outputs": [
    {
     "ename": "NameError",
     "evalue": "name 'output_csv_name' is not defined",
     "output_type": "error",
     "traceback": [
      "\u001b[1;31m---------------------------------------------------------------------------\u001b[0m",
      "\u001b[1;31mNameError\u001b[0m                                 Traceback (most recent call last)",
      "\u001b[1;32m<ipython-input-80-42918c7f555c>\u001b[0m in \u001b[0;36m<module>\u001b[1;34m\u001b[0m\n\u001b[0;32m      1\u001b[0m \u001b[1;31m# converts data frame to a csv and downloads it\u001b[0m\u001b[1;33m\u001b[0m\u001b[1;33m\u001b[0m\u001b[1;33m\u001b[0m\u001b[0m\n\u001b[1;32m----> 2\u001b[1;33m \u001b[0mdf4\u001b[0m\u001b[1;33m.\u001b[0m\u001b[0mto_csv\u001b[0m\u001b[1;33m(\u001b[0m\u001b[0moutput_csv_name\u001b[0m\u001b[1;33m,\u001b[0m \u001b[0mindex\u001b[0m \u001b[1;33m=\u001b[0m \u001b[1;32mFalse\u001b[0m\u001b[1;33m)\u001b[0m\u001b[1;33m\u001b[0m\u001b[1;33m\u001b[0m\u001b[0m\n\u001b[0m",
      "\u001b[1;31mNameError\u001b[0m: name 'output_csv_name' is not defined"
     ]
    }
   ],
   "source": [
    "# converts data frame to a csv and downloads it\n",
    "df4.to_csv(ouput_csv_name, index = False)"
   ]
  },
  {
   "cell_type": "code",
   "execution_count": null,
   "metadata": {
    "scrolled": true
   },
   "outputs": [],
   "source": []
  },
  {
   "cell_type": "code",
   "execution_count": null,
   "metadata": {},
   "outputs": [],
   "source": []
  }
 ],
 "metadata": {
  "kernelspec": {
   "display_name": "Python 3",
   "language": "python",
   "name": "python3"
  },
  "language_info": {
   "codemirror_mode": {
    "name": "ipython",
    "version": 3
   },
   "file_extension": ".py",
   "mimetype": "text/x-python",
   "name": "python",
   "nbconvert_exporter": "python",
   "pygments_lexer": "ipython3",
   "version": "3.8.3"
  }
 },
 "nbformat": 4,
 "nbformat_minor": 4
}
