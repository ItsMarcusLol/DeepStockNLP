{
 "cells": [
  {
   "cell_type": "code",
   "execution_count": 22,
   "metadata": {},
   "outputs": [],
   "source": [
    "#This takes the prices csv and headlines csv and combines them based on date. this will then\n",
    "#create a csv with the date, price, last 10 days on trends, and headlines "
   ]
  },
  {
   "cell_type": "code",
   "execution_count": 23,
   "metadata": {},
   "outputs": [],
   "source": [
    "import pandas as pd\n",
    "import numpy as np\n",
    "from datetime import datetime"
   ]
  },
  {
   "cell_type": "code",
   "execution_count": 32,
   "metadata": {},
   "outputs": [],
   "source": [
    "#put in the csv of prices and the csv of the news headines\n",
    "# this will then create a csv with the date, price, last 10 days on trends, and headlines \n",
    "prices = pd.read_csv(r'C:\\Users\\dcard\\Cap-Repo\\DeepStockNLP\\Data\\18-20-csv\\N-2018-2021-prices.csv')\n",
    "news = pd.read_csv(r'C:\\Users\\dcard\\Cap-Repo\\DeepStockNLP\\Data\\18-20-csv\\GOOGL-Merged_2018-2021-2-22-21-Clean.csv')\n",
    "ouput_csv_name = \"2019-2021-input-2-22-21.csv\"\n",
    "year = 2019"
   ]
  },
  {
   "cell_type": "code",
   "execution_count": null,
   "metadata": {},
   "outputs": [],
   "source": []
  },
  {
   "cell_type": "code",
   "execution_count": 39,
   "metadata": {},
   "outputs": [],
   "source": [
    "#compares the dates in the two csv's and collects all the headlines for that day. \n",
    "#Also finds the difference in open and close prices, and catagorizes if went up or down\n",
    "def compare_dates_dfs(prices, news):\n",
    "    news_w_price = []\n",
    "    head_w_price = []\n",
    "    p = 0\n",
    "    h1 = []\n",
    "    for i in range(len(prices['Date'])):\n",
    "        h = []\n",
    "        for j in range(len(news['Date'])):\n",
    "            if prices['Date'][i] == news['Date'][j]:\n",
    "                if not news['Headline'][j].lower() in h:\n",
    "                    h.append( (str(news['Headline'][j])).lower())\n",
    "#             o =(prices['Open'][i])\n",
    "#             c = (prices['Close'][i])\n",
    "#             p = float(c) - float(o)\n",
    "#             if p >= 0:\n",
    "#                 p = 1\n",
    "#             else:\n",
    "#                 p = 0\n",
    "        d = datetime.strptime(prices['Date'][i], '%Y-%m-%d').date()\n",
    "        if d.year >= year:\n",
    "            news_w_price.append((prices['Date'][i], prices['Label'][i], prices['1'][i],prices['2'][i],prices['3'][i],prices['4'][i],prices['5'][i],prices['6'][i],prices['7'][i], prices['8'][i], prices['9'][i], prices['10'][i]))\n",
    "            h1.append(((h)))\n",
    "    return news_w_price, h1\n",
    "\n",
    "           "
   ]
  },
  {
   "cell_type": "code",
   "execution_count": 40,
   "metadata": {},
   "outputs": [],
   "source": [
    "#creates a df for the last ten days of trends\n",
    "def trend_df():\n",
    "    trend_10 = []\n",
    "    for i in range(len(prices['Date'])):\n",
    "        trend = []\n",
    "        j= 0\n",
    "        for j in range(len(prices.columns)-3):\n",
    "            trend.append(prices[str(j)][i])\n",
    "        trend_10.append(trend)\n",
    "    # dataframe for the past 10 days of specific date\n",
    "    dfT = pd.DataFrame(trend_10)\n",
    "    dfT.columns = ( \"1\", \"2\", \"3\", \"4\", \"5\", \"6\", \"7\", \"8\", \"9\", \"10\")\n",
    "    return dfT\n"
   ]
  },
  {
   "cell_type": "code",
   "execution_count": 41,
   "metadata": {},
   "outputs": [],
   "source": [
    "# creates an array for the column names, based off of which date has the most headlines\n",
    "def make_headline_col(news_head):\n",
    "    biggest = 0\n",
    "    for h in news_head:\n",
    "        if len(h) > biggest:\n",
    "            biggest = len(h)\n",
    "    col = []\n",
    "    i = 1\n",
    "    for i in range(biggest + 1):\n",
    "        if i != 0:\n",
    "            col.append(\"top\" + str(i))\n",
    "    return col"
   ]
  },
  {
   "cell_type": "code",
   "execution_count": 53,
   "metadata": {},
   "outputs": [
    {
     "name": "stdout",
     "output_type": "stream",
     "text": [
      "           Date      Label          1          2          3          4  \\\n",
      "0    2019-01-02  27.480103 -12.869995 -12.819946  26.700073  49.859985   \n",
      "1    2019-01-03 -25.200073  27.480103 -12.869995 -12.819946  26.700073   \n",
      "2    2019-01-04  35.509888 -25.200073  27.480103 -12.869995 -12.819946   \n",
      "3    2019-01-07  -5.049927  35.509888 -25.200073  27.480103 -12.869995   \n",
      "4    2019-01-08  -0.630005  -5.049927  35.509888 -25.200073  27.480103   \n",
      "..          ...        ...        ...        ...        ...        ...   \n",
      "533  2021-02-12  15.260010  -2.250000   3.340088   0.589844 -15.479980   \n",
      "534  2021-02-16  18.949951  15.260010  -2.250000   3.340088   0.589844   \n",
      "535  2021-02-17  24.640137  18.949951  15.260010  -2.250000   3.340088   \n",
      "536  2021-02-18   0.810059  24.640137  18.949951  15.260010  -2.250000   \n",
      "537  2021-02-19 -18.979980   0.810059  24.640137  18.949951  15.260010   \n",
      "\n",
      "             5          6          7          8          9         10  \n",
      "0     0.349976 -40.790039  -2.419983 -11.830078   9.410034 -21.359985  \n",
      "1    49.859985   0.349976 -40.790039  -2.419983 -11.830078   9.410034  \n",
      "2    26.700073  49.859985   0.349976 -40.790039  -2.419983 -11.830078  \n",
      "3   -12.819946  26.700073  49.859985   0.349976 -40.790039  -2.419983  \n",
      "4   -12.869995 -12.819946  26.700073  49.859985   0.349976 -40.790039  \n",
      "..         ...        ...        ...        ...        ...        ...  \n",
      "533  29.270020  -6.990234  -6.730225   5.989990  48.479980  -6.660034  \n",
      "534 -15.479980  29.270020  -6.990234  -6.730225   5.989990  48.479980  \n",
      "535   0.589844 -15.479980  29.270020  -6.990234  -6.730225   5.989990  \n",
      "536   3.340088   0.589844 -15.479980  29.270020  -6.990234  -6.730225  \n",
      "537  -2.250000   3.340088   0.589844 -15.479980  29.270020  -6.990234  \n",
      "\n",
      "[538 rows x 12 columns]\n"
     ]
    }
   ],
   "source": [
    "#combines the data frames into the final data frame and returns it\n",
    "\n",
    "news_w_price, h1 = compare_dates_dfs(prices, news)\n",
    "col = make_headline_col(h1)\n",
    "#     frame = pd.DataFrame()\n",
    "df1 = pd.DataFrame(h1)\n",
    "df1.columns = (col)\n",
    "    #makes the price dataframe with the label 0 if price decreased and 1 if increased\n",
    "df = pd.DataFrame(news_w_price, columns = [\"Date\", \"Label\", \"1\",\"2\",\"3\",\"4\",\"5\",\"6\",\"7\",\"8\",\"9\",\"10\"])\n",
    "print(df)\n",
    "#     df5 = df.join(dfT)\n",
    "    #joins the two dataframes\n",
    "#     df3 =df1.join(df5)\n",
    "#     df4 = df5.join(df1)\n",
    "df4 = df.join(df1)\n",
    "    \n",
    "\n",
    "\n"
   ]
  },
  {
   "cell_type": "code",
   "execution_count": 57,
   "metadata": {},
   "outputs": [
    {
     "name": "stdout",
     "output_type": "stream",
     "text": [
      "           Date      Label          1          2          3          4  \\\n",
      "0    2019-01-02  27.480103 -12.869995 -12.819946  26.700073  49.859985   \n",
      "1    2019-01-03 -25.200073  27.480103 -12.869995 -12.819946  26.700073   \n",
      "2    2019-01-04  35.509888 -25.200073  27.480103 -12.869995 -12.819946   \n",
      "3    2019-01-07  -5.049927  35.509888 -25.200073  27.480103 -12.869995   \n",
      "4    2019-01-08  -0.630005  -5.049927  35.509888 -25.200073  27.480103   \n",
      "..          ...        ...        ...        ...        ...        ...   \n",
      "533  2021-02-12  15.260010  -2.250000   3.340088   0.589844 -15.479980   \n",
      "534  2021-02-16  18.949951  15.260010  -2.250000   3.340088   0.589844   \n",
      "535  2021-02-17  24.640137  18.949951  15.260010  -2.250000   3.340088   \n",
      "536  2021-02-18   0.810059  24.640137  18.949951  15.260010  -2.250000   \n",
      "537  2021-02-19 -18.979980   0.810059  24.640137  18.949951  15.260010   \n",
      "\n",
      "             5          6          7          8  ...  top47  top48 top49  \\\n",
      "0     0.349976 -40.790039  -2.419983 -11.830078  ...   None   None  None   \n",
      "1    49.859985   0.349976 -40.790039  -2.419983  ...   None   None  None   \n",
      "2    26.700073  49.859985   0.349976 -40.790039  ...   None   None  None   \n",
      "3   -12.819946  26.700073  49.859985   0.349976  ...   None   None  None   \n",
      "4   -12.869995 -12.819946  26.700073  49.859985  ...   None   None  None   \n",
      "..         ...        ...        ...        ...  ...    ...    ...   ...   \n",
      "533  29.270020  -6.990234  -6.730225   5.989990  ...   None   None  None   \n",
      "534 -15.479980  29.270020  -6.990234  -6.730225  ...   None   None  None   \n",
      "535   0.589844 -15.479980  29.270020  -6.990234  ...   None   None  None   \n",
      "536   3.340088   0.589844 -15.479980  29.270020  ...   None   None  None   \n",
      "537  -2.250000   3.340088   0.589844 -15.479980  ...   None   None  None   \n",
      "\n",
      "    top50 top51 top52 top53 top54 top55 top56  \n",
      "0    None  None  None  None  None  None  None  \n",
      "1    None  None  None  None  None  None  None  \n",
      "2    None  None  None  None  None  None  None  \n",
      "3    None  None  None  None  None  None  None  \n",
      "4    None  None  None  None  None  None  None  \n",
      "..    ...   ...   ...   ...   ...   ...   ...  \n",
      "533  None  None  None  None  None  None  None  \n",
      "534  None  None  None  None  None  None  None  \n",
      "535  None  None  None  None  None  None  None  \n",
      "536  None  None  None  None  None  None  None  \n",
      "537  None  None  None  None  None  None  None  \n",
      "\n",
      "[538 rows x 68 columns]\n"
     ]
    }
   ],
   "source": [
    "print(df4)\n"
   ]
  },
  {
   "cell_type": "code",
   "execution_count": null,
   "metadata": {},
   "outputs": [],
   "source": [
    "# def combine_df(prices, news):\n",
    "# #     dfT = trend_df()\n",
    "#     news_w_price, h1 = compare_dates_dfs(prices, news)\n",
    "#     col = make_headline_col(h1)\n",
    "# #     frame = pd.DataFrame()\n",
    "#     df1 = pd.DataFrame(h1)\n",
    "#     df1.columns = (col)\n",
    "#     #makes the price dataframe with the label 0 if price decreased and 1 if increased\n",
    "#     df = pd.DataFrame(news_w_price, columns = [\"Date\", \"Label\", \"1\",\"2\",\"3\",\"4\",\"5\",\"6\",\"7\",\"8\",\"9\",\"10\"])\n",
    "#     print(df)\n",
    "# #     df5 = df.join(dfT)\n",
    "#     #joins the two dataframes\n",
    "# #     df3 =df1.join(df5)\n",
    "# #     df4 = df5.join(df1)\n",
    "#     df4 = df1.join(df)\n",
    "#     return df4"
   ]
  },
  {
   "cell_type": "code",
   "execution_count": 48,
   "metadata": {},
   "outputs": [
    {
     "ename": "KeyboardInterrupt",
     "evalue": "",
     "output_type": "error",
     "traceback": [
      "\u001b[1;31m---------------------------------------------------------------------------\u001b[0m",
      "\u001b[1;31mKeyboardInterrupt\u001b[0m                         Traceback (most recent call last)",
      "\u001b[1;32m<ipython-input-48-0d6183fdd52d>\u001b[0m in \u001b[0;36m<module>\u001b[1;34m\u001b[0m\n\u001b[0;32m      1\u001b[0m \u001b[1;31m#df4 is the combined final data frame\u001b[0m\u001b[1;33m\u001b[0m\u001b[1;33m\u001b[0m\u001b[1;33m\u001b[0m\u001b[0m\n\u001b[1;32m----> 2\u001b[1;33m \u001b[0mdf4\u001b[0m \u001b[1;33m=\u001b[0m\u001b[0mcombine_df\u001b[0m\u001b[1;33m(\u001b[0m\u001b[0mprices\u001b[0m\u001b[1;33m,\u001b[0m \u001b[0mnews\u001b[0m\u001b[1;33m)\u001b[0m\u001b[1;33m\u001b[0m\u001b[1;33m\u001b[0m\u001b[0m\n\u001b[0m",
      "\u001b[1;32m<ipython-input-47-08fe0813731c>\u001b[0m in \u001b[0;36mcombine_df\u001b[1;34m(prices, news)\u001b[0m\n\u001b[0;32m      2\u001b[0m \u001b[1;32mdef\u001b[0m \u001b[0mcombine_df\u001b[0m\u001b[1;33m(\u001b[0m\u001b[0mprices\u001b[0m\u001b[1;33m,\u001b[0m \u001b[0mnews\u001b[0m\u001b[1;33m)\u001b[0m\u001b[1;33m:\u001b[0m\u001b[1;33m\u001b[0m\u001b[1;33m\u001b[0m\u001b[0m\n\u001b[0;32m      3\u001b[0m \u001b[1;31m#     dfT = trend_df()\u001b[0m\u001b[1;33m\u001b[0m\u001b[1;33m\u001b[0m\u001b[1;33m\u001b[0m\u001b[0m\n\u001b[1;32m----> 4\u001b[1;33m     \u001b[0mnews_w_price\u001b[0m\u001b[1;33m,\u001b[0m \u001b[0mh1\u001b[0m \u001b[1;33m=\u001b[0m \u001b[0mcompare_dates_dfs\u001b[0m\u001b[1;33m(\u001b[0m\u001b[0mprices\u001b[0m\u001b[1;33m,\u001b[0m \u001b[0mnews\u001b[0m\u001b[1;33m)\u001b[0m\u001b[1;33m\u001b[0m\u001b[1;33m\u001b[0m\u001b[0m\n\u001b[0m\u001b[0;32m      5\u001b[0m     \u001b[0mcol\u001b[0m \u001b[1;33m=\u001b[0m \u001b[0mmake_headline_col\u001b[0m\u001b[1;33m(\u001b[0m\u001b[0mh1\u001b[0m\u001b[1;33m)\u001b[0m\u001b[1;33m\u001b[0m\u001b[1;33m\u001b[0m\u001b[0m\n\u001b[0;32m      6\u001b[0m \u001b[1;31m#     frame = pd.DataFrame()\u001b[0m\u001b[1;33m\u001b[0m\u001b[1;33m\u001b[0m\u001b[1;33m\u001b[0m\u001b[0m\n",
      "\u001b[1;32m<ipython-input-39-8dfff8add456>\u001b[0m in \u001b[0;36mcompare_dates_dfs\u001b[1;34m(prices, news)\u001b[0m\n\u001b[0;32m      9\u001b[0m         \u001b[0mh\u001b[0m \u001b[1;33m=\u001b[0m \u001b[1;33m[\u001b[0m\u001b[1;33m]\u001b[0m\u001b[1;33m\u001b[0m\u001b[1;33m\u001b[0m\u001b[0m\n\u001b[0;32m     10\u001b[0m         \u001b[1;32mfor\u001b[0m \u001b[0mj\u001b[0m \u001b[1;32min\u001b[0m \u001b[0mrange\u001b[0m\u001b[1;33m(\u001b[0m\u001b[0mlen\u001b[0m\u001b[1;33m(\u001b[0m\u001b[0mnews\u001b[0m\u001b[1;33m[\u001b[0m\u001b[1;34m'Date'\u001b[0m\u001b[1;33m]\u001b[0m\u001b[1;33m)\u001b[0m\u001b[1;33m)\u001b[0m\u001b[1;33m:\u001b[0m\u001b[1;33m\u001b[0m\u001b[1;33m\u001b[0m\u001b[0m\n\u001b[1;32m---> 11\u001b[1;33m             \u001b[1;32mif\u001b[0m \u001b[0mprices\u001b[0m\u001b[1;33m[\u001b[0m\u001b[1;34m'Date'\u001b[0m\u001b[1;33m]\u001b[0m\u001b[1;33m[\u001b[0m\u001b[0mi\u001b[0m\u001b[1;33m]\u001b[0m \u001b[1;33m==\u001b[0m \u001b[0mnews\u001b[0m\u001b[1;33m[\u001b[0m\u001b[1;34m'Date'\u001b[0m\u001b[1;33m]\u001b[0m\u001b[1;33m[\u001b[0m\u001b[0mj\u001b[0m\u001b[1;33m]\u001b[0m\u001b[1;33m:\u001b[0m\u001b[1;33m\u001b[0m\u001b[1;33m\u001b[0m\u001b[0m\n\u001b[0m\u001b[0;32m     12\u001b[0m                 \u001b[0mh\u001b[0m\u001b[1;33m.\u001b[0m\u001b[0mappend\u001b[0m\u001b[1;33m(\u001b[0m \u001b[1;33m(\u001b[0m\u001b[0mstr\u001b[0m\u001b[1;33m(\u001b[0m\u001b[0mnews\u001b[0m\u001b[1;33m[\u001b[0m\u001b[1;34m'Headline'\u001b[0m\u001b[1;33m]\u001b[0m\u001b[1;33m[\u001b[0m\u001b[0mj\u001b[0m\u001b[1;33m]\u001b[0m\u001b[1;33m)\u001b[0m\u001b[1;33m)\u001b[0m\u001b[1;33m.\u001b[0m\u001b[0mlower\u001b[0m\u001b[1;33m(\u001b[0m\u001b[1;33m)\u001b[0m\u001b[1;33m)\u001b[0m\u001b[1;33m\u001b[0m\u001b[1;33m\u001b[0m\u001b[0m\n\u001b[0;32m     13\u001b[0m \u001b[1;31m#             o =(prices['Open'][i])\u001b[0m\u001b[1;33m\u001b[0m\u001b[1;33m\u001b[0m\u001b[1;33m\u001b[0m\u001b[0m\n",
      "\u001b[1;32m~\\anaconda3\\lib\\site-packages\\pandas\\core\\frame.py\u001b[0m in \u001b[0;36m__getitem__\u001b[1;34m(self, key)\u001b[0m\n\u001b[0;32m   2767\u001b[0m     \u001b[1;32mdef\u001b[0m \u001b[0m__getitem__\u001b[0m\u001b[1;33m(\u001b[0m\u001b[0mself\u001b[0m\u001b[1;33m,\u001b[0m \u001b[0mkey\u001b[0m\u001b[1;33m)\u001b[0m\u001b[1;33m:\u001b[0m\u001b[1;33m\u001b[0m\u001b[1;33m\u001b[0m\u001b[0m\n\u001b[0;32m   2768\u001b[0m         \u001b[0mkey\u001b[0m \u001b[1;33m=\u001b[0m \u001b[0mlib\u001b[0m\u001b[1;33m.\u001b[0m\u001b[0mitem_from_zerodim\u001b[0m\u001b[1;33m(\u001b[0m\u001b[0mkey\u001b[0m\u001b[1;33m)\u001b[0m\u001b[1;33m\u001b[0m\u001b[1;33m\u001b[0m\u001b[0m\n\u001b[1;32m-> 2769\u001b[1;33m         \u001b[0mkey\u001b[0m \u001b[1;33m=\u001b[0m \u001b[0mcom\u001b[0m\u001b[1;33m.\u001b[0m\u001b[0mapply_if_callable\u001b[0m\u001b[1;33m(\u001b[0m\u001b[0mkey\u001b[0m\u001b[1;33m,\u001b[0m \u001b[0mself\u001b[0m\u001b[1;33m)\u001b[0m\u001b[1;33m\u001b[0m\u001b[1;33m\u001b[0m\u001b[0m\n\u001b[0m\u001b[0;32m   2770\u001b[0m \u001b[1;33m\u001b[0m\u001b[0m\n\u001b[0;32m   2771\u001b[0m         \u001b[1;32mif\u001b[0m \u001b[0mis_hashable\u001b[0m\u001b[1;33m(\u001b[0m\u001b[0mkey\u001b[0m\u001b[1;33m)\u001b[0m\u001b[1;33m:\u001b[0m\u001b[1;33m\u001b[0m\u001b[1;33m\u001b[0m\u001b[0m\n",
      "\u001b[1;32m~\\anaconda3\\lib\\site-packages\\pandas\\core\\common.py\u001b[0m in \u001b[0;36mapply_if_callable\u001b[1;34m(maybe_callable, obj, **kwargs)\u001b[0m\n\u001b[0;32m    340\u001b[0m     \"\"\"\n\u001b[0;32m    341\u001b[0m \u001b[1;33m\u001b[0m\u001b[0m\n\u001b[1;32m--> 342\u001b[1;33m     \u001b[1;32mif\u001b[0m \u001b[0mcallable\u001b[0m\u001b[1;33m(\u001b[0m\u001b[0mmaybe_callable\u001b[0m\u001b[1;33m)\u001b[0m\u001b[1;33m:\u001b[0m\u001b[1;33m\u001b[0m\u001b[1;33m\u001b[0m\u001b[0m\n\u001b[0m\u001b[0;32m    343\u001b[0m         \u001b[1;32mreturn\u001b[0m \u001b[0mmaybe_callable\u001b[0m\u001b[1;33m(\u001b[0m\u001b[0mobj\u001b[0m\u001b[1;33m,\u001b[0m \u001b[1;33m**\u001b[0m\u001b[0mkwargs\u001b[0m\u001b[1;33m)\u001b[0m\u001b[1;33m\u001b[0m\u001b[1;33m\u001b[0m\u001b[0m\n\u001b[0;32m    344\u001b[0m \u001b[1;33m\u001b[0m\u001b[0m\n",
      "\u001b[1;31mKeyboardInterrupt\u001b[0m: "
     ]
    }
   ],
   "source": [
    "# #df4 is the combined final data frame\n",
    "# df4 =combine_df(prices, news)\n"
   ]
  },
  {
   "cell_type": "code",
   "execution_count": 58,
   "metadata": {},
   "outputs": [
    {
     "name": "stdout",
     "output_type": "stream",
     "text": [
      "           Date      Label          1          2          3          4  \\\n",
      "0    2019-01-02  27.480103 -12.869995 -12.819946  26.700073  49.859985   \n",
      "1    2019-01-03 -25.200073  27.480103 -12.869995 -12.819946  26.700073   \n",
      "2    2019-01-04  35.509888 -25.200073  27.480103 -12.869995 -12.819946   \n",
      "3    2019-01-07  -5.049927  35.509888 -25.200073  27.480103 -12.869995   \n",
      "4    2019-01-08  -0.630005  -5.049927  35.509888 -25.200073  27.480103   \n",
      "..          ...        ...        ...        ...        ...        ...   \n",
      "533  2021-02-12  15.260010  -2.250000   3.340088   0.589844 -15.479980   \n",
      "534  2021-02-16  18.949951  15.260010  -2.250000   3.340088   0.589844   \n",
      "535  2021-02-17  24.640137  18.949951  15.260010  -2.250000   3.340088   \n",
      "536  2021-02-18   0.810059  24.640137  18.949951  15.260010  -2.250000   \n",
      "537  2021-02-19 -18.979980   0.810059  24.640137  18.949951  15.260010   \n",
      "\n",
      "             5          6          7          8  ...  top47  top48 top49  \\\n",
      "0     0.349976 -40.790039  -2.419983 -11.830078  ...   None   None  None   \n",
      "1    49.859985   0.349976 -40.790039  -2.419983  ...   None   None  None   \n",
      "2    26.700073  49.859985   0.349976 -40.790039  ...   None   None  None   \n",
      "3   -12.819946  26.700073  49.859985   0.349976  ...   None   None  None   \n",
      "4   -12.869995 -12.819946  26.700073  49.859985  ...   None   None  None   \n",
      "..         ...        ...        ...        ...  ...    ...    ...   ...   \n",
      "533  29.270020  -6.990234  -6.730225   5.989990  ...   None   None  None   \n",
      "534 -15.479980  29.270020  -6.990234  -6.730225  ...   None   None  None   \n",
      "535   0.589844 -15.479980  29.270020  -6.990234  ...   None   None  None   \n",
      "536   3.340088   0.589844 -15.479980  29.270020  ...   None   None  None   \n",
      "537  -2.250000   3.340088   0.589844 -15.479980  ...   None   None  None   \n",
      "\n",
      "    top50 top51 top52 top53 top54 top55 top56  \n",
      "0    None  None  None  None  None  None  None  \n",
      "1    None  None  None  None  None  None  None  \n",
      "2    None  None  None  None  None  None  None  \n",
      "3    None  None  None  None  None  None  None  \n",
      "4    None  None  None  None  None  None  None  \n",
      "..    ...   ...   ...   ...   ...   ...   ...  \n",
      "533  None  None  None  None  None  None  None  \n",
      "534  None  None  None  None  None  None  None  \n",
      "535  None  None  None  None  None  None  None  \n",
      "536  None  None  None  None  None  None  None  \n",
      "537  None  None  None  None  None  None  None  \n",
      "\n",
      "[538 rows x 68 columns]\n"
     ]
    }
   ],
   "source": [
    "print(df4)"
   ]
  },
  {
   "cell_type": "code",
   "execution_count": 59,
   "metadata": {},
   "outputs": [],
   "source": [
    "# converts data frame to a csv and downloads it\n",
    "df4.to_csv(ouput_csv_name, index = False)"
   ]
  },
  {
   "cell_type": "code",
   "execution_count": null,
   "metadata": {
    "scrolled": true
   },
   "outputs": [],
   "source": []
  },
  {
   "cell_type": "code",
   "execution_count": null,
   "metadata": {},
   "outputs": [],
   "source": []
  }
 ],
 "metadata": {
  "kernelspec": {
   "display_name": "Python 3",
   "language": "python",
   "name": "python3"
  },
  "language_info": {
   "codemirror_mode": {
    "name": "ipython",
    "version": 3
   },
   "file_extension": ".py",
   "mimetype": "text/x-python",
   "name": "python",
   "nbconvert_exporter": "python",
   "pygments_lexer": "ipython3",
   "version": "3.8.3"
  }
 },
 "nbformat": 4,
 "nbformat_minor": 4
}
