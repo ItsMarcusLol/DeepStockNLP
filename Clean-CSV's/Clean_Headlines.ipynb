{
 "cells": [
  {
   "cell_type": "code",
   "execution_count": 26,
   "metadata": {},
   "outputs": [],
   "source": [
    "import pandas as pd\n",
    "import numpy as np\n",
    "\n",
    "from datetime import datetime\n"
   ]
  },
  {
   "cell_type": "code",
   "execution_count": 27,
   "metadata": {},
   "outputs": [
    {
     "data": {
      "text/html": [
       "<div>\n",
       "<style scoped>\n",
       "    .dataframe tbody tr th:only-of-type {\n",
       "        vertical-align: middle;\n",
       "    }\n",
       "\n",
       "    .dataframe tbody tr th {\n",
       "        vertical-align: top;\n",
       "    }\n",
       "\n",
       "    .dataframe thead th {\n",
       "        text-align: right;\n",
       "    }\n",
       "</style>\n",
       "<table border=\"1\" class=\"dataframe\">\n",
       "  <thead>\n",
       "    <tr style=\"text-align: right;\">\n",
       "      <th></th>\n",
       "      <th>Date</th>\n",
       "      <th>Open</th>\n",
       "      <th>Close</th>\n",
       "    </tr>\n",
       "  </thead>\n",
       "  <tbody>\n",
       "    <tr>\n",
       "      <th>0</th>\n",
       "      <td>2019-01-02</td>\n",
       "      <td>1016.570007</td>\n",
       "      <td>1045.849976</td>\n",
       "    </tr>\n",
       "    <tr>\n",
       "      <th>1</th>\n",
       "      <td>2019-01-03</td>\n",
       "      <td>1041.000000</td>\n",
       "      <td>1016.059998</td>\n",
       "    </tr>\n",
       "    <tr>\n",
       "      <th>2</th>\n",
       "      <td>2019-01-04</td>\n",
       "      <td>1032.589966</td>\n",
       "      <td>1070.709961</td>\n",
       "    </tr>\n",
       "    <tr>\n",
       "      <th>3</th>\n",
       "      <td>2019-01-07</td>\n",
       "      <td>1071.500000</td>\n",
       "      <td>1068.390015</td>\n",
       "    </tr>\n",
       "    <tr>\n",
       "      <th>4</th>\n",
       "      <td>2019-01-08</td>\n",
       "      <td>1076.109985</td>\n",
       "      <td>1076.280029</td>\n",
       "    </tr>\n",
       "  </tbody>\n",
       "</table>\n",
       "</div>"
      ],
      "text/plain": [
       "         Date         Open        Close\n",
       "0  2019-01-02  1016.570007  1045.849976\n",
       "1  2019-01-03  1041.000000  1016.059998\n",
       "2  2019-01-04  1032.589966  1070.709961\n",
       "3  2019-01-07  1071.500000  1068.390015\n",
       "4  2019-01-08  1076.109985  1076.280029"
      ]
     },
     "execution_count": 27,
     "metadata": {},
     "output_type": "execute_result"
    }
   ],
   "source": [
    "prices = pd.read_csv(\"2019_Price.csv\")\n",
    "\n",
    "prices.head()"
   ]
  },
  {
   "cell_type": "code",
   "execution_count": null,
   "metadata": {},
   "outputs": [],
   "source": []
  },
  {
   "cell_type": "code",
   "execution_count": 28,
   "metadata": {
    "scrolled": true
   },
   "outputs": [
    {
     "data": {
      "text/html": [
       "<div>\n",
       "<style scoped>\n",
       "    .dataframe tbody tr th:only-of-type {\n",
       "        vertical-align: middle;\n",
       "    }\n",
       "\n",
       "    .dataframe tbody tr th {\n",
       "        vertical-align: top;\n",
       "    }\n",
       "\n",
       "    .dataframe thead th {\n",
       "        text-align: right;\n",
       "    }\n",
       "</style>\n",
       "<table border=\"1\" class=\"dataframe\">\n",
       "  <thead>\n",
       "    <tr style=\"text-align: right;\">\n",
       "      <th></th>\n",
       "      <th>Date</th>\n",
       "      <th>Headline</th>\n",
       "    </tr>\n",
       "  </thead>\n",
       "  <tbody>\n",
       "    <tr>\n",
       "      <th>0</th>\n",
       "      <td>2019-01-02</td>\n",
       "      <td>Your Hopes for 2019</td>\n",
       "    </tr>\n",
       "    <tr>\n",
       "      <th>1</th>\n",
       "      <td>2019-01-03</td>\n",
       "      <td>‘The Venerable W.’ Review: A Buddhist Monk Pre...</td>\n",
       "    </tr>\n",
       "    <tr>\n",
       "      <th>2</th>\n",
       "      <td>2019-01-03</td>\n",
       "      <td>Yellow Vest Leader Is Arrested in France Amid ...</td>\n",
       "    </tr>\n",
       "    <tr>\n",
       "      <th>3</th>\n",
       "      <td>2019-01-02</td>\n",
       "      <td>Learning With: ‘NASA’s New Horizons Spacecraft...</td>\n",
       "    </tr>\n",
       "    <tr>\n",
       "      <th>4</th>\n",
       "      <td>2019-01-03</td>\n",
       "      <td>White Cube? These 3 Art Shows Buck Convention</td>\n",
       "    </tr>\n",
       "  </tbody>\n",
       "</table>\n",
       "</div>"
      ],
      "text/plain": [
       "         Date                                           Headline\n",
       "0  2019-01-02                                Your Hopes for 2019\n",
       "1  2019-01-03  ‘The Venerable W.’ Review: A Buddhist Monk Pre...\n",
       "2  2019-01-03  Yellow Vest Leader Is Arrested in France Amid ...\n",
       "3  2019-01-02  Learning With: ‘NASA’s New Horizons Spacecraft...\n",
       "4  2019-01-03      White Cube? These 3 Art Shows Buck Convention"
      ]
     },
     "execution_count": 28,
     "metadata": {},
     "output_type": "execute_result"
    }
   ],
   "source": [
    "news = pd.read_csv(\"2019_NYT.csv\")\n",
    "\n",
    "news.head()\n"
   ]
  },
  {
   "cell_type": "code",
   "execution_count": null,
   "metadata": {},
   "outputs": [],
   "source": []
  },
  {
   "cell_type": "code",
   "execution_count": null,
   "metadata": {},
   "outputs": [],
   "source": []
  },
  {
   "cell_type": "code",
   "execution_count": 29,
   "metadata": {},
   "outputs": [],
   "source": [
    "news_w_price = []\n",
    "head_w_price = []\n",
    "p = 0\n",
    "biggest = 0\n",
    "h1 = []\n",
    "for i in range(len(prices['Date'])):\n",
    "    h = []\n",
    "    for j in range(len(news['Date'])):\n",
    "        if prices['Date'][i] == news['Date'][j]:\n",
    "          \n",
    "            h.append((str(news['Headline'][j])).lower())\n",
    "#             o = (prices['Open'][i]).replace(',', '')\n",
    "            o =(prices['Open'][i])\n",
    "#             c = (prices['Close'][i]).replace(',','')\n",
    "            c = (prices['Close'][i])\n",
    "            p = float(o) - float(c)\n",
    "            if p >= 0:\n",
    "                p = 1\n",
    "            else:\n",
    "                p = 0\n",
    "        if len(h) > biggest:\n",
    "            biggest = len(h)\n",
    "            #head_w_price.append(((prices['Date'][i]), p, (news['Headline'][j]).lower()))\n",
    "    news_w_price.append((prices['Date'][i], p ))\n",
    "    if (len(h) > 0):\n",
    "        h1.append(h)\n",
    "           "
   ]
  },
  {
   "cell_type": "code",
   "execution_count": 32,
   "metadata": {},
   "outputs": [
    {
     "name": "stdout",
     "output_type": "stream",
     "text": [
      "251\n",
      "('2019-12-30', 1)\n"
     ]
    }
   ],
   "source": [
    "\n",
    "\n",
    "print(len(news_w_price))\n",
    "print(news_w_price[250])"
   ]
  },
  {
   "cell_type": "code",
   "execution_count": 33,
   "metadata": {},
   "outputs": [],
   "source": [
    "col = []\n",
    "i = 1\n",
    "for i in range(biggest + 1):\n",
    "    if i != 0:\n",
    "        col.append(\"top\" + str(i))\n",
    "#print(col)\n",
    "frame = pd.DataFrame()\n",
    "df1 = pd.DataFrame(h1)\n",
    "df1.columns = (col)\n",
    "#print(df1)\n"
   ]
  },
  {
   "cell_type": "code",
   "execution_count": 34,
   "metadata": {},
   "outputs": [],
   "source": [
    "\n",
    "df = pd.DataFrame(news_w_price, columns = [\"Date\", \"Label\"])\n"
   ]
  },
  {
   "cell_type": "code",
   "execution_count": 35,
   "metadata": {},
   "outputs": [],
   "source": [
    "df3 =df.join(df1)"
   ]
  },
  {
   "cell_type": "code",
   "execution_count": null,
   "metadata": {},
   "outputs": [],
   "source": []
  },
  {
   "cell_type": "code",
   "execution_count": 36,
   "metadata": {},
   "outputs": [],
   "source": [
    "df3.to_csv('big_input.csv', index = False)"
   ]
  },
  {
   "cell_type": "code",
   "execution_count": null,
   "metadata": {
    "scrolled": true
   },
   "outputs": [],
   "source": []
  },
  {
   "cell_type": "code",
   "execution_count": null,
   "metadata": {},
   "outputs": [],
   "source": []
  }
 ],
 "metadata": {
  "kernelspec": {
   "display_name": "Python 3",
   "language": "python",
   "name": "python3"
  },
  "language_info": {
   "codemirror_mode": {
    "name": "ipython",
    "version": 3
   },
   "file_extension": ".py",
   "mimetype": "text/x-python",
   "name": "python",
   "nbconvert_exporter": "python",
   "pygments_lexer": "ipython3",
   "version": "3.8.3"
  }
 },
 "nbformat": 4,
 "nbformat_minor": 4
}
