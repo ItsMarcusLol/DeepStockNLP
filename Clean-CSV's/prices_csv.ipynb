{
 "cells": [
  {
   "cell_type": "code",
   "execution_count": 6,
   "metadata": {},
   "outputs": [],
   "source": [
    "# This is for the closing prices and dates\n",
    "\n",
    "\n",
    "# In[ ]:\n",
    "\n",
    "import pandas as pd\n",
    "import requests\n",
    "from datetime import datetime\n",
    "from datetime import datetime\n",
    "prices = pd.read_csv(\"2019_prices.csv\")\n",
    "\n",
    "prices.head()\n",
    "#print(prices['Open'][0])\n",
    "\n",
    "\n",
    "price_dates = prices['Date']\n",
    "objDates = []\n",
    "\n",
    "i = 0\n",
    "for date in price_dates:\n",
    "    d = datetime.strptime(date, '%Y-%m-%d').date()\n",
    "    objDates.append((d, prices['Open'][i], prices['Close'][i], ))\n",
    "   \n",
    "    i = i + 1\n",
    "\n",
    "    \n",
    "\n",
    "\n",
    "# In[ ]:\n",
    "\n",
    "\n",
    "frame = pd.DataFrame()\n",
    "df = pd.DataFrame(objDates, columns = [\"Date\", \"Open\", \"Close\"])\n",
    "\n",
    "\n",
    "# In[ ]:\n",
    "\n",
    "\n",
    "\n",
    "df.to_csv('2019_Price.csv', index = False)\n",
    "\n",
    "\n",
    "# In[ ]:"
   ]
  },
  {
   "cell_type": "code",
   "execution_count": null,
   "metadata": {},
   "outputs": [],
   "source": []
  }
 ],
 "metadata": {
  "kernelspec": {
   "display_name": "Python 3",
   "language": "python",
   "name": "python3"
  },
  "language_info": {
   "codemirror_mode": {
    "name": "ipython",
    "version": 3
   },
   "file_extension": ".py",
   "mimetype": "text/x-python",
   "name": "python",
   "nbconvert_exporter": "python",
   "pygments_lexer": "ipython3",
   "version": "3.8.3"
  }
 },
 "nbformat": 4,
 "nbformat_minor": 4
}
