{
 "cells": [
  {
   "cell_type": "code",
   "execution_count": null,
   "metadata": {},
   "outputs": [],
   "source": [
    "# This is for the closing prices and dates\n"
   ]
  },
  {
   "cell_type": "code",
   "execution_count": 8,
   "metadata": {},
   "outputs": [],
   "source": [
    "import pandas as pd\n",
    "import requests\n",
    "from datetime import datetime\n",
    "from datetime import datetime\n",
    "prices = pd.read_csv(\"GOOG_01_2019.csv\")"
   ]
  },
  {
   "cell_type": "code",
   "execution_count": 9,
   "metadata": {},
   "outputs": [
    {
     "data": {
      "text/html": [
       "<div>\n",
       "<style scoped>\n",
       "    .dataframe tbody tr th:only-of-type {\n",
       "        vertical-align: middle;\n",
       "    }\n",
       "\n",
       "    .dataframe tbody tr th {\n",
       "        vertical-align: top;\n",
       "    }\n",
       "\n",
       "    .dataframe thead th {\n",
       "        text-align: right;\n",
       "    }\n",
       "</style>\n",
       "<table border=\"1\" class=\"dataframe\">\n",
       "  <thead>\n",
       "    <tr style=\"text-align: right;\">\n",
       "      <th></th>\n",
       "      <th>Date</th>\n",
       "      <th>Open</th>\n",
       "      <th>High</th>\n",
       "      <th>Low</th>\n",
       "      <th>Close</th>\n",
       "      <th>Adj Close</th>\n",
       "      <th>Volume</th>\n",
       "    </tr>\n",
       "  </thead>\n",
       "  <tbody>\n",
       "    <tr>\n",
       "      <th>0</th>\n",
       "      <td>2019-01-02</td>\n",
       "      <td>1016.570007</td>\n",
       "      <td>1052.319946</td>\n",
       "      <td>1015.710022</td>\n",
       "      <td>1045.849976</td>\n",
       "      <td>1045.849976</td>\n",
       "      <td>1532600</td>\n",
       "    </tr>\n",
       "    <tr>\n",
       "      <th>1</th>\n",
       "      <td>2019-01-03</td>\n",
       "      <td>1041.000000</td>\n",
       "      <td>1056.979980</td>\n",
       "      <td>1014.070007</td>\n",
       "      <td>1016.059998</td>\n",
       "      <td>1016.059998</td>\n",
       "      <td>1841100</td>\n",
       "    </tr>\n",
       "    <tr>\n",
       "      <th>2</th>\n",
       "      <td>2019-01-04</td>\n",
       "      <td>1032.589966</td>\n",
       "      <td>1070.839966</td>\n",
       "      <td>1027.417969</td>\n",
       "      <td>1070.709961</td>\n",
       "      <td>1070.709961</td>\n",
       "      <td>2093900</td>\n",
       "    </tr>\n",
       "    <tr>\n",
       "      <th>3</th>\n",
       "      <td>2019-01-07</td>\n",
       "      <td>1071.500000</td>\n",
       "      <td>1074.000000</td>\n",
       "      <td>1054.760010</td>\n",
       "      <td>1068.390015</td>\n",
       "      <td>1068.390015</td>\n",
       "      <td>1981900</td>\n",
       "    </tr>\n",
       "    <tr>\n",
       "      <th>4</th>\n",
       "      <td>2019-01-08</td>\n",
       "      <td>1076.109985</td>\n",
       "      <td>1084.560059</td>\n",
       "      <td>1060.530029</td>\n",
       "      <td>1076.280029</td>\n",
       "      <td>1076.280029</td>\n",
       "      <td>1764900</td>\n",
       "    </tr>\n",
       "  </tbody>\n",
       "</table>\n",
       "</div>"
      ],
      "text/plain": [
       "         Date         Open         High          Low        Close  \\\n",
       "0  2019-01-02  1016.570007  1052.319946  1015.710022  1045.849976   \n",
       "1  2019-01-03  1041.000000  1056.979980  1014.070007  1016.059998   \n",
       "2  2019-01-04  1032.589966  1070.839966  1027.417969  1070.709961   \n",
       "3  2019-01-07  1071.500000  1074.000000  1054.760010  1068.390015   \n",
       "4  2019-01-08  1076.109985  1084.560059  1060.530029  1076.280029   \n",
       "\n",
       "     Adj Close   Volume  \n",
       "0  1045.849976  1532600  \n",
       "1  1016.059998  1841100  \n",
       "2  1070.709961  2093900  \n",
       "3  1068.390015  1981900  \n",
       "4  1076.280029  1764900  "
      ]
     },
     "execution_count": 9,
     "metadata": {},
     "output_type": "execute_result"
    }
   ],
   "source": [
    "\n",
    "prices.head()"
   ]
  },
  {
   "cell_type": "code",
   "execution_count": 10,
   "metadata": {},
   "outputs": [],
   "source": [
    "\n",
    "price_dates = prices['Date']\n",
    "objDates = []\n",
    "\n",
    "i = 0\n",
    "for date in price_dates:\n",
    "    d = datetime.strptime(date, '%Y-%m-%d').date()\n",
    "    objDates.append((d, prices['Open'][i], prices['Close'][i], ))\n",
    "   \n",
    "    i = i + 1\n",
    "\n",
    "\n",
    "\n",
    "\n"
   ]
  },
  {
   "cell_type": "code",
   "execution_count": 11,
   "metadata": {},
   "outputs": [],
   "source": [
    "frame = pd.DataFrame()\n",
    "df = pd.DataFrame(objDates, columns = [\"Date\", \"Open\", \"Close\"])\n"
   ]
  },
  {
   "cell_type": "code",
   "execution_count": 12,
   "metadata": {},
   "outputs": [
    {
     "name": "stdout",
     "output_type": "stream",
     "text": [
      "          Date         Open        Close\n",
      "0   2019-01-02  1016.570007  1045.849976\n",
      "1   2019-01-03  1041.000000  1016.059998\n",
      "2   2019-01-04  1032.589966  1070.709961\n",
      "3   2019-01-07  1071.500000  1068.390015\n",
      "4   2019-01-08  1076.109985  1076.280029\n",
      "5   2019-01-09  1081.650024  1074.660034\n",
      "6   2019-01-10  1067.660034  1070.329956\n",
      "7   2019-01-11  1063.180054  1057.189941\n",
      "8   2019-01-14  1046.920044  1044.689941\n",
      "9   2019-01-15  1050.170044  1077.150024\n",
      "10  2019-01-16  1080.000000  1080.969971\n",
      "11  2019-01-17  1079.469971  1089.900024\n",
      "12  2019-01-18  1100.000000  1098.260010\n",
      "13  2019-01-22  1088.000000  1070.520020\n",
      "14  2019-01-23  1077.349976  1075.569946\n",
      "15  2019-01-24  1076.479980  1073.900024\n",
      "16  2019-01-25  1085.000000  1090.989990\n",
      "17  2019-01-28  1080.109985  1070.079956\n",
      "18  2019-01-29  1072.680054  1060.619995\n",
      "19  2019-01-30  1068.430054  1089.060059\n"
     ]
    }
   ],
   "source": [
    "print(df)"
   ]
  },
  {
   "cell_type": "code",
   "execution_count": 13,
   "metadata": {},
   "outputs": [],
   "source": [
    "df.to_csv('2019_01_GOOG.csv', index = False)"
   ]
  },
  {
   "cell_type": "code",
   "execution_count": null,
   "metadata": {},
   "outputs": [],
   "source": []
  }
 ],
 "metadata": {
  "kernelspec": {
   "display_name": "Python 3",
   "language": "python",
   "name": "python3"
  },
  "language_info": {
   "codemirror_mode": {
    "name": "ipython",
    "version": 3
   },
   "file_extension": ".py",
   "mimetype": "text/x-python",
   "name": "python",
   "nbconvert_exporter": "python",
   "pygments_lexer": "ipython3",
   "version": "3.8.3"
  }
 },
 "nbformat": 4,
 "nbformat_minor": 4
}
