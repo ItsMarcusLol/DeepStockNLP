{
 "cells": [
  {
   "cell_type": "code",
   "execution_count": 1,
   "metadata": {},
   "outputs": [],
   "source": [
    "#This will get the archived data from the developer NYT website: https://developer.nytimes.com/ \n",
    "# In the varibe months, you can change how many months you want to get \n",
    "# For the varible year you can change it to get a specific year"
   ]
  },
  {
   "cell_type": "code",
   "execution_count": 35,
   "metadata": {},
   "outputs": [],
   "source": [
    "import requests\n",
    "import pandas as pd\n",
    "from datetime import datetime\n",
    "\n",
    "your_key = 'XrEpgzLniLeuVv9Rwai6PZfol6OhEN91'\n",
    "\n",
    "all_Headlines = []\n",
    "\n",
    "months = [1,2,3,4,5,6,7,8,9,10,11,12]\n",
    "years = [2018,2019,2020]\n",
    "\n",
    "stock_name = \"google\"\n",
    "stock_ticker = \"googl\"\n",
    "company_name = \"alphabet\""
   ]
  },
  {
   "cell_type": "code",
   "execution_count": 36,
   "metadata": {},
   "outputs": [],
   "source": [
    "for year in years:\n",
    "    for x in months:\n",
    "        url = 'https://api.nytimes.com/svc/archive/v1/'+str(year)+'/'+ str(x)+'.json?api-key=' +your_key\n",
    "        r = requests.get(url)\n",
    "        json_data = r.json()\n",
    "        response = (json_data['response'])\n",
    "        doc = response['docs']\n",
    "        for y in doc:\n",
    "            oldformat = y['pub_date']\n",
    "            date = oldformat.partition(\"T\")[0]\n",
    "            d = datetime.strptime(date, '%Y-%m-%d').date()\n",
    "            headline = y['headline']['main'].lower()\n",
    "            if stock_name in headline or stock_ticker in  headline or (company_name in  headline and (\"business\" in headline or \"inc.\" in headline or \"stock\" in headline)):\n",
    "                all_Headlines.append((d, y['headline']['main'].lower()))\n",
    "        \n"
   ]
  },
  {
   "cell_type": "code",
   "execution_count": null,
   "metadata": {},
   "outputs": [],
   "source": []
  },
  {
   "cell_type": "code",
   "execution_count": 37,
   "metadata": {},
   "outputs": [],
   "source": [
    "frame = pd.DataFrame()\n",
    "df = pd.DataFrame(all_Headlines, columns = [\"Date\", \"Headline\"])"
   ]
  },
  {
   "cell_type": "code",
   "execution_count": 38,
   "metadata": {},
   "outputs": [
    {
     "name": "stdout",
     "output_type": "stream",
     "text": [
      "362\n"
     ]
    }
   ],
   "source": [
    "\n",
    "print(len(df))"
   ]
  },
  {
   "cell_type": "code",
   "execution_count": 39,
   "metadata": {},
   "outputs": [],
   "source": [
    "#This will download the all_Headlines to you computer\n",
    "df.to_csv('New_Raw_2018-2019_NYT.csv', index = False)"
   ]
  },
  {
   "cell_type": "code",
   "execution_count": null,
   "metadata": {},
   "outputs": [],
   "source": []
  }
 ],
 "metadata": {
  "kernelspec": {
   "display_name": "Python 3",
   "language": "python",
   "name": "python3"
  },
  "language_info": {
   "codemirror_mode": {
    "name": "ipython",
    "version": 3
   },
   "file_extension": ".py",
   "mimetype": "text/x-python",
   "name": "python",
   "nbconvert_exporter": "python",
   "pygments_lexer": "ipython3",
   "version": "3.8.3"
  }
 },
 "nbformat": 4,
 "nbformat_minor": 4
}
