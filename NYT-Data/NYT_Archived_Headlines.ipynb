{
 "cells": [
  {
   "cell_type": "code",
   "execution_count": null,
   "metadata": {},
   "outputs": [],
   "source": [
    "#This will get the archived data from the developer NYT website: https://developer.nytimes.com/ \n",
    "# In the varibe months, you can change how many months you want to get \n",
    "# For the varible year you can change it to get a specific year"
   ]
  },
  {
   "cell_type": "code",
   "execution_count": 1,
   "metadata": {},
   "outputs": [],
   "source": [
    "import requests\n",
    "import pandas as pd\n",
    "from datetime import datetime\n",
    "\n",
    "your_key = 'XrEpgzLniLeuVv9Rwai6PZfol6OhEN91'\n",
    "\n",
    "all_Headlines = []\n",
    "\n",
    "months = [1,2]\n",
    "year = '2019'\n",
    "\n",
    "stock_name = \"Google\"\n"
   ]
  },
  {
   "cell_type": "code",
   "execution_count": 2,
   "metadata": {},
   "outputs": [],
   "source": [
    "for x in months:\n",
    "    url = 'https://api.nytimes.com/svc/archive/v1/'+year+'/'+ str(x)+'.json?api-key=' +your_key\n",
    "    r = requests.get(url)\n",
    "    json_data = r.json()\n",
    "    response = (json_data['response'])\n",
    "    doc = response['docs']\n",
    "    for y in doc:\n",
    "        oldformat = y['pub_date']\n",
    "        date = oldformat.partition(\"T\")[0]\n",
    "        \n",
    "        d = datetime.strptime(date, '%Y-%m-%d').date()\n",
    "        #print(y['headline']['main'])\n",
    "#         if stock_name in y['headline']['main']:\n",
    "#             print(y['headline']['main'])\n",
    "#             all_Headlines.append((d, y['headline']['main']))\n",
    "        \n",
    "        all_Headlines.append((d, y['headline']['main']))\n"
   ]
  },
  {
   "cell_type": "code",
   "execution_count": null,
   "metadata": {},
   "outputs": [],
   "source": []
  },
  {
   "cell_type": "code",
   "execution_count": 3,
   "metadata": {},
   "outputs": [],
   "source": [
    "frame = pd.DataFrame()\n",
    "df = pd.DataFrame(all_Headlines, columns = [\"Date\", \"Headline\"])"
   ]
  },
  {
   "cell_type": "code",
   "execution_count": 4,
   "metadata": {},
   "outputs": [
    {
     "name": "stdout",
     "output_type": "stream",
     "text": [
      "            Date                                           Headline\n",
      "0     2019-01-01                     1919: The Year of the Crack-Up\n",
      "1     2019-01-01                      In Search of Lost Screen Time\n",
      "2     2019-01-01  Warren Wells, Star Receiver With a Derailed Ca...\n",
      "3     2019-01-01                       2019: The Year of the Wolves\n",
      "4     2019-01-01                     Why Trump Reigns as King Cyrus\n",
      "...          ...                                                ...\n",
      "8599  2019-02-28       The Los Angeles Art Scene Looks to the World\n",
      "8600  2019-02-28  Trump Declares ISIS ‘100%’ Defeated in Syria. ...\n",
      "8601  2019-02-28      On Politics With Lisa Lerer: CPAC, Trumpified\n",
      "8602  2019-02-28  The Clothing Brand Coogi Is Suing the Nets Ove...\n",
      "8603  2019-02-28                  Socialism and the Self-Made Woman\n",
      "\n",
      "[8604 rows x 2 columns]\n"
     ]
    }
   ],
   "source": [
    "print(df)"
   ]
  },
  {
   "cell_type": "code",
   "execution_count": 5,
   "metadata": {},
   "outputs": [],
   "source": [
    "#This will download the all_Headlines to you computer\n",
    "df.to_csv('JanFeb_NYT.csv', index = False)"
   ]
  },
  {
   "cell_type": "code",
   "execution_count": null,
   "metadata": {},
   "outputs": [],
   "source": []
  }
 ],
 "metadata": {
  "kernelspec": {
   "display_name": "Python 3",
   "language": "python",
   "name": "python3"
  },
  "language_info": {
   "codemirror_mode": {
    "name": "ipython",
    "version": 3
   },
   "file_extension": ".py",
   "mimetype": "text/x-python",
   "name": "python",
   "nbconvert_exporter": "python",
   "pygments_lexer": "ipython3",
   "version": "3.8.3"
  }
 },
 "nbformat": 4,
 "nbformat_minor": 4
}
