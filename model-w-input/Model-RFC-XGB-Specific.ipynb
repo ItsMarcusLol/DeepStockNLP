{
 "cells": [
  {
   "cell_type": "markdown",
   "metadata": {},
   "source": [
    "### Get the packages"
   ]
  },
  {
   "cell_type": "code",
   "execution_count": 124,
   "metadata": {},
   "outputs": [],
   "source": [
    "import pandas as pd\n",
    "import copy\n",
    "import datetime\n",
    "from sklearn.feature_extraction.text import CountVectorizer, TfidfVectorizer\n",
    "from sklearn.linear_model import LogisticRegression\n",
    "from sklearn.metrics import accuracy_score, classification_report, confusion_matrix, f1_score\n",
    "from sklearn.ensemble import RandomForestClassifier, GradientBoostingClassifier\n",
    "from sklearn.naive_bayes import MultinomialNB\n",
    "from textblob import TextBlob\n",
    "from datetime import datetime\n",
    "from xgboost import XGBClassifier"
   ]
  },
  {
   "cell_type": "code",
   "execution_count": 125,
   "metadata": {},
   "outputs": [],
   "source": [
    "def analize_sentiment(tweet):\n",
    "    analysis = TextBlob((str(tweet)))\n",
    "    return analysis.polarity"
   ]
  },
  {
   "cell_type": "markdown",
   "metadata": {},
   "source": [
    "### Get the path for the CSV and put it in here "
   ]
  },
  {
   "cell_type": "code",
   "execution_count": 126,
   "metadata": {},
   "outputs": [],
   "source": [
    "news = pd.read_csv('/Users/vanessahoang/documents/deepstocknlp/data/18-20-csv/18-20-N-input.csv')"
   ]
  },
  {
   "cell_type": "markdown",
   "metadata": {},
   "source": [
    "### Get the train news and test news datasets"
   ]
  },
  {
   "cell_type": "code",
   "execution_count": 127,
   "metadata": {},
   "outputs": [],
   "source": [
    "def get_train_news(day, month, year):\n",
    "    index = 0\n",
    "    dataset = []\n",
    "    d1 = datetime(year, month, day).date() \n",
    "    for date in news['Date']:\n",
    "        d = datetime.strptime(date, '%Y-%m-%d').date()\n",
    "        if d1 > d:\n",
    "            dataset.append(news.iloc[index])\n",
    "        index = index +1\n",
    "        df = pd.DataFrame(dataset)\n",
    "    return df"
   ]
  },
  {
   "cell_type": "code",
   "execution_count": 128,
   "metadata": {},
   "outputs": [],
   "source": [
    "def get_test_news(day, month, year):\n",
    "    index = 0\n",
    "    dataset = []\n",
    "    d1 = datetime(year, month, day).date() \n",
    "    for date in news['Date']:\n",
    "        d = datetime.strptime(date, '%Y-%m-%d').date()\n",
    "        if d1 < d:\n",
    "            dataset.append(news.iloc[index])\n",
    "        index = index +1\n",
    "        df = pd.DataFrame(dataset)\n",
    "    return df"
   ]
  },
  {
   "cell_type": "code",
   "execution_count": 129,
   "metadata": {},
   "outputs": [],
   "source": [
    "num_column = (len(news.columns))\n",
    "# day, month, year\n",
    "train_news = get_train_news(8, 6, 2019)\n",
    "test_news = get_test_news(7, 6, 2019)"
   ]
  },
  {
   "cell_type": "code",
   "execution_count": 130,
   "metadata": {},
   "outputs": [],
   "source": [
    "train_news_list = []\n",
    "for row in range (0, len(train_news.index)):\n",
    "    train_news_list.append(' '.join(str(k) for k in train_news.iloc[row,12:num_column]))"
   ]
  },
  {
   "cell_type": "code",
   "execution_count": 131,
   "metadata": {
    "scrolled": false
   },
   "outputs": [],
   "source": [
    "vectorize = CountVectorizer(min_df=0.01, max_df=0.8)\n",
    "news_vector = vectorize.fit_transform(train_news_list)"
   ]
  },
  {
   "cell_type": "code",
   "execution_count": 132,
   "metadata": {},
   "outputs": [
    {
     "name": "stdout",
     "output_type": "stream",
     "text": [
      "THE TABLE OF FREQUENCY WORD DISTRIBUTION (359, 64)\n"
     ]
    }
   ],
   "source": [
    "print(\"THE TABLE OF FREQUENCY WORD DISTRIBUTION\", news_vector.shape)"
   ]
  },
  {
   "cell_type": "markdown",
   "metadata": {},
   "source": [
    "### Base Model: Logisitic Regression"
   ]
  },
  {
   "cell_type": "code",
   "execution_count": 133,
   "metadata": {},
   "outputs": [],
   "source": [
    "lr = LogisticRegression()\n",
    "model = lr.fit(news_vector, train_news[\"Label\"])"
   ]
  },
  {
   "cell_type": "code",
   "execution_count": 134,
   "metadata": {},
   "outputs": [],
   "source": [
    "test_news_list = []\n",
    "for row in range(0, len(test_news.index)):\n",
    "    test_news_list.append(' '.join(str(x) for x in test_news.iloc[row,2:num_column]))"
   ]
  },
  {
   "cell_type": "code",
   "execution_count": 135,
   "metadata": {},
   "outputs": [],
   "source": [
    "test_vector = vectorize.transform(test_news_list)"
   ]
  },
  {
   "cell_type": "code",
   "execution_count": 136,
   "metadata": {},
   "outputs": [
    {
     "data": {
      "text/html": [
       "<div>\n",
       "<style scoped>\n",
       "    .dataframe tbody tr th:only-of-type {\n",
       "        vertical-align: middle;\n",
       "    }\n",
       "\n",
       "    .dataframe tbody tr th {\n",
       "        vertical-align: top;\n",
       "    }\n",
       "\n",
       "    .dataframe thead th {\n",
       "        text-align: right;\n",
       "    }\n",
       "</style>\n",
       "<table border=\"1\" class=\"dataframe\">\n",
       "  <thead>\n",
       "    <tr style=\"text-align: right;\">\n",
       "      <th>Predicted</th>\n",
       "      <th>0</th>\n",
       "      <th>1</th>\n",
       "    </tr>\n",
       "    <tr>\n",
       "      <th>Actual</th>\n",
       "      <th></th>\n",
       "      <th></th>\n",
       "    </tr>\n",
       "  </thead>\n",
       "  <tbody>\n",
       "    <tr>\n",
       "      <th>0</th>\n",
       "      <td>30</td>\n",
       "      <td>138</td>\n",
       "    </tr>\n",
       "    <tr>\n",
       "      <th>1</th>\n",
       "      <td>27</td>\n",
       "      <td>178</td>\n",
       "    </tr>\n",
       "  </tbody>\n",
       "</table>\n",
       "</div>"
      ],
      "text/plain": [
       "Predicted   0    1\n",
       "Actual            \n",
       "0          30  138\n",
       "1          27  178"
      ]
     },
     "execution_count": 136,
     "metadata": {},
     "output_type": "execute_result"
    }
   ],
   "source": [
    "predictions = model.predict(test_vector)\n",
    "pd.crosstab(test_news[\"Label\"], predictions, rownames=[\"Actual\"], colnames=[\"Predicted\"])"
   ]
  },
  {
   "cell_type": "code",
   "execution_count": 137,
   "metadata": {},
   "outputs": [
    {
     "name": "stdout",
     "output_type": "stream",
     "text": [
      "the baseline model accuracy 0.5576407506702413\n"
     ]
    }
   ],
   "source": [
    "accuracy1=accuracy_score(test_news[\"Label\"], predictions)\n",
    "print(\"the baseline model accuracy\", accuracy1)"
   ]
  },
  {
   "cell_type": "code",
   "execution_count": 138,
   "metadata": {},
   "outputs": [
    {
     "name": "stdout",
     "output_type": "stream",
     "text": [
      "Top ten words according to the baseline model         Word  Coefficient\n",
      "57       why     0.987008\n",
      "39  pentagon     0.965966\n",
      "55      week     0.878603\n",
      "60      work     0.585942\n",
      "13     china     0.577615\n",
      "38      over     0.562426\n",
      "7         as     0.550336\n",
      "3         an     0.546467\n",
      "37        or     0.536763\n",
      "41    policy     0.482999\n",
      "Last ten words according to the baseline model         Word  Coefficient\n",
      "0      about    -0.511304\n",
      "16  dealbook    -0.561660\n",
      "44    search    -0.634738\n",
      "4        and    -0.692065\n",
      "20  facebook    -0.788635\n",
      "40    pichai    -0.812684\n",
      "30       its    -0.819083\n",
      "53        up    -0.892556\n",
      "61      york    -0.926687\n",
      "14   company    -0.944851\n"
     ]
    }
   ],
   "source": [
    "words = vectorize.get_feature_names()\n",
    "coefficients = model.coef_.tolist()[0]\n",
    "coeffdf = pd.DataFrame({'Word' : words, 'Coefficient' : coefficients})\n",
    "coeffdf = coeffdf.sort_values(['Coefficient', 'Word'], ascending=[0,1])\n",
    "print(\"Top ten words according to the baseline model\", coeffdf.head(10))\n",
    "print(\"Last ten words according to the baseline model\", coeffdf.tail(10))"
   ]
  },
  {
   "cell_type": "markdown",
   "metadata": {},
   "source": [
    "### Random Forest"
   ]
  },
  {
   "cell_type": "code",
   "execution_count": 139,
   "metadata": {},
   "outputs": [
    {
     "name": "stdout",
     "output_type": "stream",
     "text": [
      "Random forest with tfid and bigram 0.5495978552278821\n"
     ]
    }
   ],
   "source": [
    "nvectorize = TfidfVectorizer(min_df=0.01, max_df=0.95, ngram_range=(2,2))\n",
    "news_nvector = nvectorize.fit_transform(train_news_list)\n",
    "\n",
    "rfmodel = RandomForestClassifier(random_state = 100, criterion='entropy', max_depth=None, n_estimators=125)\n",
    "rfmodel = rfmodel.fit(news_nvector, train_news[\"Label\"])\n",
    "test_news_list = []\n",
    "for row in range(0, len(test_news.index)):\n",
    "    test_news_list.append(' '.join(str(x) for x in test_news.iloc[row,2:num_column]))\n",
    "ntest_vector = nvectorize.transform(test_news_list)\n",
    "\n",
    "rfpredictions = rfmodel.predict(ntest_vector)\n",
    "accuracyrf = accuracy_score(test_news[\"Label\"], rfpredictions)\n",
    "print(\"Random forest with tfid and bigram\", accuracyrf)"
   ]
  },
  {
   "cell_type": "markdown",
   "metadata": {},
   "source": [
    "### XG Boost/Sentiment Analysis"
   ]
  },
  {
   "cell_type": "code",
   "execution_count": 140,
   "metadata": {},
   "outputs": [
    {
     "name": "stderr",
     "output_type": "stream",
     "text": [
      "/Users/vanessahoang/.local/lib/python3.7/site-packages/xgboost/sklearn.py:892: UserWarning: The use of label encoder in XGBClassifier is deprecated and will be removed in a future release. To remove this warning, do the following: 1) Pass option use_label_encoder=False when constructing XGBClassifier object; and 2) Encode your labels (y) as integers starting with 0, i.e. 0, 1, 2, ..., [num_class - 1].\n",
      "  warnings.warn(label_encoder_deprecation_msg, UserWarning)\n"
     ]
    },
    {
     "name": "stdout",
     "output_type": "stream",
     "text": [
      "[10:37:36] WARNING: /Users/runner/miniforge3/conda-bld/xgboost_1607604592557/work/src/learner.cc:1061: Starting in XGBoost 1.3.0, the default evaluation metric used with the objective 'binary:logistic' was changed from 'error' to 'logloss'. Explicitly set eval_metric if you'd like to restore the old behavior.\n"
     ]
    }
   ],
   "source": [
    "train_sentiment = copy.deepcopy(train_news)\n",
    "test_sentiment = copy.deepcopy(test_news)\n",
    "train_news2 = copy.deepcopy(train_news)\n",
    "test_news2 = copy.deepcopy(test_news)\n",
    "\n",
    "train_sentiment = train_sentiment.drop(['Date', 'Label', '1', '2', '3', '4', '5', '6', '7', '8', '9','10'], axis=1)\n",
    "for column in train_sentiment:\n",
    "    train_sentiment[column] = train_sentiment[column].apply(analize_sentiment)\n",
    "    train_news2[column] = train_sentiment[column] + 10\n",
    "train_sentiment = train_sentiment + 10\n",
    "\n",
    "test_sentiment = test_sentiment.drop(['Date', 'Label', '1', '2', '3', '4', '5', '6', '7', '8', '9','10'], axis=1)\n",
    "for column in test_sentiment:\n",
    "    test_sentiment[column] = test_sentiment[column].apply(analize_sentiment)\n",
    "    test_news2[column] = test_sentiment[column] + 10  \n",
    "test_sentiment = test_sentiment + 10\n",
    "\n",
    "XGB_model = XGBClassifier(random_state=100)\n",
    "gradiant = XGB_model.fit(train_sentiment, train_news['Label'])\n",
    "y_pred = gradiant.predict(test_sentiment)"
   ]
  },
  {
   "cell_type": "code",
   "execution_count": 141,
   "metadata": {},
   "outputs": [
    {
     "name": "stdout",
     "output_type": "stream",
     "text": [
      "[[  7 161]\n",
      " [ 13 192]]\n",
      "Sentiment Accuracy 0.5335120643431636\n",
      "f1_score 0.411758464115487\n"
     ]
    }
   ],
   "source": [
    "print(confusion_matrix(test_news['Label'], y_pred))\n",
    "print(\"Sentiment Accuracy\", accuracy_score(test_news['Label'], y_pred))\n",
    "print(\"f1_score\", f1_score(test_news['Label'], y_pred, average='weighted'))\n",
    "#print(y_pred)"
   ]
  },
  {
   "cell_type": "markdown",
   "metadata": {},
   "source": [
    "### Model 2 - includes trends"
   ]
  },
  {
   "cell_type": "code",
   "execution_count": 142,
   "metadata": {},
   "outputs": [
    {
     "name": "stdout",
     "output_type": "stream",
     "text": [
      "[10:37:38] WARNING: /Users/runner/miniforge3/conda-bld/xgboost_1607604592557/work/src/learner.cc:1061: Starting in XGBoost 1.3.0, the default evaluation metric used with the objective 'binary:logistic' was changed from 'error' to 'logloss'. Explicitly set eval_metric if you'd like to restore the old behavior.\n",
      "Sentiment Accuracy with Trend 0.4932975871313673\n",
      "f1_score 0.49434427366095085\n"
     ]
    }
   ],
   "source": [
    "train_news2 = train_news2.drop(['Date','Label'], axis = 1)\n",
    "test_news2 = test_news2.drop(['Date', 'Label'], axis = 1)\n",
    "\n",
    "XGB_model2 = XGBClassifier()\n",
    "gradiant2 = XGB_model2.fit(train_news2, train_news['Label'])\n",
    "y_pred2 = gradiant2.predict(test_news2)\n",
    "\n",
    "\n",
    "# print(confusion_matrix(test_news['Label'], y_pred))\n",
    "print(\"Sentiment Accuracy with Trend\", accuracy_score(test_news['Label'], y_pred2))\n",
    "print(\"f1_score\", f1_score(test_news['Label'], y_pred2, average='weighted'))\n",
    "# print(y_pred)"
   ]
  },
  {
   "cell_type": "markdown",
   "metadata": {},
   "source": [
    "### Weighted XGBoost (attempted to put weight towards headlines) Vanessa"
   ]
  },
  {
   "cell_type": "code",
   "execution_count": 143,
   "metadata": {},
   "outputs": [
    {
     "name": "stdout",
     "output_type": "stream",
     "text": [
      "[10:37:42] WARNING: /Users/runner/miniforge3/conda-bld/xgboost_1607604592557/work/src/learner.cc:1061: Starting in XGBoost 1.3.0, the default evaluation metric used with the objective 'binary:logistic' was changed from 'error' to 'logloss'. Explicitly set eval_metric if you'd like to restore the old behavior.\n"
     ]
    }
   ],
   "source": [
    "train_sentiment_weight = train_news\n",
    "test_sentiment_weight = test_news\n",
    "weighted_data=[]\n",
    "empty_data=[]\n",
    "\n",
    "train_sentiment_weight = train_sentiment_weight.drop(['Date', 'Label'], axis=1)\n",
    "for column in train_sentiment_weight:\n",
    "    train_sentiment_weight[column] = train_sentiment_weight[column].apply(analize_sentiment)\n",
    "train_sentiment_weight = train_sentiment_weight + 10\n",
    "\n",
    "test_sentiment_weight = test_sentiment_weight.drop(['Date', 'Label'], axis=1)\n",
    "for column in test_sentiment_weight:\n",
    "    test_sentiment_weight[column] = test_sentiment_weight[column].apply(analize_sentiment)\n",
    "test_sentiment_weight = test_sentiment_weight + 10\n",
    "\n",
    "for column in train_news:\n",
    "    if not train_news[column].empty:\n",
    "        empty_data = train_news[column]\n",
    "    else:\n",
    "        weighted_data = train_news[column]\n",
    "\n",
    "weighted_XGB = XGBClassifier()\n",
    "weighted_XGB.fit(train_sentiment_weight, train_news['Label'], sample_weight=weighted_data)\n",
    "y_pred_weight = weighted_XGB.predict(test_sentiment_weight, ntree_limit=500)"
   ]
  },
  {
   "cell_type": "code",
   "execution_count": 144,
   "metadata": {},
   "outputs": [
    {
     "name": "stdout",
     "output_type": "stream",
     "text": [
      "Weighted Accuracy 0.5335120643431636\n",
      "F1 weighted 0.411758464115487\n"
     ]
    }
   ],
   "source": [
    "print(\"Weighted Accuracy\", accuracy_score(test_news['Label'], y_pred_weight))\n",
    "print(\"F1 weighted\", f1_score(test_news['Label'], y_pred_weight, average='weighted'))"
   ]
  },
  {
   "cell_type": "markdown",
   "metadata": {},
   "source": [
    "### Weighted attempt 2 (Vans)"
   ]
  },
  {
   "cell_type": "code",
   "execution_count": 145,
   "metadata": {},
   "outputs": [
    {
     "name": "stdout",
     "output_type": "stream",
     "text": [
      "[10:37:48] WARNING: /Users/runner/miniforge3/conda-bld/xgboost_1607604592557/work/src/learner.cc:1061: Starting in XGBoost 1.3.0, the default evaluation metric used with the objective 'binary:logistic' was changed from 'error' to 'logloss'. Explicitly set eval_metric if you'd like to restore the old behavior.\n"
     ]
    }
   ],
   "source": [
    "train_sentiment_weight = train_news\n",
    "test_sentiment_weight = test_news\n",
    "weighted_data=[]\n",
    "empty_data=[]\n",
    "\n",
    "train_sentiment_weight = train_sentiment_weight.drop(['Date', 'Label'], axis=1)\n",
    "for column in train_sentiment_weight:\n",
    "    train_sentiment_weight[column] = train_sentiment_weight[column].apply(analize_sentiment)\n",
    "train_sentiment_weight = train_sentiment_weight + 10\n",
    "\n",
    "test_sentiment_weight = test_sentiment_weight.drop(['Date', 'Label'], axis=1)\n",
    "for column in test_sentiment_weight:\n",
    "    test_sentiment_weight[column] = test_sentiment_weight[column].apply(analize_sentiment)\n",
    "test_sentiment_weight = test_sentiment_weight + 10\n",
    "\n",
    "for column in train_news:\n",
    "    if not train_news[column].empty:\n",
    "        empty_data = train_news[column]\n",
    "    else:\n",
    "        weighted_data = train_news[column]\n",
    "\n",
    "weighted_XGB1 = XGBClassifier(scale_pos_weight = 60)\n",
    "weighted_XGB1.fit(train_sentiment_weight, train_news['Label'], sample_weight = weighted_data)\n",
    "y_pred_weight1 = weighted_XGB1.predict(test_sentiment_weight)"
   ]
  },
  {
   "cell_type": "code",
   "execution_count": 146,
   "metadata": {},
   "outputs": [
    {
     "name": "stdout",
     "output_type": "stream",
     "text": [
      "Weighted Accuracy 0.546916890080429\n",
      "F1 weighted 0.39791398090775487\n"
     ]
    }
   ],
   "source": [
    "print(\"Weighted Accuracy\", accuracy_score(test_news['Label'], y_pred_weight1))\n",
    "print(\"F1 weighted\", f1_score(test_news['Label'], y_pred_weight1, average='weighted'))"
   ]
  },
  {
   "cell_type": "markdown",
   "metadata": {},
   "source": [
    "### Weighted - using trends (Erika)"
   ]
  },
  {
   "cell_type": "code",
   "execution_count": 147,
   "metadata": {},
   "outputs": [],
   "source": [
    "def get_train_weight(train_sentiment):\n",
    "    train_weight = []\n",
    "\n",
    "    for across in range(len(train_sentiment)):\n",
    "        for i in range(500):\n",
    "            train_weight.append(0.5)\n",
    "        for x in train_sentiment:\n",
    "            if x not in ['Date', 'Label', '1', '2','3','4','5','6','7','8','9', '10'] :\n",
    "                if train_sentiment[x][across] == 10.0:\n",
    "                    train_weight.append(0.5)\n",
    "                else:\n",
    "                    train_weight.append(0.8)\n",
    "    return train_weight"
   ]
  },
  {
   "cell_type": "code",
   "execution_count": 148,
   "metadata": {},
   "outputs": [],
   "source": [
    "def get_test_weight(train_sentiment, test_sentiment):\n",
    "\n",
    "    test_weight = []\n",
    "    j = len(train_sentiment)\n",
    "    for across in range(len(test_sentiment)):\n",
    "        for i in range(500):\n",
    "            test_weight.append(0.5)\n",
    "        for x in test_sentiment:\n",
    "            if x not in ['Date', 'Label', '1', '2','3','4','5','6','7','8','9', '10'] :\n",
    "                if test_sentiment[x][j] == 10.0:\n",
    "                    test_weight.append(0.5)\n",
    "                else:\n",
    "                    test_weight.append(0.8)\n",
    "        j = j + 1"
   ]
  },
  {
   "cell_type": "code",
   "execution_count": 149,
   "metadata": {},
   "outputs": [
    {
     "name": "stdout",
     "output_type": "stream",
     "text": [
      "[10:37:49] WARNING: /Users/runner/miniforge3/conda-bld/xgboost_1607604592557/work/src/learner.cc:1061: Starting in XGBoost 1.3.0, the default evaluation metric used with the objective 'binary:logistic' was changed from 'error' to 'logloss'. Explicitly set eval_metric if you'd like to restore the old behavior.\n",
      "Sentiment Accuracy with Trend with weight 0.4932975871313673\n",
      "f1_score 0.49434427366095085\n"
     ]
    }
   ],
   "source": [
    "train_weight = get_train_weight(train_sentiment)\n",
    "test_weight = get_test_weight(train_sentiment, test_sentiment)\n",
    "\n",
    "XGB_model4 = XGBClassifier()\n",
    "\n",
    "num_round = 2\n",
    "param = {'max_depth' : 2, 'eta': 1, 'objective':'binary:logistic' }\n",
    "gradiant4 = XGB_model4.fit(train_news2, train_news['Label'])\n",
    "y_pred4 = gradiant4.predict(test_news2)\n",
    "\n",
    "print(\"Sentiment Accuracy with Trend with weight\", accuracy_score(test_news['Label'], y_pred4))\n",
    "print(\"f1_score\", f1_score(test_news['Label'], y_pred4, average='weighted'))\n"
   ]
  },
  {
   "cell_type": "code",
   "execution_count": 150,
   "metadata": {},
   "outputs": [
    {
     "name": "stdout",
     "output_type": "stream",
     "text": [
      "Sentiment Weighted Accuracy 2 0.5335120643431636\n",
      "F1 weighted 0.411758464115487\n"
     ]
    }
   ],
   "source": [
    "print(\"Sentiment Weighted Accuracy 2\", accuracy_score(test_news['Label'], y_pred_weight))\n",
    "print(\"F1 weighted\", f1_score(test_news['Label'], y_pred_weight, average='weighted'))"
   ]
  },
  {
   "cell_type": "code",
   "execution_count": 151,
   "metadata": {},
   "outputs": [],
   "source": [
    "## doesn't work- needs to be based on row numbers "
   ]
  },
  {
   "cell_type": "code",
   "execution_count": 152,
   "metadata": {},
   "outputs": [],
   "source": [
    "# dtrain = xgb.DMatrix( data = train_news2, label = train_news['Label'], weight = train_weight)\n",
    "# dtest = xgb.DMatrix(data = test_news2, label = test_news['Label'], weight = test_weight)\n",
    "# params  = dict(max_depth=2, eta=1, verbose=0, nthread=2, eval_metric = \"auc\",\n",
    "#               objective=\"binary:logistic\")\n",
    "\n",
    "# m = xgb.train(params, dtrain)\n",
    "\n",
    "# y_predictions = m.predict(dtest)\n",
    "\n",
    "# i = 0\n",
    "# y = []\n",
    "# for p in y_predictions:\n",
    "#     if p > 0.49:\n",
    "#         y.append(1)\n",
    "#     else:\n",
    "#         y.append(0)\n",
    "#     i = i + 1\n",
    "# print(\"Sentiment Accuracy with Trend with weight\", accuracy_score(test_news['Label'], y))\n",
    "# print(\"f1_score\", f1_score(test_news['Label'], y, average='weighted'))"
   ]
  },
  {
   "cell_type": "markdown",
   "metadata": {},
   "source": [
    "### All scores are printed out for comparison"
   ]
  },
  {
   "cell_type": "code",
   "execution_count": 153,
   "metadata": {},
   "outputs": [
    {
     "name": "stdout",
     "output_type": "stream",
     "text": [
      "Base model 0.5576407506702413\n",
      "Random Forest 0.5495978552278821\n",
      "Sentiment Accuracy 0.5335120643431636\n",
      "Sentiment Accuracy with Trends 0.4932975871313673\n",
      "Weighted Accuracy (Vans) 0.5335120643431636\n",
      "Sentiment Accuracy with Trend with weight (Erika) 0.4932975871313673\n",
      "Weighted accuracy (Vans) attempt 2 0.546916890080429\n"
     ]
    }
   ],
   "source": [
    "print(\"Base model\", accuracy1)\n",
    "print(\"Random Forest\", accuracyrf)\n",
    "print(\"Sentiment Accuracy\", accuracy_score(test_news['Label'], y_pred))\n",
    "print(\"Sentiment Accuracy with Trends\", accuracy_score(test_news['Label'], y_pred2))\n",
    "print(\"Weighted Accuracy (Vans)\", accuracy_score(test_news['Label'], y_pred_weight))\n",
    "print(\"Sentiment Accuracy with Trend with weight (Erika)\", accuracy_score(test_news['Label'], y_pred4))\n",
    "print(\"Weighted accuracy (Vans) attempt 2\", accuracy_score(test_news['Label'], y_pred_weight1))"
   ]
  },
  {
   "cell_type": "code",
   "execution_count": null,
   "metadata": {},
   "outputs": [],
   "source": []
  }
 ],
 "metadata": {
  "kernelspec": {
   "display_name": "Python 3",
   "language": "python",
   "name": "python3"
  },
  "language_info": {
   "codemirror_mode": {
    "name": "ipython",
    "version": 3
   },
   "file_extension": ".py",
   "mimetype": "text/x-python",
   "name": "python",
   "nbconvert_exporter": "python",
   "pygments_lexer": "ipython3",
   "version": "3.7.6"
  }
 },
 "nbformat": 4,
 "nbformat_minor": 4
}
