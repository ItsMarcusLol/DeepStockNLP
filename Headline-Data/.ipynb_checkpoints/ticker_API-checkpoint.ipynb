{
 "cells": [
  {
   "cell_type": "code",
   "execution_count": 35,
   "metadata": {},
   "outputs": [],
   "source": [
    "#!/usr/bin/env python\n",
    "import pandas as pd\n",
    "import numpy as np\n",
    "import json\n",
    "from datetime import datetime\n",
    "from datetime import date\n",
    "try:\n",
    "    # For Python 3.0 and later\n",
    "    from urllib.request import urlopen\n",
    "except ImportError:\n",
    "    # Fall back to Python 2's urllib2\n",
    "    from urllib2 import urlopen\n",
    "\n",
    "def main():\n",
    "    key = \"f0448bd30a7028e245052fcf3caa0837\"\n",
    "    stocks = ['AAPL','AMZN','MSFT','TSLA','TGT','WMT','DELL','F','BA']\n",
    "    f_output = []\n",
    "\n",
    " \n",
    "    url = (\"https://financialmodelingprep.com/api/v3/stock_news?tickers=GOOGL&apikey=\" + key)\n",
    "    data = get_jsonparsed_data(url)\n",
    "\n",
    "    output = parse_data(data)\n",
    "    \n",
    "    df_final = pd.DataFrame(output, columns = [\"Ticker\", \"Date\", \"Headline\"])\n",
    "    \n",
    "    for st in stocks: \n",
    "        \n",
    "        url = (\"https://financialmodelingprep.com/api/v3/stock_news?tickers=\"+ st + \"&apikey=\" + key)\n",
    "        data = get_jsonparsed_data(url)\n",
    "\n",
    "        output = parse_data(data)\n",
    "        df = pd.DataFrame(output, columns = [\"Ticker\", \"Date\", \"Headline\"])\n",
    "        \n",
    "        df_final = df_final.append(df, ignore_index=True)\n",
    "    \n",
    "\n",
    "\n",
    "    df_old = pd.read_csv('Ticker-Headlines - Copy.csv')\n",
    "    df_new = pd.concat([df_final,df_old]).drop_duplicates().reset_index(drop=True)\n",
    "    df_new.to_csv('Ticker-Headlines - Copy.csv', index = False)   \n",
    "    print(len(df_final))\n",
    "    print(len(df_old))\n",
    "    print(len(df_new))\n",
    "    df_old = pd.read_csv('Ticker-Headlines - Copy.csv')\n",
    "    print(len(df_old))\n",
    "    df_old.drop_duplicates(inplace = True)\n",
    "    print(len(df_old))\n",
    "    df_old.to_csv('Ticker-Headlines - Copy.csv', index = False)  "
   ]
  },
  {
   "cell_type": "code",
   "execution_count": 36,
   "metadata": {},
   "outputs": [],
   "source": [
    "def get_jsonparsed_data(url):\n",
    "    \"\"\"\n",
    "    Receive the content of ``url``, parse it as JSON and return the object.\n",
    "\n",
    "    Parameters\n",
    "    ----------\n",
    "    url : str\n",
    "\n",
    "    Returns\n",
    "    -------\n",
    "    dict\n",
    "    \"\"\"\n",
    "    response = urlopen(url)\n",
    "    data = response.read().decode(\"utf-8\")\n",
    "    return json.loads(data)\n",
    "\n"
   ]
  },
  {
   "cell_type": "code",
   "execution_count": 37,
   "metadata": {},
   "outputs": [],
   "source": [
    "\n",
    "def parse_data(data):\n",
    "    output = []\n",
    "    for d in data:\n",
    "        date = datetime.strptime(d['publishedDate'], '%Y-%m-%d  %H:%M:%S').date()\n",
    "        output.append((d['symbol'],date,d['title']))\n",
    "    return output"
   ]
  },
  {
   "cell_type": "code",
   "execution_count": 38,
   "metadata": {},
   "outputs": [
    {
     "name": "stdout",
     "output_type": "stream",
     "text": [
      "2000\n",
      "2560\n",
      "4540\n",
      "4540\n",
      "2653\n"
     ]
    }
   ],
   "source": [
    "main()\n"
   ]
  },
  {
   "cell_type": "code",
   "execution_count": null,
   "metadata": {},
   "outputs": [],
   "source": [
    "# df_old = pd.read_csv('GOOGL-Merged_2018-2021-2-22-21-Clean.csv')\n",
    "\n",
    "\n",
    "# for x in df_old:\n",
    "#     print(x)"
   ]
  },
  {
   "cell_type": "code",
   "execution_count": null,
   "metadata": {},
   "outputs": [],
   "source": [
    "# df_old = pd.read_csv('GOOGL-Merged_2018-2021-2-22-21-Clean.csv')\n",
    "\n",
    "# headL = []\n",
    "# num = 0\n",
    "# i = 0\n",
    "# for x in df_old['Headline']:\n",
    "#     h = x.lower()\n",
    "#     if 'google' in x.lower():\n",
    "#         headL.append((df_old['Date'][i], h))\n",
    "#     if 'alphabet' in x.lower():\n",
    "#          headL.append((df_old['Date'][i],h))\n",
    "#     if 'googl' in x.lower():\n",
    "#          headL.append((df_old['Date'][i],h))\n",
    "#     i = i + 1\n",
    "\n",
    "# print(headL)            \n",
    "# df10 = pd.DataFrame(headL, columns = [ \"Date\", \"Headline\"])\n",
    "    \n",
    "# df10.to_csv('GOOGL-Merged_2018-2021-2-22-21-Clean.csv', index = False)  \n",
    "\n",
    "    \n",
    "    "
   ]
  },
  {
   "cell_type": "code",
   "execution_count": null,
   "metadata": {},
   "outputs": [],
   "source": [
    "print(df10)"
   ]
  },
  {
   "cell_type": "code",
   "execution_count": 28,
   "metadata": {},
   "outputs": [
    {
     "name": "stdout",
     "output_type": "stream",
     "text": [
      "            Date                                           Headline\n",
      "0     2018-01-05           sharing online albums with google photos\n",
      "1     2018-01-06  google in toronto’s streets, and a focus on fo...\n",
      "2     2018-01-08  google memo author sues, claiming bias against...\n",
      "3     2018-01-12                 changing country codes with google\n",
      "4     2018-01-17  google sells a.i. for building a.i. (novices w...\n",
      "...          ...                                                ...\n",
      "4251  2020-12-15  google, facebook, apple and the rest of big te...\n",
      "4252  2020-12-15  here&quot;s what happened to google&quot;s ser...\n",
      "4253  2020-12-15  google kills its google home max smart speaker...\n",
      "4254  2020-12-15  google says internal storage quota issue is to...\n",
      "4255  2020-12-14  alphabet (googl) dips more than broader market...\n",
      "\n",
      "[4256 rows x 2 columns]\n"
     ]
    }
   ],
   "source": [
    "print(df_old)"
   ]
  },
  {
   "cell_type": "code",
   "execution_count": null,
   "metadata": {},
   "outputs": [],
   "source": []
  },
  {
   "cell_type": "code",
   "execution_count": null,
   "metadata": {},
   "outputs": [],
   "source": []
  },
  {
   "cell_type": "code",
   "execution_count": null,
   "metadata": {},
   "outputs": [],
   "source": []
  },
  {
   "cell_type": "code",
   "execution_count": null,
   "metadata": {},
   "outputs": [],
   "source": []
  },
  {
   "cell_type": "code",
   "execution_count": null,
   "metadata": {},
   "outputs": [],
   "source": []
  }
 ],
 "metadata": {
  "kernelspec": {
   "display_name": "Python 3",
   "language": "python",
   "name": "python3"
  },
  "language_info": {
   "codemirror_mode": {
    "name": "ipython",
    "version": 3
   },
   "file_extension": ".py",
   "mimetype": "text/x-python",
   "name": "python",
   "nbconvert_exporter": "python",
   "pygments_lexer": "ipython3",
   "version": "3.8.3"
  }
 },
 "nbformat": 4,
 "nbformat_minor": 4
}
