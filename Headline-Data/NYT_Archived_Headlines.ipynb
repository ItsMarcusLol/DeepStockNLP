{
 "cells": [
  {
   "cell_type": "code",
   "execution_count": 1,
   "metadata": {},
   "outputs": [],
   "source": [
    "#This will get the archived data from the developer NYT website: https://developer.nytimes.com/ \n",
    "# In the varibe months, you can change how many months you want to get \n",
    "# For the varible year you can change it to get a specific year"
   ]
  },
  {
   "cell_type": "code",
   "execution_count": 36,
   "metadata": {},
   "outputs": [],
   "source": [
    "import requests\n",
    "import pandas as pd\n",
    "from datetime import datetime\n",
    "\n",
    "your_key = 'XrEpgzLniLeuVv9Rwai6PZfol6OhEN91'\n",
    "\n",
    "all_Headlines = []\n",
    "\n",
    "months = [1,2,3,4,5,6,7,8,9,10,11,12]\n",
    "years = [2018,2019,2020,2021]\n",
    "\n",
    "# stock_name = \"google\"\n",
    "# stock_ticker = \"googl\"\n",
    "# company_name = \"alphabet\"\n",
    "\n",
    "\n",
    "# stock_name = ['google', 'target', 'walmart', 'dell', 'amazon', 'tesla', 'boeing', 'microsoft', 'ford']\n",
    "# stock_ticker = [ 'googl', 'tgt','wmt', 'dell', 'amzn', 'tsla', 'ba', 'msft','f']\n",
    "company_name = \"alphabet\"\n",
    "# dict = {\"google\" : \"GOOGL\", \"target\" : \"TGT\" , \"walmart\" : \"WMT\", \"dell\" : \"DELL\", \"amazon\" : \"AMZN\", 'tesla' : \"TSLA\",\n",
    "#         \"boeing\" : \"BA\", \"microsoft\" : \"MSFT\", \"ford\" : \"F\", \"target corp\": \"TGT C\"}\n",
    "dict = { \"google\": \"GOOGL\"}"
   ]
  },
  {
   "cell_type": "code",
   "execution_count": 37,
   "metadata": {},
   "outputs": [
    {
     "ename": "JSONDecodeError",
     "evalue": "Expecting value: line 1 column 1 (char 0)",
     "output_type": "error",
     "traceback": [
      "\u001b[1;31m---------------------------------------------------------------------------\u001b[0m",
      "\u001b[1;31mJSONDecodeError\u001b[0m                           Traceback (most recent call last)",
      "\u001b[1;32m<ipython-input-37-390aeefc9a14>\u001b[0m in \u001b[0;36m<module>\u001b[1;34m\u001b[0m\n\u001b[0;32m      3\u001b[0m         \u001b[0murl\u001b[0m \u001b[1;33m=\u001b[0m \u001b[1;34m'https://api.nytimes.com/svc/archive/v1/'\u001b[0m\u001b[1;33m+\u001b[0m\u001b[0mstr\u001b[0m\u001b[1;33m(\u001b[0m\u001b[0myear\u001b[0m\u001b[1;33m)\u001b[0m\u001b[1;33m+\u001b[0m\u001b[1;34m'/'\u001b[0m\u001b[1;33m+\u001b[0m \u001b[0mstr\u001b[0m\u001b[1;33m(\u001b[0m\u001b[0mx\u001b[0m\u001b[1;33m)\u001b[0m\u001b[1;33m+\u001b[0m\u001b[1;34m'.json?api-key='\u001b[0m \u001b[1;33m+\u001b[0m\u001b[0myour_key\u001b[0m\u001b[1;33m\u001b[0m\u001b[1;33m\u001b[0m\u001b[0m\n\u001b[0;32m      4\u001b[0m         \u001b[0mr\u001b[0m \u001b[1;33m=\u001b[0m \u001b[0mrequests\u001b[0m\u001b[1;33m.\u001b[0m\u001b[0mget\u001b[0m\u001b[1;33m(\u001b[0m\u001b[0murl\u001b[0m\u001b[1;33m)\u001b[0m\u001b[1;33m\u001b[0m\u001b[1;33m\u001b[0m\u001b[0m\n\u001b[1;32m----> 5\u001b[1;33m         \u001b[0mjson_data\u001b[0m \u001b[1;33m=\u001b[0m \u001b[0mr\u001b[0m\u001b[1;33m.\u001b[0m\u001b[0mjson\u001b[0m\u001b[1;33m(\u001b[0m\u001b[1;33m)\u001b[0m\u001b[1;33m\u001b[0m\u001b[1;33m\u001b[0m\u001b[0m\n\u001b[0m\u001b[0;32m      6\u001b[0m         \u001b[0mresponse\u001b[0m \u001b[1;33m=\u001b[0m \u001b[1;33m(\u001b[0m\u001b[0mjson_data\u001b[0m\u001b[1;33m[\u001b[0m\u001b[1;34m'response'\u001b[0m\u001b[1;33m]\u001b[0m\u001b[1;33m)\u001b[0m\u001b[1;33m\u001b[0m\u001b[1;33m\u001b[0m\u001b[0m\n\u001b[0;32m      7\u001b[0m         \u001b[0mdoc\u001b[0m \u001b[1;33m=\u001b[0m \u001b[0mresponse\u001b[0m\u001b[1;33m[\u001b[0m\u001b[1;34m'docs'\u001b[0m\u001b[1;33m]\u001b[0m\u001b[1;33m\u001b[0m\u001b[1;33m\u001b[0m\u001b[0m\n",
      "\u001b[1;32m~\\anaconda3\\lib\\site-packages\\requests\\models.py\u001b[0m in \u001b[0;36mjson\u001b[1;34m(self, **kwargs)\u001b[0m\n\u001b[0;32m    896\u001b[0m                     \u001b[1;31m# used.\u001b[0m\u001b[1;33m\u001b[0m\u001b[1;33m\u001b[0m\u001b[1;33m\u001b[0m\u001b[0m\n\u001b[0;32m    897\u001b[0m                     \u001b[1;32mpass\u001b[0m\u001b[1;33m\u001b[0m\u001b[1;33m\u001b[0m\u001b[0m\n\u001b[1;32m--> 898\u001b[1;33m         \u001b[1;32mreturn\u001b[0m \u001b[0mcomplexjson\u001b[0m\u001b[1;33m.\u001b[0m\u001b[0mloads\u001b[0m\u001b[1;33m(\u001b[0m\u001b[0mself\u001b[0m\u001b[1;33m.\u001b[0m\u001b[0mtext\u001b[0m\u001b[1;33m,\u001b[0m \u001b[1;33m**\u001b[0m\u001b[0mkwargs\u001b[0m\u001b[1;33m)\u001b[0m\u001b[1;33m\u001b[0m\u001b[1;33m\u001b[0m\u001b[0m\n\u001b[0m\u001b[0;32m    899\u001b[0m \u001b[1;33m\u001b[0m\u001b[0m\n\u001b[0;32m    900\u001b[0m     \u001b[1;33m@\u001b[0m\u001b[0mproperty\u001b[0m\u001b[1;33m\u001b[0m\u001b[1;33m\u001b[0m\u001b[0m\n",
      "\u001b[1;32m~\\anaconda3\\lib\\json\\__init__.py\u001b[0m in \u001b[0;36mloads\u001b[1;34m(s, cls, object_hook, parse_float, parse_int, parse_constant, object_pairs_hook, **kw)\u001b[0m\n\u001b[0;32m    355\u001b[0m             \u001b[0mparse_int\u001b[0m \u001b[1;32mis\u001b[0m \u001b[1;32mNone\u001b[0m \u001b[1;32mand\u001b[0m \u001b[0mparse_float\u001b[0m \u001b[1;32mis\u001b[0m \u001b[1;32mNone\u001b[0m \u001b[1;32mand\u001b[0m\u001b[1;33m\u001b[0m\u001b[1;33m\u001b[0m\u001b[0m\n\u001b[0;32m    356\u001b[0m             parse_constant is None and object_pairs_hook is None and not kw):\n\u001b[1;32m--> 357\u001b[1;33m         \u001b[1;32mreturn\u001b[0m \u001b[0m_default_decoder\u001b[0m\u001b[1;33m.\u001b[0m\u001b[0mdecode\u001b[0m\u001b[1;33m(\u001b[0m\u001b[0ms\u001b[0m\u001b[1;33m)\u001b[0m\u001b[1;33m\u001b[0m\u001b[1;33m\u001b[0m\u001b[0m\n\u001b[0m\u001b[0;32m    358\u001b[0m     \u001b[1;32mif\u001b[0m \u001b[0mcls\u001b[0m \u001b[1;32mis\u001b[0m \u001b[1;32mNone\u001b[0m\u001b[1;33m:\u001b[0m\u001b[1;33m\u001b[0m\u001b[1;33m\u001b[0m\u001b[0m\n\u001b[0;32m    359\u001b[0m         \u001b[0mcls\u001b[0m \u001b[1;33m=\u001b[0m \u001b[0mJSONDecoder\u001b[0m\u001b[1;33m\u001b[0m\u001b[1;33m\u001b[0m\u001b[0m\n",
      "\u001b[1;32m~\\anaconda3\\lib\\json\\decoder.py\u001b[0m in \u001b[0;36mdecode\u001b[1;34m(self, s, _w)\u001b[0m\n\u001b[0;32m    335\u001b[0m \u001b[1;33m\u001b[0m\u001b[0m\n\u001b[0;32m    336\u001b[0m         \"\"\"\n\u001b[1;32m--> 337\u001b[1;33m         \u001b[0mobj\u001b[0m\u001b[1;33m,\u001b[0m \u001b[0mend\u001b[0m \u001b[1;33m=\u001b[0m \u001b[0mself\u001b[0m\u001b[1;33m.\u001b[0m\u001b[0mraw_decode\u001b[0m\u001b[1;33m(\u001b[0m\u001b[0ms\u001b[0m\u001b[1;33m,\u001b[0m \u001b[0midx\u001b[0m\u001b[1;33m=\u001b[0m\u001b[0m_w\u001b[0m\u001b[1;33m(\u001b[0m\u001b[0ms\u001b[0m\u001b[1;33m,\u001b[0m \u001b[1;36m0\u001b[0m\u001b[1;33m)\u001b[0m\u001b[1;33m.\u001b[0m\u001b[0mend\u001b[0m\u001b[1;33m(\u001b[0m\u001b[1;33m)\u001b[0m\u001b[1;33m)\u001b[0m\u001b[1;33m\u001b[0m\u001b[1;33m\u001b[0m\u001b[0m\n\u001b[0m\u001b[0;32m    338\u001b[0m         \u001b[0mend\u001b[0m \u001b[1;33m=\u001b[0m \u001b[0m_w\u001b[0m\u001b[1;33m(\u001b[0m\u001b[0ms\u001b[0m\u001b[1;33m,\u001b[0m \u001b[0mend\u001b[0m\u001b[1;33m)\u001b[0m\u001b[1;33m.\u001b[0m\u001b[0mend\u001b[0m\u001b[1;33m(\u001b[0m\u001b[1;33m)\u001b[0m\u001b[1;33m\u001b[0m\u001b[1;33m\u001b[0m\u001b[0m\n\u001b[0;32m    339\u001b[0m         \u001b[1;32mif\u001b[0m \u001b[0mend\u001b[0m \u001b[1;33m!=\u001b[0m \u001b[0mlen\u001b[0m\u001b[1;33m(\u001b[0m\u001b[0ms\u001b[0m\u001b[1;33m)\u001b[0m\u001b[1;33m:\u001b[0m\u001b[1;33m\u001b[0m\u001b[1;33m\u001b[0m\u001b[0m\n",
      "\u001b[1;32m~\\anaconda3\\lib\\json\\decoder.py\u001b[0m in \u001b[0;36mraw_decode\u001b[1;34m(self, s, idx)\u001b[0m\n\u001b[0;32m    353\u001b[0m             \u001b[0mobj\u001b[0m\u001b[1;33m,\u001b[0m \u001b[0mend\u001b[0m \u001b[1;33m=\u001b[0m \u001b[0mself\u001b[0m\u001b[1;33m.\u001b[0m\u001b[0mscan_once\u001b[0m\u001b[1;33m(\u001b[0m\u001b[0ms\u001b[0m\u001b[1;33m,\u001b[0m \u001b[0midx\u001b[0m\u001b[1;33m)\u001b[0m\u001b[1;33m\u001b[0m\u001b[1;33m\u001b[0m\u001b[0m\n\u001b[0;32m    354\u001b[0m         \u001b[1;32mexcept\u001b[0m \u001b[0mStopIteration\u001b[0m \u001b[1;32mas\u001b[0m \u001b[0merr\u001b[0m\u001b[1;33m:\u001b[0m\u001b[1;33m\u001b[0m\u001b[1;33m\u001b[0m\u001b[0m\n\u001b[1;32m--> 355\u001b[1;33m             \u001b[1;32mraise\u001b[0m \u001b[0mJSONDecodeError\u001b[0m\u001b[1;33m(\u001b[0m\u001b[1;34m\"Expecting value\"\u001b[0m\u001b[1;33m,\u001b[0m \u001b[0ms\u001b[0m\u001b[1;33m,\u001b[0m \u001b[0merr\u001b[0m\u001b[1;33m.\u001b[0m\u001b[0mvalue\u001b[0m\u001b[1;33m)\u001b[0m \u001b[1;32mfrom\u001b[0m \u001b[1;32mNone\u001b[0m\u001b[1;33m\u001b[0m\u001b[1;33m\u001b[0m\u001b[0m\n\u001b[0m\u001b[0;32m    356\u001b[0m         \u001b[1;32mreturn\u001b[0m \u001b[0mobj\u001b[0m\u001b[1;33m,\u001b[0m \u001b[0mend\u001b[0m\u001b[1;33m\u001b[0m\u001b[1;33m\u001b[0m\u001b[0m\n",
      "\u001b[1;31mJSONDecodeError\u001b[0m: Expecting value: line 1 column 1 (char 0)"
     ]
    }
   ],
   "source": [
    "for year in years:\n",
    "    for x in months:\n",
    "        url = 'https://api.nytimes.com/svc/archive/v1/'+str(year)+'/'+ str(x)+'.json?api-key=' +your_key\n",
    "        r = requests.get(url)\n",
    "        json_data = r.json()\n",
    "        response = (json_data['response'])\n",
    "        doc = response['docs']\n",
    "        for y in doc:\n",
    "           \n",
    "            headline = y['headline']['main'].lower()\n",
    "            for s in dict.keys():\n",
    "                if s in headline or dict[s] in  headline or (company_name in  headline and (\"business\" in headline or \"inc.\" in headline or \"stock\" in headline)):\n",
    "                    oldformat = y['pub_date']\n",
    "                    date = oldformat.partition(\"T\")[0]\n",
    "                    d = datetime.strptime(date, '%Y-%m-%d').date()\n",
    "                    all_Headlines.append((s, d, y['headline']['main'].lower()))\n",
    "\n",
    "#                     all_Headlines.append((s, d, y['headline']['main'].lower(), y['headline']['sub'], y['keywords'], y['type_of_material']))\n",
    "#                     print(y['keywords'])\n",
    "        \n"
   ]
  },
  {
   "cell_type": "code",
   "execution_count": 38,
   "metadata": {},
   "outputs": [
    {
     "name": "stdout",
     "output_type": "stream",
     "text": [
      "[('google', datetime.date(2018, 1, 5), 'sharing online albums with google photos'), ('google', datetime.date(2018, 1, 6), 'google in toronto’s streets, and a focus on food: canada letter'), ('google', datetime.date(2018, 1, 8), 'google memo author sues, claiming bias against white conservative men'), ('google', datetime.date(2018, 1, 12), 'changing country codes with google'), ('google', datetime.date(2018, 1, 17), 'google sells a.i. for building a.i. (novices welcome)'), ('google', datetime.date(2018, 1, 23), 'the google lunar x prize’s race to the moon is over. nobody won.'), ('google', datetime.date(2018, 1, 24), 'using drones and netflix in the andes, but sidestepping google maps'), ('google', datetime.date(2018, 1, 26), 'sharing events from other google calendars'), ('google', datetime.date(2018, 2, 2), 'adding captions to images in google photos'), ('google', datetime.date(2018, 2, 4), 'early facebook and google employees form coalition to fight what they built'), ('google', datetime.date(2018, 2, 7), '$2.4 billion deal for chelsea market enlarges google’s new york footprint'), ('google', datetime.date(2018, 2, 7), 'keeping google assistant on tap'), ('google', datetime.date(2018, 2, 7), 'why google’s bosses became ‘unpumped’ about uber'), ('google', datetime.date(2018, 2, 12), 'google makes its special a.i. chips available to others'), ('google', datetime.date(2018, 2, 13), 'new google tips and tools for travelers'), ('google', datetime.date(2018, 2, 16), 'farhad’s week in tech: netflix gets a star, and google’s conflicted ad blocker'), ('google', datetime.date(2018, 2, 16), 'google legally fired diversity memo author, labor agency says'), ('google', datetime.date(2018, 2, 19), 'google chrome now blocks irksome ads. that’s a good thing, right?'), ('google', datetime.date(2018, 2, 19), 'why a.i. researchers at google got desks next to the boss'), ('google', datetime.date(2018, 2, 20), 'the case against google'), ('google', datetime.date(2018, 2, 24), 'facebook and google struggle to squelch ‘crisis actor’ posts'), ('google', datetime.date(2018, 3, 5), 'google to sell zagat to the infatuation, an upstart review site'), ('google', datetime.date(2018, 3, 6), 'new foils for the right: google and facebook'), ('google', datetime.date(2018, 3, 6), 'google researchers are learning how machines learn'), ('google', datetime.date(2018, 3, 8), 'teaching activities for: ‘google researchers are learning how machines learn’'), ('google', datetime.date(2018, 3, 9), 'google is trying too hard (or not hard enough) to diversify'), ('google', datetime.date(2018, 3, 13), 'google’s security sweep for apps'), ('google', datetime.date(2018, 3, 14), 'google bans bitcoin advertisements in policy change'), ('google', datetime.date(2018, 3, 20), 'google pledges $300 million to clean up false news'), ('google', datetime.date(2018, 3, 22), 'chatting up the google assistant'), ('google', datetime.date(2018, 3, 24), 'siri, alexa and that google gal will get you only so far'), ('google', datetime.date(2018, 3, 24), 'how calls for privacy may upend business for facebook and google'), ('google', datetime.date(2018, 3, 24), 'timeline: facebook and google under regulators’ glare'), ('google', datetime.date(2018, 3, 27), 'waymo, a google spinoff, ramps up its driverless-car effort'), ('google', datetime.date(2018, 3, 27), 'apple unveils new ipad to catch google in the classroom'), ('google', datetime.date(2018, 3, 30), 'keeping personal appointments private on google calendar'), ('google', datetime.date(2018, 4, 1), 'they tried to boycott facebook, apple and google. they failed.'), ('google', datetime.date(2018, 4, 3), 'apple hires google’s a.i. chief'), ('google', datetime.date(2018, 4, 4), '‘the business of war’: google employees protest work for the pentagon'), ('google', datetime.date(2018, 4, 23), 'how facebook and google could benefit from the g.d.p.r., europe’s new privacy law'), ('google', datetime.date(2018, 4, 23), 'google’s parent company spends like it’s thinking of a future beyond ads'), ('google', datetime.date(2018, 5, 4), 'google will ask buyers of u.s. election ads to prove identities'), ('google', datetime.date(2018, 5, 8), 'google strikes humble tone while promoting a.i. technology'), ('google', datetime.date(2018, 5, 11), 'kevin’s week in tech: are google’s a.i.-powered phone calls cool, creepy, or both?'), ('google', datetime.date(2018, 5, 16), 'google’s file on me was huge. here’s why it wasn’t as creepy as my facebook data.'), ('google', datetime.date(2018, 5, 25), 'ireland’s abortion referendum becomes a test for facebook and google'), ('google', datetime.date(2018, 5, 26), 'as google feeds cats, owl lovers cry foul '), ('google', datetime.date(2018, 5, 30), 'how a pentagon contract became an identity crisis for google'), ('google', datetime.date(2018, 5, 31), 'protesters block google buses in san francisco, citing ‘techsploitation’'), ('google', datetime.date(2018, 6, 1), 'google will not renew pentagon contract that upset employees'), ('google', datetime.date(2018, 6, 6), 'google is in europe’s cross hairs again: dealbook briefing'), ('google', datetime.date(2018, 6, 7), 'google promises its a.i. will not be used for weapons'), ('google', datetime.date(2018, 6, 18), 'google, rebuilding its presence in china, invests in retailer jd.com'), ('google', datetime.date(2018, 6, 18), 'google’s diversity efforts, charted'), ('google', datetime.date(2018, 6, 18), 'google’s jd.com deal shows silicon valley still wants in on china'), ('google', datetime.date(2018, 7, 2), 'how to measure a straight line in google maps'), ('google', datetime.date(2018, 7, 5), 'tagwalk wants to be the google of fashion '), ('google', datetime.date(2018, 7, 11), 'google’s parent births new businesses: balloons and drones'), ('google', datetime.date(2018, 7, 13), '‘o.k., google, make me happy’: in this novel, technology is a panacea'), ('google', datetime.date(2018, 7, 13), 'the google translate world cup'), ('google', datetime.date(2018, 7, 15), 'banks report earnings, and google faces antitrust fines '), ('google', datetime.date(2018, 7, 18), 'e.u. fines google $5.1 billion in android antitrust case'), ('google', datetime.date(2018, 7, 18), 'thai boys, google fine, maria butina: your thursday briefing'), ('google', datetime.date(2018, 7, 18), 'trump, google, thai soccer team: your wednesday evening briefing'), ('google', datetime.date(2018, 7, 19), 'trump, google fine, british open: your thursday briefing'), ('google', datetime.date(2018, 7, 19), 'dealbook briefing: google’s e.u. fine might not matter'), ('google', datetime.date(2018, 7, 19), 'trump bashes e.u. over $5.1 billion fine for google'), ('google', datetime.date(2018, 7, 19), 'for android users, europe’s google ruling leaves unanswered questions'), ('google', datetime.date(2018, 7, 19), 'a $5.1 billion fine for google won’t fix tech'), ('google', datetime.date(2018, 7, 24), 'google shrugs off $5.1 billion fine with another big quarter'), ('google', datetime.date(2018, 7, 24), 'google and american oligopolies'), ('google', datetime.date(2018, 7, 24), 'how e.u.’s google fine explains high cellphone costs in the u.s. '), ('google', datetime.date(2018, 7, 26), 'why trump is right about the e.u.’s penalty against google'), ('google', datetime.date(2018, 8, 1), 'gaza and google translate: covering the conflict when you don’t speak the language'), ('google', datetime.date(2018, 8, 1), 'google, seeking a return to china, is said to be building a censored search engine'), ('google', datetime.date(2018, 8, 2), 'as google maps renames neighborhoods, residents fume'), ('google', datetime.date(2018, 8, 2), 'dealbook briefing: google in china is no done deal'), ('google', datetime.date(2018, 8, 6), 'a generation grows up in china without google, facebook or twitter'), ('google', datetime.date(2018, 8, 12), 'google-facebook dominance hurts ad tech firms, speeding consolidation'), ('google', datetime.date(2018, 8, 16), 'google employees protest secret work on censored search engine for china'), ('google', datetime.date(2018, 8, 16), 'aretha franklin, free press, google: your friday briefing'), ('google', datetime.date(2018, 8, 17), 'alexa vs. siri vs. google: which can carry on a conversation best?'), ('google', datetime.date(2018, 8, 22), 'google tried to change china. china may end up changing google.'), ('google', datetime.date(2018, 8, 23), 'google deletes 39 youtube channels linked to iranian influence operation'), ('google', datetime.date(2018, 8, 24), 'alphabet’s plans for a china comeback go beyond google search'), ('google', datetime.date(2018, 8, 28), 'trump accuses google of burying conservative news in search results'), ('google', datetime.date(2018, 8, 29), 'primary elections, nafta, google: your wednesday briefing'), ('google', datetime.date(2018, 8, 30), 'trump whines that google isn’t a safe space'), ('google', datetime.date(2018, 8, 31), 'here’s the conversation we really need to have about bias at google'), ('google', datetime.date(2018, 9, 5), 'trump says google is rigged, despite its denials. what do we know about how it works?'), ('google', datetime.date(2018, 9, 10), 'don’t force google to export other countries’ laws'), ('google', datetime.date(2018, 9, 11), 'don’t blame google, mr. trump'), ('google', datetime.date(2018, 9, 12), 'google knows where you’ve been, but does it know who you are?'), ('google', datetime.date(2018, 9, 13), 'leaked google video after trump’s win adds to pressure from conservatives'), ('google', datetime.date(2018, 9, 13), 'the real google censorship scandal '), ('google', datetime.date(2018, 9, 19), 'the most fun (and useful) things you can do with an amazon echo or google home'), ('google', datetime.date(2018, 9, 20), 'new pressure on google and youtube over children’s data'), ('google', datetime.date(2018, 9, 22), 'google c.e.o. denies allegations of political bias in search results'), ('google', datetime.date(2018, 9, 26), 'ex-google employee urges lawmakers to take on company'), ('google', datetime.date(2018, 9, 26), 'google tweaks chrome in response to privacy criticism'), ('google', datetime.date(2018, 9, 27), 'it’s google’s turn in washington’s glare'), ('google', datetime.date(2018, 9, 28), 'google chief agrees to testify to congress'), ('google', datetime.date(2018, 10, 8), 'google plus will be shut down after user information was exposed'), ('google', datetime.date(2018, 10, 9), 'hurricane michael, hope hicks, google plus: your tuesday briefing'), ('google', datetime.date(2018, 10, 9), 'dealbook briefing: google’s turn for a data scandal'), ('google', datetime.date(2018, 10, 9), 'how will google play its new product announcements on the back of a data scandal?'), ('google', datetime.date(2018, 10, 9), 'new pixel phones and other gadgets keep google in the hardware hunt'), ('google', datetime.date(2018, 10, 15), 'the google pixel 3 review: phone’s smarts shine through its a.i.-driven camera'), ('google', datetime.date(2018, 10, 16), 'google to charge phone makers for android apps in europe'), ('google', datetime.date(2018, 10, 17), 'an eye for photography, but a google suite for events'), ('google', datetime.date(2018, 10, 23), 'google turns over identities of bloggers on benfica'), ('google', datetime.date(2018, 10, 23), 'google is teaching children how to act online. is it the best role model? '), ('google', datetime.date(2018, 10, 25), 'how google protected andy rubin, the ‘father of android’'), ('google', datetime.date(2018, 10, 25), 'google retreats from berlin plan opposed by local groups'), ('google', datetime.date(2018, 10, 25), 'explosives, google, midterms: your thursday evening briefing'), ('google', datetime.date(2018, 10, 26), 'should tech giants like google be in the business of teaching children how to be good digital citizens?'), ('google', datetime.date(2018, 10, 26), 'pipe bombs, google, megyn kelly: your friday briefing'), ('google', datetime.date(2018, 10, 26), 'dealbook briefing: google’s #metoo moment'), ('google', datetime.date(2018, 10, 26), 'google workers fume over executives’ payouts after sexual harassment claims'), ('google', datetime.date(2018, 10, 31), 'supreme court weighs google settlement that paid class members nothing'), ('google', datetime.date(2018, 10, 31), 'google faces internal backlash over handling of sexual harassment'), ('google', datetime.date(2018, 11, 1), 'george soros, yemen, google: your thursday briefing'), ('google', datetime.date(2018, 11, 1), 'dealbook conference live updates: google c.e.o.’s mea culpa'), ('google', datetime.date(2018, 11, 1), 'google walkout: employees stage protest over handling of sexual harassment'), ('google', datetime.date(2018, 11, 1), 'california today: google employees around the world walk out'), ('google', datetime.date(2018, 11, 1), 'google employees stage worldwide walkout'), ('google', datetime.date(2018, 11, 2), 'immigration, google, ‘bohemian rhapsody’: your friday briefing'), ('google', datetime.date(2018, 11, 2), 'dealbook briefing: google’s mea culpa and future murdoch deals'), ('google', datetime.date(2018, 11, 2), 'senior google lobbyist is stepping down from her role'), ('google', datetime.date(2018, 11, 6), 'google workers reject silicon valley individualism in walkout'), ('google', datetime.date(2018, 11, 7), 'why the google walkout was a watershed moment in tech'), ('google', datetime.date(2018, 11, 8), 'google is said to be shopping for more real estate in new york'), ('google', datetime.date(2018, 11, 8), 'sundar pichai of google: ‘technology doesn’t solve humanity’s problems’'), ('google', datetime.date(2018, 11, 8), 'after paying off men accused of sexual harassment, google says it will meet many of the protesters’ demands '), ('google', datetime.date(2018, 11, 8), 'google overhauls sexual misconduct policy after employee walkout'), ('google', datetime.date(2018, 11, 8), 'google, thousand oaks, china: your friday briefing'), ('google', datetime.date(2018, 11, 9), 'new york today: we like big. are google and amazon too big?'), ('google', datetime.date(2018, 11, 9), 'dealbook briefing: google overhauls its sexual misconduct policy'), ('google', datetime.date(2018, 11, 14), 'how google photos became a perfect jukebox for our memories'), ('google', datetime.date(2018, 11, 16), 'google cloud executive who sought pentagon contract steps down'), ('google', datetime.date(2018, 11, 22), 'google to demand more disclosure from buyers of european election ads'), ('google', datetime.date(2018, 12, 3), 'behind google’s salad bar, a single mother who found the right kitchen'), ('google', datetime.date(2018, 12, 7), 'google hearing to preview democrats’ strategy on big tech'), ('google', datetime.date(2018, 12, 11), 'sundar pichai, google’s c.e.o., testifies on capitol hill'), ('google', datetime.date(2018, 12, 12), 'google’s pichai faces privacy and bias questions in congress'), ('google', datetime.date(2018, 12, 14), 'new zealand rebukes google for airing name of suspect in backpacker’s killing'), ('google', datetime.date(2018, 12, 14), 'what amazon could learn from google in new york city'), ('google', datetime.date(2018, 12, 17), 'dr. google is a liar '), ('google', datetime.date(2018, 12, 17), 'new google campus accelerates tech’s march into new york'), ('google', datetime.date(2018, 12, 19), 'google’s marketing of children’s apps misleads parents, consumer groups say'), ('google', datetime.date(2018, 12, 23), 'google’s advance on new york'), ('google', datetime.date(2018, 12, 31), 'firm led by google veterans uses a.i. to ‘nudge’ workers toward happiness'), ('google', datetime.date(2019, 1, 4), 'tracking the demise of my marriage on google maps'), ('google', datetime.date(2019, 1, 11), 'board sued over google’s exit package for accused executive'), ('google', datetime.date(2019, 1, 16), 'o.k., google: how much money have i made for you today?'), ('google', datetime.date(2019, 1, 18), 'the week in tech: how google and facebook spawned surveillance capitalism'), ('google', datetime.date(2019, 1, 21), 'google is fined $57 million under europe’s data privacy law'), ('google', datetime.date(2019, 2, 4), 'alphabet is in a tumultuous time, but the business keeps booming'), ('google', datetime.date(2019, 2, 6), 'google and waze must stop sharing drunken-driving checkpoints, new york police demand'), ('google', datetime.date(2019, 2, 13), 'apple and google urged to dump saudi app that lets men track women'), ('google', datetime.date(2019, 2, 21), 'google ends forced arbitration for all employee disputes'), ('google', datetime.date(2019, 3, 4), 'google finds it’s underpaying many men as it addresses wage equity'), ('google', datetime.date(2019, 3, 7), 'even google can no longer hide its gender pay gap'), ('google', datetime.date(2019, 3, 11), 'google approved $45 million exit package for executive accused of misconduct'), ('google', datetime.date(2019, 3, 19), 'google introduces streaming video game service'), ('google', datetime.date(2019, 3, 20), 'google fined $1.7 billion by e.u. for unfair advertising rules'), ('google', datetime.date(2019, 3, 25), 'he tried to bilk google and facebook out of $100 million with fake invoices'), ('google', datetime.date(2019, 3, 26), 'inside google’s rebooted robotics program'), ('google', datetime.date(2019, 4, 3), 'google returns'), ('google', datetime.date(2019, 4, 5), 'therapy and the google complex'), ('google', datetime.date(2019, 4, 13), 'tracking phones, google is a dragnet for the police'), ('google', datetime.date(2019, 4, 13), 'google’s sensorvault is a boon for law enforcement. this is how it works.'), ('google', datetime.date(2019, 4, 15), 'google, trump, tiger woods: your monday briefing'), ('google', datetime.date(2019, 4, 22), 'google employees say they faced retaliation after organizing walkout'), ('google', datetime.date(2019, 4, 23), 'sri lanka, google, philippines: your tuesday briefing'), ('google', datetime.date(2019, 4, 23), 'i used to work for google. i am a conscientious objector.'), ('google', datetime.date(2019, 4, 24), 'wing, owned by google’s parent company, gets first approval for drone deliveries in u.s.'), ('google', datetime.date(2019, 4, 30), 'eric schmidt to leave alphabet board, ending an era that defined google'), ('google', datetime.date(2019, 5, 1), 'who is ruth asawa, the artist in today’s google doodle?'), ('google', datetime.date(2019, 5, 7), 'google pixel 3a review: the $400 smartphone you’ve been waiting for'), ('google', datetime.date(2019, 5, 7), 'google says it has found religion on privacy'), ('google', datetime.date(2019, 5, 8), 'google’s sundar pichai: privacy should not be a luxury good'), ('google', datetime.date(2019, 5, 10), 'the week in tech: facebook and google reshape the narrative on privacy'), ('google', datetime.date(2019, 5, 14), 'attention, amazon shoppers: google wants some of your spending money'), ('google', datetime.date(2019, 5, 17), 'you’re not alone when you’re on google'), ('google', datetime.date(2019, 5, 20), 'u.s. tech suppliers, including google, restrict dealings with huawei after trump order'), ('google', datetime.date(2019, 5, 20), 'tech stocks sink after google cuts huawei off android support'), ('google', datetime.date(2019, 5, 20), 'as huawei loses google, the u.s.-china tech cold war gets its iron curtain'), ('google', datetime.date(2019, 5, 21), 'google changes abortion ad policy'), ('google', datetime.date(2019, 5, 22), 'google’s duplex uses a.i. to mimic humans (sometimes)'), ('google', datetime.date(2019, 5, 28), 'google’s shadow work force: temps who outnumber full-time employees'), ('google', datetime.date(2019, 5, 29), 'on migrant journeys with whatsapp and google translate'), ('google', datetime.date(2019, 5, 30), 'google should google the definition of ‘employee’'), ('google', datetime.date(2019, 6, 1), 'justice dept. explores google antitrust case'), ('google', datetime.date(2019, 6, 2), 'google and amazon are at the center of a storm brewing over big tech'), ('google', datetime.date(2019, 6, 2), 'google disruptions affect gmail, youtube and other sites'), ('google', datetime.date(2019, 6, 4), 'why does google know everything you’ve bought on amazon for the past six years?'), ('google', datetime.date(2019, 6, 6), 'google to buy data analytics company despite new antitrust scrutiny'), ('google', datetime.date(2019, 6, 9), 'google made $4.7 billion from the news industry in 2018, study says'), ('google', datetime.date(2019, 6, 12), '‘oversharing’ on google calendar, and making sure readers come back for more'), ('google', datetime.date(2019, 6, 18), 'google pledges to invest $1 billion to ease bay area housing crisis'), ('google', datetime.date(2019, 6, 26), 'google and the university of chicago are sued over data sharing'), ('google', datetime.date(2019, 7, 7), 'i used google ads for social engineering. it worked.'), ('google', datetime.date(2019, 7, 10), 'google’s 4,000-word privacy policy is a secret history of the internet'), ('google', datetime.date(2019, 7, 12), 'rene favaloro, a pioneering surgeon, is honored in today’s google doodle'), ('google', datetime.date(2019, 7, 15), 'a feisty google adversary tests how much people care about privacy'), ('google', datetime.date(2019, 7, 16), 'tech hearings: congress unites to take aim at amazon, apple, facebook and google'), ('google', datetime.date(2019, 7, 17), 'google glass may have an afterlife as a device to teach autistic children'), ('google', datetime.date(2019, 7, 17), 'facebook and google trackers are showing up on porn sites'), ('google', datetime.date(2019, 7, 25), 'tulsi gabbard, democratic presidential candidate, sues google for $50 million'), ('google', datetime.date(2019, 8, 2), 'good for google, bad for america'), ('google', datetime.date(2019, 8, 2), 'dealbook briefing: peter thiel accuses google of arming china (again)'), ('google', datetime.date(2019, 8, 5), 'senators urge google to give temporary workers full-time status'), ('google', datetime.date(2019, 8, 19), 'fact-checking trump’s claim that google ‘manipulated’ millions of votes for clinton'), ('google', datetime.date(2019, 8, 21), '6 google tricks that will turn you into an internet detective'), ('google', datetime.date(2019, 8, 22), 'in the trump era, a family’s fight with google and facebook over disinformation'), ('google', datetime.date(2019, 8, 22), 'how a conservative news site thrived on facebook and google'), ('google', datetime.date(2019, 8, 23), 'google tries to corral its staff after ugly internal debates'), ('google', datetime.date(2019, 8, 27), 'former star google and uber engineer charged with theft of trade secrets'), ('google', datetime.date(2019, 9, 4), 'google is fined $170 million for violating children’s privacy on youtube'), ('google', datetime.date(2019, 9, 5), 'the work diary of parisa tabriz, google’s ‘security princess’'), ('google', datetime.date(2019, 9, 6), 'new google and facebook inquiries show big tech scrutiny is rare bipartisan act'), ('google', datetime.date(2019, 9, 6), '16 ways facebook, google, apple and amazon are in government cross hairs'), ('google', datetime.date(2019, 9, 9), 'taliban, google, n.f.l.: your monday briefing'), ('google', datetime.date(2019, 9, 9), 'google antitrust investigation outlined by state attorneys general'), ('google', datetime.date(2019, 9, 10), 'lesson of the day: ‘6 google tricks that will turn you into an internet detective’'), ('google', datetime.date(2019, 9, 12), 'google says a change in its algorithm will highlight ‘original reporting’'), ('google', datetime.date(2019, 9, 12), 'google settles with u.s. over workers’ complaints it stifled dissent'), ('google', datetime.date(2019, 10, 2), 'how to set your google data to self-destruct'), ('google', datetime.date(2019, 10, 4), 'atlanta asks google whether it targeted black homeless people'), ('google', datetime.date(2019, 10, 10), 'the radical guidebook embraced by google workers and uber drivers'), ('google', datetime.date(2019, 10, 21), 'pixel 4 review: google needs to do more to stand out'), ('google', datetime.date(2019, 10, 23), 'google claims a quantum breakthrough that could change computing'), ('google', datetime.date(2019, 10, 23), 'google, mark zuckerberg, world series: your wednesday briefing'), ('google', datetime.date(2019, 10, 23), 'turkey, google, brexit: your thursday briefing'), ('google', datetime.date(2019, 10, 23), 'syria, google, california: your wednesday evening briefing'), ('google', datetime.date(2019, 10, 24), 'turkey, google, brexit: your thursday briefing'), ('google', datetime.date(2019, 10, 25), 'this week’s news quiz: google, chile, blue origin'), ('google', datetime.date(2019, 10, 25), 'the week in tech: google’s quantum leap'), ('google', datetime.date(2019, 10, 28), 'google, in rare stumble, posts 23% decline in profit'), ('google', datetime.date(2019, 10, 29), 'google misled consumers over location tracking, australia says'), ('google', datetime.date(2019, 10, 29), 'weekly news quiz for students: raid in syria, california fires, google'), ('google', datetime.date(2019, 10, 30), 'why google’s quantum supremacy milestone matters'), ('google', datetime.date(2019, 10, 31), 'google wants safeguards for information in antitrust fight'), ('google', datetime.date(2019, 11, 1), 'google to buy fitbit for $2.1 billion'), ('google', datetime.date(2019, 11, 4), 'with a laser, researchers say they can hack alexa, google home or siri'), ('google', datetime.date(2019, 11, 11), 'artificial intelligence is too important to leave to google and facebook alone'), ('google', datetime.date(2019, 11, 12), 'google to store and analyze millions of health records'), ('google', datetime.date(2019, 11, 13), 'google makes a bid for banking, where tech firms go to stumble'), ('google', datetime.date(2019, 11, 15), 'supreme court to hear google and oracle copyright case'), ('google', datetime.date(2019, 11, 17), 'the week in business: google is coming for your health records'), ('google', datetime.date(2019, 11, 18), 'google stadia wants you to replace your video game console. don’t.'), ('google', datetime.date(2019, 11, 20), 'google hires firm known for anti-union efforts'), ('google', datetime.date(2019, 11, 20), 'gordon sondland, debate, google: your wednesday evening briefing'), ('google', datetime.date(2019, 11, 20), 'google policy change upends online plans for 2020 campaigns'), ('google', datetime.date(2019, 11, 22), 'campaigns say google ad policy sidesteps problem of disinformation'), ('google', datetime.date(2019, 11, 22), 'google changed its political ad policy. will facebook be next?'), ('google', datetime.date(2019, 11, 26), 'google fires 4 workers active in labor organizing'), ('google', datetime.date(2019, 12, 3), 'era ends for google as founders step aside from a pillar of tech'), ('google', datetime.date(2019, 12, 4), 'impeachment, emmanuel macron, google: your wednesday briefing'), ('google', datetime.date(2019, 12, 4), 'dealbook: google’s founders to step aside, ending an era'), ('google', datetime.date(2019, 12, 4), 'where will sundar pichai take google?'), ('google', datetime.date(2019, 12, 5), 'how google’s founders slowly stepped away from their company'), ('google', datetime.date(2019, 12, 16), 'googled ‘impeachment’ lately? first result is a bloomberg ad'), ('google', datetime.date(2019, 12, 27), 'my decade in google searches'), ('google', datetime.date(2019, 12, 30), 'white extremism faces a subversive foe online: google ads'), ('google', datetime.date(2020, 1, 7), 'sonos, squeezed by the tech giants, sues google'), ('google', datetime.date(2020, 1, 16), 'google reaches $1 trillion in value, even as it faces new tests'), ('google', datetime.date(2020, 1, 24), 'have a search warrant for data? google wants you to pay'), ('google', datetime.date(2020, 1, 31), 'why google backtracked on its new search results look'), ('google', datetime.date(2020, 2, 2), '2020 super bowl commercials: funeral for mr. peanut, tears for google'), ('google', datetime.date(2020, 2, 4), 'top antitrust official is said to recuse himself from google inquiry'), ('google', datetime.date(2020, 2, 6), 'should google shrink to save itself?'), ('google', datetime.date(2020, 2, 19), 'the great google revolt'), ('google', datetime.date(2020, 2, 20), 'new mexico sues google over children’s privacy violations'), ('google', datetime.date(2020, 2, 22), 'google reaches document protection deal in antitrust fight'), ('google', datetime.date(2020, 2, 27), 'eric schmidt: i used to run google. silicon valley could lose to china.'), ('google', datetime.date(2020, 2, 27), 'facebook, google and twitter rebel against pakistan’s censorship rules'), ('google', datetime.date(2020, 3, 5), 'tulsi gabbard’s $50 million suit against google is dismissed'), ('google', datetime.date(2020, 3, 5), 'star engineer who crossed google is ordered to pay $179 million to company'), ('google', datetime.date(2020, 3, 10), 'you can’t fight city hall. but maybe you can fight google.'), ('google', datetime.date(2020, 3, 15), 'trump oversold a google site to fight coronavirus'), ('google', datetime.date(2020, 3, 21), 'google gives cover to trump’s lies'), ('google', datetime.date(2020, 3, 23), 'logged on from the laundry room: how the c.e.o.s of google, pfizer and slack work from home'), ('google', datetime.date(2020, 4, 5), 'google searches can help us find emerging covid-19 outbreaks'), ('google', datetime.date(2020, 4, 8), 'google makes stadia gaming service free'), ('google', datetime.date(2020, 4, 10), 'apple and google team up to ‘contact trace’ the coronavirus'), ('google', datetime.date(2020, 4, 14), 'even google and facebook may face an ad slump'), ('google', datetime.date(2020, 4, 19), 'google and facebook must pay for local journalism'), ('google', datetime.date(2020, 4, 20), 'australia moves to force google and facebook to compensate media outlets'), ('google', datetime.date(2020, 4, 23), 'google will require proof of identity from all advertisers'), ('google', datetime.date(2020, 5, 7), 'google sibling abandons ambitious city of the future in toronto'), ('google', datetime.date(2020, 5, 16), 'u.s. is said to plan to file antitrust charges against google'), ('google', datetime.date(2020, 5, 20), 'need recommendations? we’ve got google docs for that.'), ('google', datetime.date(2020, 5, 22), 'why all the shouting about google?'), ('google', datetime.date(2020, 5, 29), 'google rescinds offers to thousands of contract workers'), ('google', datetime.date(2020, 6, 2), 'suit claims google’s tracking violates federal wiretap law'), ('google', datetime.date(2020, 6, 4), 'google’s european search menu draws interest of u.s. antitrust investigators'), ('google', datetime.date(2020, 6, 4), 'chinese hackers target email accounts of biden campaign staff, google says'), ('google', datetime.date(2020, 6, 19), 'a former google executive takes aim at his old company with a start-up'), ('google', datetime.date(2020, 6, 23), 'tiny love stories: “i googled ‘crisis’”'), ('google', datetime.date(2020, 6, 24), 'google sets limit on how long it will store some data'), ('google', datetime.date(2020, 6, 25), 'barr’s interest in google antitrust case keeps it moving swiftly'), ('google', datetime.date(2020, 7, 7), 'a bird? a plane? no, it’s a google balloon beaming the internet'), ('google', datetime.date(2020, 7, 13), 'how may google fight an antitrust case? look at this little-noticed paper'), ('google', datetime.date(2020, 7, 20), 'google promises privacy with virus app but can still collect location data'), ('google', datetime.date(2020, 7, 21), 'e.u. deal, u.k. extradition treaty, google: your tuesday briefing'), ('google', datetime.date(2020, 7, 21), 'google’s virus-tracing apps can allow it to track some users’ locations.'), ('google', datetime.date(2020, 7, 23), 'google takes aim at amazon. again.'), ('google', datetime.date(2020, 7, 28), 'amazon, apple, facebook and google prepare for their ‘big tobacco moment’'), ('google', datetime.date(2020, 8, 3), 'google pixel 4a review: at $350, a win for those on a budget'), ('google', datetime.date(2020, 8, 4), 'google faces an e.u. investigation into its fitbit acquisition.'), ('google', datetime.date(2020, 8, 4), 'google faces european inquiry into fitbit acquisition'), ('google', datetime.date(2020, 8, 5), 'star technologist who crossed google sentenced to 18 months in prison'), ('google', datetime.date(2020, 8, 12), 'google, facebook and others broaden group to secure u.s. election'), ('google', datetime.date(2020, 8, 13), 'fortnite creator sues apple and google after ban from app stores'), ('google', datetime.date(2020, 8, 25), 'to fight apple and google’s grip, fortnite creator mounts a crusade'), ('google', datetime.date(2020, 9, 1), 'apple and google to make it easier to opt in to virus tracing'), ('google', datetime.date(2020, 9, 2), 'apple and google are making it easier to opt in to virus tracing.'), ('google', datetime.date(2020, 9, 3), 'justice dept. plans to file antitrust charges against google in coming weeks'), ('google', datetime.date(2020, 9, 15), 'the bumbling 1960s data scientists who anticipated facebook and google'), ('google', datetime.date(2020, 9, 21), 'this deal helped turn google into an ad powerhouse. is that a problem?'), ('google', datetime.date(2020, 9, 22), 'justice dept. to brief states on google antitrust inquiry'), ('google', datetime.date(2020, 9, 22), 'justice dept. case against google is said to focus on search dominance'), ('google', datetime.date(2020, 9, 24), 'to fight apple and google, smaller app rivals organize a coalition'), ('google', datetime.date(2020, 9, 24), 'what’s the deal with google now?'), ('google', datetime.date(2020, 9, 25), 'google services go down in some parts of u.s.'), ('google', datetime.date(2020, 9, 28), 'google demands 30% cut from app developers in its play store'), ('google', datetime.date(2020, 10, 1), 'google commits $1 billion to license content from news publishers.'), ('google', datetime.date(2020, 10, 6), '12 accusations in the damning house report on amazon, apple, facebook and google'), ('google', datetime.date(2020, 10, 7), 'google chromecast review: a streaming device that gets better the more it knows'), ('google', datetime.date(2020, 10, 7), 'supreme court hears copyright battle between google and oracle'), ('google', datetime.date(2020, 10, 8), 'labor board accuses google contractor of violating union rights'), ('google', datetime.date(2020, 10, 13), 'google employees are free to speak up. except on antitrust.'), ('google', datetime.date(2020, 10, 20), 'u.s. accuses google of illegally protecting monopoly'), ('google', datetime.date(2020, 10, 20), 'what is happening with the antitrust suit against google?'), ('google', datetime.date(2020, 10, 20), 'read the antitrust lawsuit against google'), ('google', datetime.date(2020, 10, 20), 'it’s google’s world. we just live in it.'), ('google', datetime.date(2020, 10, 20), 'why the government is suing google'), ('google', datetime.date(2020, 10, 20), 'google, early voting, world series: your tuesday evening briefing'), ('google', datetime.date(2020, 10, 20), 'the justice dept.’s lawsuit against google: too little, too late'), ('google', datetime.date(2020, 10, 20), 'google up against laws that thwarted microsoft (and others since 1890)'), ('google', datetime.date(2020, 10, 21), 'google antitrust fight thrusts low-key c.e.o. into the line of fire'), ('google', datetime.date(2020, 10, 21), 'a readers’ guide to our coverage of the google antitrust case.'), ('google', datetime.date(2020, 10, 21), 'the justice dept. vs. google'), ('google', datetime.date(2020, 10, 21), 'what did google do?'), ('google', datetime.date(2020, 10, 21), 'five questions about the antitrust case against google.'), ('google', datetime.date(2020, 10, 21), 'big tech’s professional opponents strike at google'), ('google', datetime.date(2020, 10, 21), 'google has edge in antitrust fight'), ('google', datetime.date(2020, 10, 22), 'google, you can’t buy your way out of this'), ('google', datetime.date(2020, 10, 22), 'top investigator in google case says there ‘was not a rush’ to sue'), ('google', datetime.date(2020, 10, 22), 'the case against google'), ('google', datetime.date(2020, 10, 23), 'news quiz: russia, google, world series'), ('google', datetime.date(2020, 10, 25), 'apple, google and a deal that controls the internet'), ('google', datetime.date(2020, 10, 27), 'weekly news quiz for students: google lawsuit, supreme court, found painting '), ('google', datetime.date(2020, 10, 28), 'facebook, google and twitter c.e.o.s return to washington to defend their content moderation.'), ('google', datetime.date(2020, 10, 30), 'amazon and google’s true advantage'), ('google', datetime.date(2020, 12, 3), 'federal labor agency says google wrongly fired 2 employees'), ('google', datetime.date(2020, 12, 3), 'google researcher says she was fired over paper highlighting bias in a.i.'), ('google', datetime.date(2020, 12, 9), 'google chief apologizes for a.i. researcher’s dismissal'), ('google', datetime.date(2020, 12, 14), 'google delays return to office and eyes ‘flexible work week’'), ('google', datetime.date(2020, 12, 14), 'google dominates thanks to an unrivaled view of the web'), ('google', datetime.date(2020, 12, 14), 'google’s apps crash in a worldwide outage.'), ('google', datetime.date(2020, 12, 14), 'vaccines, electoral college, google: your monday evening briefing'), ('google', datetime.date(2020, 12, 16), '10 states accuse google of abusing monopoly in online ads'), ('google', datetime.date(2020, 12, 17), 'after a yearlong review, europe approves google’s fitbit acquisition.'), ('google', datetime.date(2020, 12, 17), 'microsoft’s lessons for google'), ('google', datetime.date(2020, 12, 17), 'google’s legal peril grows in face of third antitrust suit'), ('google', datetime.date(2020, 12, 21), 'google denies antitrust claims in early response to u.s. lawsuit'), ('google', datetime.date(2021, 1, 4), 'hundreds of google employees unionize, culminating years of activism'), ('google', datetime.date(2021, 1, 4), 'we built google. this is not the company we want to work for.'), ('google', datetime.date(2021, 1, 9), 'parler pitched itself as twitter without rules. not anymore, apple and google said.'), ('google', datetime.date(2021, 1, 10), 'amazon, apple and google cut off parler, an app that drew trump supporters'), ('google', datetime.date(2021, 1, 10), 'apple, google and amazon kick parler off their platforms'), ('google', datetime.date(2021, 1, 13), 'google bans political ads until the inauguration.'), ('google', datetime.date(2021, 1, 17), 'behind a secret deal between google and facebook'), ('google', datetime.date(2021, 1, 19), 'behind the google-facebook deal that is the focus of an antitrust suit.'), ('google', datetime.date(2021, 1, 22), 'google-linked balloon project to provide cell service will close'), ('google', datetime.date(2021, 1, 22), 'an australia with no google? the bitter fight behind a drastic threat'), ('google', datetime.date(2021, 1, 25), 'google to lend its facilities for use as vaccine clinics.'), ('google', datetime.date(2021, 1, 29), 'my attempt to prepare for a future without google'), ('google', datetime.date(2021, 1, 30), 'a west virginia newspaper company is suing google and facebook over online ads.'), ('google', datetime.date(2021, 2, 16), 'north dakota lawmakers vote down a bill that threatened apple’s and google’s revenues.'), ('google', datetime.date(2021, 2, 17), 'google is suddenly paying for news in australia. what about everywhere else?'), ('google', datetime.date(2021, 2, 17), 'facebook blocks news in australia, diverging with google on proposed law'), ('google', datetime.date(2021, 2, 17), 'facebook restricts the sharing of news in australia as google says it will pay some publishers.'), ('google', datetime.date(2021, 2, 20), 'a second google a.i. researcher says the company fired her.')]\n"
     ]
    }
   ],
   "source": [
    "print(all_Headlines)"
   ]
  },
  {
   "cell_type": "code",
   "execution_count": 13,
   "metadata": {},
   "outputs": [],
   "source": [
    "\n",
    "\n",
    "# t_headlines = pd.read_csv('Ticker-Headlines - Copy.csv')\n",
    "\n",
    "# i = 0\n",
    "# print(t_headlines['Date'][i])\n",
    "# for x in t_headlines['Ticker']:\n",
    "# #     print(x)\n",
    "#     if x == 'GOOGL':\n",
    "#         print(t_headlines['Date'][i], t_headlines['Headline'])\n",
    "#         all_Headlines.append((t_headlines['Date'][i], t_headlines['Headline']))\n",
    "#     i = i + 1\n",
    "    \n",
    "   "
   ]
  },
  {
   "cell_type": "code",
   "execution_count": 39,
   "metadata": {},
   "outputs": [
    {
     "name": "stdout",
     "output_type": "stream",
     "text": [
      "387\n",
      "2370\n",
      "2569\n",
      "      Stock        Date                                           Headline\n",
      "0    google  2018-01-05           sharing online albums with google photos\n",
      "1    google  2018-01-06  google in toronto’s streets, and a focus on fo...\n",
      "2    google  2018-01-08  google memo author sues, claiming bias against...\n",
      "3    google  2018-01-12                 changing country codes with google\n",
      "4    google  2018-01-17  google sells a.i. for building a.i. (novices w...\n",
      "..      ...         ...                                                ...\n",
      "382  google  2021-02-16  north dakota lawmakers vote down a bill that t...\n",
      "383  google  2021-02-17  google is suddenly paying for news in australi...\n",
      "384  google  2021-02-17  facebook blocks news in australia, diverging w...\n",
      "385  google  2021-02-17  facebook restricts the sharing of news in aust...\n",
      "386  google  2021-02-20  a second google a.i. researcher says the compa...\n",
      "\n",
      "[387 rows x 3 columns]\n"
     ]
    }
   ],
   "source": [
    "df = pd.DataFrame(all_Headlines, columns = [\"Stock\",\"Date\", \"Headline\"])\n",
    "print(len(df))\n",
    "t_headlines = pd.read_csv('Ticker-Headlines - Copy.csv')\n",
    "df2 = pd.DataFrame(t_headlines, columns = [\"Stock\",\"Date\", \"Headline\"])\n",
    "print(len(df2))\n",
    "df_new = pd.concat([df,df2]).drop_duplicates().reset_index(drop=True)\n",
    "print(len(df_new))\n",
    "print(df)\n"
   ]
  },
  {
   "cell_type": "code",
   "execution_count": 42,
   "metadata": {
    "scrolled": false
   },
   "outputs": [
    {
     "name": "stdout",
     "output_type": "stream",
     "text": [
      "2107\n",
      "2569\n",
      "4256\n"
     ]
    }
   ],
   "source": [
    "\n",
    "free_headlines = pd.read_csv(r'C:\\Users\\dcard\\Cap-Repo\\DeepStockNLP\\Data\\18-20-csv\\GOOGL-big-2018-2020-headlines.csv')\n",
    "df3 = pd.DataFrame(free_headlines, columns = [\"Stock\",\"Date\", \"Headline\"])\n",
    "print(len(df3))\n",
    "print(len(df_new))\n",
    "df_final = pd.concat([df_new,df3]).drop_duplicates().reset_index(drop=True)\n",
    "print(len(df_final))\n"
   ]
  },
  {
   "cell_type": "code",
   "execution_count": 46,
   "metadata": {},
   "outputs": [
    {
     "name": "stdout",
     "output_type": "stream",
     "text": [
      "       Stock        Date                                           Headline\n",
      "0     google  2018-01-05           sharing online albums with google photos\n",
      "1     google  2018-01-06  google in toronto’s streets, and a focus on fo...\n",
      "2     google  2018-01-08  google memo author sues, claiming bias against...\n",
      "3     google  2018-01-12                 changing country codes with google\n",
      "4     google  2018-01-17  google sells a.i. for building a.i. (novices w...\n",
      "...      ...         ...                                                ...\n",
      "4251     NaN  2020-12-15  google, facebook, apple and the rest of big te...\n",
      "4252     NaN  2020-12-15  here&quot;s what happened to google&quot;s ser...\n",
      "4253     NaN  2020-12-15  google kills its google home max smart speaker...\n",
      "4254     NaN  2020-12-15  google says internal storage quota issue is to...\n",
      "4255     NaN  2020-12-14  alphabet (googl) dips more than broader market...\n",
      "\n",
      "[4256 rows x 3 columns]\n",
      "            Date                                           Headline\n",
      "0     2018-01-05           sharing online albums with google photos\n",
      "1     2018-01-06  google in toronto’s streets, and a focus on fo...\n",
      "2     2018-01-08  google memo author sues, claiming bias against...\n",
      "3     2018-01-12                 changing country codes with google\n",
      "4     2018-01-17  google sells a.i. for building a.i. (novices w...\n",
      "...          ...                                                ...\n",
      "4251  2020-12-15  google, facebook, apple and the rest of big te...\n",
      "4252  2020-12-15  here&quot;s what happened to google&quot;s ser...\n",
      "4253  2020-12-15  google kills its google home max smart speaker...\n",
      "4254  2020-12-15  google says internal storage quota issue is to...\n",
      "4255  2020-12-14  alphabet (googl) dips more than broader market...\n",
      "\n",
      "[4256 rows x 2 columns]\n"
     ]
    }
   ],
   "source": [
    "print(df_final)\n",
    "del df_final['Stock']\n",
    "print(df_final)"
   ]
  },
  {
   "cell_type": "code",
   "execution_count": 48,
   "metadata": {},
   "outputs": [
    {
     "name": "stdout",
     "output_type": "stream",
     "text": [
      "4256\n"
     ]
    }
   ],
   "source": [
    "df_final.drop_duplicates(inplace = True)\n",
    "print(len(df_final))"
   ]
  },
  {
   "cell_type": "code",
   "execution_count": 47,
   "metadata": {},
   "outputs": [],
   "source": [
    "#This will download the all_Headlines to you computer\n",
    "df_final.to_csv('Merged_2018-2021-2-22-21.csv', index = False)"
   ]
  },
  {
   "cell_type": "code",
   "execution_count": null,
   "metadata": {},
   "outputs": [],
   "source": []
  }
 ],
 "metadata": {
  "kernelspec": {
   "display_name": "Python 3",
   "language": "python",
   "name": "python3"
  },
  "language_info": {
   "codemirror_mode": {
    "name": "ipython",
    "version": 3
   },
   "file_extension": ".py",
   "mimetype": "text/x-python",
   "name": "python",
   "nbconvert_exporter": "python",
   "pygments_lexer": "ipython3",
   "version": "3.8.3"
  }
 },
 "nbformat": 4,
 "nbformat_minor": 4
}
