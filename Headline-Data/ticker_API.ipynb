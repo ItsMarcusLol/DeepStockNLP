{
 "cells": [
  {
   "cell_type": "code",
   "execution_count": 1,
   "metadata": {},
   "outputs": [],
   "source": [
    "#!/usr/bin/env python\n",
    "import pandas as pd\n",
    "import numpy as np\n",
    "import json\n",
    "from datetime import datetime\n",
    "from datetime import date\n",
    "try:\n",
    "    # For Python 3.0 and later\n",
    "    from urllib.request import urlopen\n",
    "except ImportError:\n",
    "    # Fall back to Python 2's urllib2\n",
    "    from urllib2 import urlopen\n",
    "\n",
    "def main():\n",
    "    key = \"f0448bd30a7028e245052fcf3caa0837\"\n",
    "    stocks = ['AAPL','AMZN','MSFT','TSLA','TGT','WMT','DELL','F','BA']\n",
    "    f_output = []\n",
    "\n",
    " \n",
    "    url = (\"https://financialmodelingprep.com/api/v3/stock_news?tickers=GOOGL&apikey=\" + key)\n",
    "    data = get_jsonparsed_data(url)\n",
    "\n",
    "    output = parse_data(data)\n",
    "    \n",
    "    df_final = pd.DataFrame(output, columns = [\"Ticker\", \"Date\", \"Headline\"])\n",
    "    \n",
    "    for st in stocks: \n",
    "        \n",
    "        url = (\"https://financialmodelingprep.com/api/v3/stock_news?tickers=\"+ st + \"&apikey=\" + key)\n",
    "        data = get_jsonparsed_data(url)\n",
    "\n",
    "        output = parse_data(data)\n",
    "        df = pd.DataFrame(output, columns = [\"Ticker\", \"Date\", \"Headline\"])\n",
    "        \n",
    "        df_final = df_final.append(df, ignore_index=True)\n",
    "    \n",
    "\n",
    "\n",
    "    df_old = pd.read_csv('Ticker-Headlines - Copy.csv')\n",
    "    df_new = pd.concat([df_final,df_old]).drop_duplicates().reset_index(drop=True)\n",
    "    df_new.to_csv('Ticker-Headlines - Copy.csv', index = False)   \n",
    "    print(len(df_final))\n",
    "    print(len(df_old))\n",
    "    print(len(df_new))\n",
    "    df_old = pd.read_csv('Ticker-Headlines - Copy.csv')\n",
    "    print(len(df_old))\n",
    "    df_old.drop_duplicates(inplace = True)\n",
    "    print(len(df_old))\n",
    "    df_old.to_csv('Ticker-Headlines - Copy.csv', index = False)  "
   ]
  },
  {
   "cell_type": "code",
   "execution_count": 2,
   "metadata": {},
   "outputs": [],
   "source": [
    "def get_jsonparsed_data(url):\n",
    "    \"\"\"\n",
    "    Receive the content of ``url``, parse it as JSON and return the object.\n",
    "\n",
    "    Parameters\n",
    "    ----------\n",
    "    url : str\n",
    "\n",
    "    Returns\n",
    "    -------\n",
    "    dict\n",
    "    \"\"\"\n",
    "    response = urlopen(url)\n",
    "    data = response.read().decode(\"utf-8\")\n",
    "    return json.loads(data)\n",
    "\n"
   ]
  },
  {
   "cell_type": "code",
   "execution_count": 3,
   "metadata": {},
   "outputs": [],
   "source": [
    "\n",
    "def parse_data(data):\n",
    "    output = []\n",
    "    for d in data:\n",
    "        date = datetime.strptime(d['publishedDate'], '%Y-%m-%d  %H:%M:%S').date()\n",
    "        output.append((d['symbol'],date,d['title']))\n",
    "    return output"
   ]
  },
  {
   "cell_type": "code",
   "execution_count": 4,
   "metadata": {},
   "outputs": [
    {
     "name": "stdout",
     "output_type": "stream",
     "text": [
      "2000\n",
      "2259\n",
      "4241\n",
      "4241\n",
      "2297\n"
     ]
    }
   ],
   "source": [
    "main()\n"
   ]
  },
  {
   "cell_type": "code",
   "execution_count": null,
   "metadata": {},
   "outputs": [],
   "source": [
    "\n",
    "    \n",
    "    "
   ]
  },
  {
   "cell_type": "code",
   "execution_count": null,
   "metadata": {},
   "outputs": [],
   "source": []
  },
  {
   "cell_type": "code",
   "execution_count": null,
   "metadata": {},
   "outputs": [],
   "source": []
  },
  {
   "cell_type": "code",
   "execution_count": null,
   "metadata": {},
   "outputs": [],
   "source": []
  },
  {
   "cell_type": "code",
   "execution_count": null,
   "metadata": {},
   "outputs": [],
   "source": []
  },
  {
   "cell_type": "code",
   "execution_count": null,
   "metadata": {},
   "outputs": [],
   "source": []
  },
  {
   "cell_type": "code",
   "execution_count": null,
   "metadata": {},
   "outputs": [],
   "source": []
  },
  {
   "cell_type": "code",
   "execution_count": null,
   "metadata": {},
   "outputs": [],
   "source": []
  }
 ],
 "metadata": {
  "kernelspec": {
   "display_name": "Python 3",
   "language": "python",
   "name": "python3"
  },
  "language_info": {
   "codemirror_mode": {
    "name": "ipython",
    "version": 3
   },
   "file_extension": ".py",
   "mimetype": "text/x-python",
   "name": "python",
   "nbconvert_exporter": "python",
   "pygments_lexer": "ipython3",
   "version": "3.8.3"
  }
 },
 "nbformat": 4,
 "nbformat_minor": 4
}
