{
 "cells": [
  {
   "cell_type": "code",
   "execution_count": 43,
   "id": "compatible-hearts",
   "metadata": {},
   "outputs": [],
   "source": [
    "#!/usr/bin/env python\n",
    "import pandas as pd\n",
    "import json\n",
    "from datetime import datetime\n",
    "from datetime import date\n",
    "try:\n",
    "    # For Python 3.0 and later\n",
    "    from urllib.request import urlopen\n",
    "except ImportError:\n",
    "    # Fall back to Python 2's urllib2\n",
    "    from urllib2 import urlopen\n",
    "\n",
    "import requests\n",
    "dict = {\"google\" : \"googl\", \"target\" : \"tgt\" , \"walmart\" : \"wmt\", \"dell\" : \"dell\", \"amazon\" : \"amzn\", 'tesla' : \"tsla\",\n",
    "         \"boeing\" : \"ba\", \"microsoft\" : \"msft\", \"ford\" : \"f\", \"apple\":\"aapl\"}\n"
   ]
  },
  {
   "cell_type": "code",
   "execution_count": 44,
   "id": "fitting-forum",
   "metadata": {},
   "outputs": [],
   "source": [
    "def getNYT(stock):\n",
    "    your_key = 'XrEpgzLniLeuVv9Rwai6PZfol6OhEN91'\n",
    "\n",
    "    url = 'https://api.nytimes.com/svc/news/v3/content/all/all/title.json?api-key=' +your_key\n",
    "    r = requests.get(url)\n",
    "    json_data = r.json()\n",
    "    jdata = json_data['results']\n",
    "    daily_Headlines = []\n",
    "\n",
    "    for x in jdata:\n",
    "        if stock in x['title'].lower() :\n",
    "            daily_Headlines.append(x['title'].lower())\n",
    "    df1 = pd.DataFrame(daily_Headlines, columns = [\"Ticker\", \"Date\", \"Headline\"])\n",
    "    return daily_Headlines"
   ]
  },
  {
   "cell_type": "code",
   "execution_count": 45,
   "id": "spatial-constraint",
   "metadata": {},
   "outputs": [],
   "source": [
    "def f_modeling(stock):\n",
    "    key = \"f0448bd30a7028e245052fcf3caa0837\"\n",
    "    stocks = ['AAPL','AMZN','MSFT','TSLA','TGT','WMT','DELL','F','BA']\n",
    "    f_output = []\n",
    "    \n",
    "    url = (\"https://financialmodelingprep.com/api/v3/stock_news?tickers=\"+ dict[stock].upper() + \"&apikey=\" + key)\n",
    "    data = get_jsonparsed_data(url)\n",
    "\n",
    "    output = parse_data(data)\n",
    "    df = pd.DataFrame(output, columns = [\"Ticker\", \"Date\", \"Headline\"])\n",
    "    today = date.today()\n",
    "    i = 0;\n",
    "    for x in df['Date']:\n",
    "        if x == today:\n",
    "             if stock in df['Headline'][i].lower() or dict[stock] in df['Headline'][i].lower() or (stock == \"google\" and \"alphabet\" in df['Headline'][i].lower()):\n",
    "                f_output.append( df['Headline'][i].lower())                \n",
    "        i = i +1\n",
    "\n",
    "    return f_output;"
   ]
  },
  {
   "cell_type": "code",
   "execution_count": 46,
   "id": "attended-bones",
   "metadata": {},
   "outputs": [],
   "source": [
    "def get_jsonparsed_data(url):\n",
    "    \"\"\"\n",
    "    Receive the content of ``url``, parse it as JSON and return the object.\n",
    "\n",
    "    Parameters\n",
    "    ----------\n",
    "    url : str\n",
    "\n",
    "    Returns\n",
    "    -------\n",
    "    dict\n",
    "    \"\"\"\n",
    "    response = urlopen(url)\n",
    "    data = response.read().decode(\"utf-8\")\n",
    "    return json.loads(data)\n"
   ]
  },
  {
   "cell_type": "code",
   "execution_count": 47,
   "id": "continuing-myanmar",
   "metadata": {},
   "outputs": [],
   "source": [
    "\n",
    "def parse_data(data):\n",
    "    output = []\n",
    "    for d in data:\n",
    "        date = datetime.strptime(d['publishedDate'], '%Y-%m-%d  %H:%M:%S').date()\n",
    "        output.append((d['symbol'],date,d['title']))\n",
    "    return output\n"
   ]
  },
  {
   "cell_type": "code",
   "execution_count": 48,
   "id": "smoking-emission",
   "metadata": {},
   "outputs": [],
   "source": [
    "def getPrice(stock):\n",
    "    key = \"f0448bd30a7028e245052fcf3caa0837\"\n",
    "    stocks = ['AAPL','AMZN','MSFT','TSLA','TGT','WMT','DELL','F','BA']\n",
    "    f_output = []\n",
    "    \n",
    "    url = (\"https://financialmodelingprep.com/api/v3/historical-price-full/\"+ dict[stock].upper() + \"?apikey=\" + key)\n",
    "    data = get_jsonparsed_data(url)\n",
    "    data = data['historical']\n",
    "    open = data[0]['open']\n",
    "    close = data[0]['close']\n",
    "    change = close - open\n",
    "    return change\n",
    "    "
   ]
  },
  {
   "cell_type": "code",
   "execution_count": 49,
   "id": "computational-diving",
   "metadata": {},
   "outputs": [],
   "source": [
    "def main():\n",
    "    for x in dict:\n",
    "        head1 = getNYT(x)\n",
    "        head2 = f_modeling(x)\n",
    "        head2.extend(head1)\n",
    "        allH = []\n",
    "        col = []\n",
    "        last = []\n",
    "        i = 0\n",
    "        col.append(\"Label\")\n",
    "        col.append(\"Date\")\n",
    "        if getPrice(x) > 0:\n",
    "            allH.append(1)\n",
    "        else:\n",
    "            allH.append(0)\n",
    "        allH.append( date.today())\n",
    "        for y in head2:\n",
    "            allH.append(str(y).lower())\n",
    "            col.append(\"top\" + str(i + 1))\n",
    "            i = i + 1\n",
    "\n",
    "        last.append(allH)\n",
    "        dfH = pd.DataFrame(last, columns = col)\n",
    "        print(x)\n",
    "        print(dfH)\n",
    "    "
   ]
  },
  {
   "cell_type": "code",
   "execution_count": 50,
   "id": "treated-fantasy",
   "metadata": {},
   "outputs": [
    {
     "name": "stdout",
     "output_type": "stream",
     "text": [
      "google\n",
      "   Label        Date\n",
      "0      0  2021-05-01\n",
      "target\n",
      "   Label        Date\n",
      "0      1  2021-05-01\n",
      "walmart\n",
      "   Label        Date                                      top1\n",
      "0      1  2021-05-01  this is walmart's second biggest country\n",
      "dell\n",
      "   Label        Date\n",
      "0      0  2021-05-01\n",
      "amazon\n",
      "   Label        Date                                               top1  \\\n",
      "0      0  2021-05-01  6 reasons andy jassy could drive amazon's mark...   \n",
      "\n",
      "                                              top2  \\\n",
      "0  why amazon is still planning for massive growth   \n",
      "\n",
      "                                                top3  \n",
      "0  these 24 words from amazon's cfo may mean bill...  \n",
      "tesla\n",
      "   Label        Date                      top1\n",
      "0      1  2021-05-01  tesla's big hit and miss\n",
      "boeing\n",
      "   Label        Date                                         top1\n",
      "0      1  2021-05-01  boeing stumbles again with weak q1 earnings\n",
      "microsoft\n",
      "   Label        Date                                               top1\n",
      "0      1  2021-05-01  how video games helped microsoft and sony turn...\n",
      "ford\n",
      "   Label        Date\n",
      "0      1  2021-05-01\n",
      "apple\n",
      "   Label        Date                                               top1\n",
      "0      0  2021-05-01  how apple does m&a: small and quiet, with no b...\n"
     ]
    }
   ],
   "source": [
    "main()"
   ]
  },
  {
   "cell_type": "code",
   "execution_count": null,
   "id": "common-portsmouth",
   "metadata": {},
   "outputs": [],
   "source": []
  },
  {
   "cell_type": "code",
   "execution_count": null,
   "id": "major-laundry",
   "metadata": {},
   "outputs": [],
   "source": []
  }
 ],
 "metadata": {
  "kernelspec": {
   "display_name": "Python 3",
   "language": "python",
   "name": "python3"
  },
  "language_info": {
   "codemirror_mode": {
    "name": "ipython",
    "version": 3
   },
   "file_extension": ".py",
   "mimetype": "text/x-python",
   "name": "python",
   "nbconvert_exporter": "python",
   "pygments_lexer": "ipython3",
   "version": "3.8.8"
  }
 },
 "nbformat": 4,
 "nbformat_minor": 5
}
